{
 "cells": [
  {
   "cell_type": "code",
   "execution_count": 1,
   "id": "5ab5a324-68b9-463c-888a-e48df2c12745",
   "metadata": {},
   "outputs": [
    {
     "data": {
      "text/plain": [
       "'C:\\\\Users\\\\DarioAlejandroLatorr\\\\OneDrive\\\\claro_20_abril_2021\\\\ENVIO_DARIO'"
      ]
     },
     "execution_count": 1,
     "metadata": {},
     "output_type": "execute_result"
    }
   ],
   "source": [
    "import os\n",
    "import pandas as pd\n",
    "import seaborn as sns\n",
    "from Priorizacion_funciones.ocupacion_nodos_funs import *\n",
    "from Priorizacion_funciones.modelo_forecast_funs import *\n",
    "from Priorizacion_funciones.analisis_funcional_nodos import *\n",
    "import skfda\n",
    "os.getcwd()"
   ]
  },
  {
   "cell_type": "code",
   "execution_count": 2,
   "id": "866e6406-9925-4e5e-bf2b-5cf5dc1d31c4",
   "metadata": {},
   "outputs": [],
   "source": [
    "%load_ext autoreload\n",
    "%autoreload 2\n",
    "%matplotlib qt"
   ]
  },
  {
   "cell_type": "code",
   "execution_count": 3,
   "id": "5b3e11ab-db8f-414a-9683-aa35bdbca361",
   "metadata": {},
   "outputs": [],
   "source": [
    "## archivos txt: lectura de archivos de agosto de 2020 a enero 2021\n",
    "path_fun = lambda x: f'Datos_heavy_users/consolidar_trafico_users/ipdr202{x}01.txt'\n",
    "list_mes = ['008','009','010','011','012','101']\n",
    "list_cols = ['_c0','flbb_down_traffic_bytes','subscriber_id','flbb_up_traffic_bytes']\n",
    "df_1 = pd.concat([pd.read_csv(path_fun(x), sep='|', usecols=list_cols) for x in list_mes])\n",
    "\n",
    "df_1 = df_1[(df_1['flbb_down_traffic_bytes']!='flbb_down_traffic_bytes')].copy()\n",
    "df_1 = df_1[df_1['subscriber_id']!='Unknown'].copy()\n",
    "\n",
    "df_1['flbb_down_traffic_bytes'] = df_1['flbb_down_traffic_bytes'].astype('float')\n",
    "df_1['flbb_up_traffic_bytes'] = df_1['flbb_up_traffic_bytes'].astype('float')\n",
    "df_1['subscriber_id'] = df_1['subscriber_id'].astype('int64')\n",
    "df_1['_c0'] = [x[:-2] for x in df_1['_c0']]\n",
    "dic_names = {'_c0':'ANIO_MES','flbb_down_traffic_bytes':'TRAFICO_DOWN_BYTES',\n",
    "            'flbb_up_traffic_bytes':'TRAFICO_UP_BYTES', 'subscriber_id':'CUENTA'}\n",
    "df_1.rename(columns=dic_names, inplace=True)\n",
    "## archivos csv: lectura de archivos de marzo a mayo \n",
    "path_fun = lambda x:  f'Datos_heavy_users/consolidar_trafico_users/traf_user_20210{x}.csv'\n",
    "list_mes = ['3','4','5']\n",
    "list_cols = ['ANIO_MES','TRAFICO_DOWN_BYTES','CUENTA','TRAFICO_UP_BYTES']\n",
    "df_2 = pd.concat([pd.read_csv(path_fun(x), usecols=list_cols) for x in list_mes])\n",
    "\n",
    "df = pd.concat([df_1, df_2])\n",
    "\n",
    "df['TRAFICO_TOTAL_BYTES'] = df['TRAFICO_DOWN_BYTES'] + df['TRAFICO_UP_BYTES']"
   ]
  },
  {
   "cell_type": "code",
   "execution_count": 4,
   "id": "ee81f0fb-b6fd-4347-bc6b-3fb89dbb7a0c",
   "metadata": {
    "tags": []
   },
   "outputs": [
    {
     "data": {
      "text/plain": [
       "SERVICIOS                               \n",
       "@ + VOZ                                     1742283\n",
       "TV + @ + VOZ                                1479195\n",
       "Unknown                                        3129\n",
       "CR 7                                             15\n",
       "CL 19                                            14\n",
       "                                             ...   \n",
       "CL 56FSUR TORRE 9                                 1\n",
       "AV LAROSITA TORRE NORTE                           1\n",
       "CL 57 PIEDRAPINTADA ETAPA 1 MZC                   1\n",
       "CL 57 TORRE 1                                     1\n",
       "VIA VARIANTECAJICAZIPAQUIRA KM4 TORRE 11          1\n",
       "Length: 2608, dtype: int64"
      ]
     },
     "execution_count": 4,
     "metadata": {},
     "output_type": "execute_result"
    }
   ],
   "source": [
    "pd.read_csv(path_fun(5), usecols=['SERVICIOS']).value_counts()"
   ]
  },
  {
   "cell_type": "code",
   "execution_count": 5,
   "id": "c4828e30-e109-4e71-9496-892630fdfd10",
   "metadata": {},
   "outputs": [
    {
     "name": "stdout",
     "output_type": "stream",
     "text": [
      "----------------------------------------------------------------------------------------------------\n",
      "Faltantes:\n",
      "----------------------------------------------------------------------------------------------------\n",
      "202009 --> 997499\n",
      "202010 --> 989830\n",
      "202011 --> 1023817\n",
      "202012 --> 982092\n",
      "202101 --> 1016260\n",
      "202103 --> 722489\n",
      "202104 --> 554072\n",
      "202105 --> 629615\n",
      "----------------------------------------------------------------------------------------------------\n",
      "Faltantes después de interpolar:\n",
      "----------------------------------------------------------------------------------------------------\n",
      "202009 --> 976124\n",
      "202010 --> 953103\n",
      "202011 --> 971749\n",
      "202012 --> 931239\n",
      "202101 --> 956025\n",
      "202103 --> 619221\n",
      "202104 --> 510754\n",
      "202105 --> 629615\n"
     ]
    }
   ],
   "source": [
    "df_total = pd.pivot_table(df, columns ='ANIO_MES', values='TRAFICO_TOTAL_BYTES',\n",
    "                         index ='CUENTA', aggfunc='sum').reset_index()\n",
    "df_total.rename(columns = {x: str(x) for x in df_total.columns}, inplace=True)\n",
    "df_total.set_index('CUENTA', inplace=True)\n",
    "lista = ['202008', '202009', '202010', '202011', '202012', '202101',\n",
    "         '202103','202104', '202105']\n",
    "df_total = df_total[lista]\n",
    "print(f'{100*\"-\"}\\nFaltantes:\\n{100*\"-\"}')\n",
    "for col in df_total.columns[1:]:\n",
    "    print(f'{col} --> {sum(df_total[col].isnull())}')\n",
    "    \n",
    "df_total.interpolate(method='linear', limit_area='inside',axis=1,inplace=True)\n",
    "\n",
    "print(f'{100*\"-\"}\\nFaltantes después de interpolar:\\n{100*\"-\"}')\n",
    "for col in df_total.columns[1:]:\n",
    "    print(f'{col} --> {sum(df_total[col].isnull())}')"
   ]
  },
  {
   "cell_type": "code",
   "execution_count": 6,
   "id": "e58c3d0d-f445-49e4-b7b8-d9369e8176f5",
   "metadata": {},
   "outputs": [],
   "source": [
    "df_total.to_csv('Datos_heavy_users/consolidar_trafico_users/trafico_total_meses.csv')"
   ]
  },
  {
   "cell_type": "markdown",
   "id": "bdcaa190-7361-48fb-8776-4f9475f6eeb4",
   "metadata": {},
   "source": [
    "## Consolidación"
   ]
  },
  {
   "cell_type": "code",
   "execution_count": 3,
   "id": "6e04895f-1d53-4ce7-ab64-2bdc06430e87",
   "metadata": {},
   "outputs": [],
   "source": [
    "import pandas as pd\n",
    "import numpy as np\n",
    "import seaborn as sns\n",
    "df_total = pd.read_csv('Datos_heavy_users/consolidar_trafico_users/trafico_total_meses.csv', index_col=['CUENTA'])"
   ]
  },
  {
   "cell_type": "code",
   "execution_count": 4,
   "id": "e164d596-a414-4c18-9ffa-abe4c98cf8eb",
   "metadata": {},
   "outputs": [
    {
     "name": "stdout",
     "output_type": "stream",
     "text": [
      "<class 'pandas.core.frame.DataFrame'>\n",
      "Int64Index: 3376013 entries, 307 to 99699993\n",
      "Data columns (total 18 columns):\n",
      " #   Column                          Non-Null Count    Dtype  \n",
      "---  ------                          --------------    -----  \n",
      " 0   202105                          2746398 non-null  float64\n",
      " 1   TRAFICO MEDIO                   3376013 non-null  float64\n",
      " 2   TRAFICO MINIMO                  3376013 non-null  float64\n",
      " 3   TRAFICO MAXIMO                  3376013 non-null  float64\n",
      " 4   CONTEO MEDICIONES               3376013 non-null  int64  \n",
      " 5   DESVEST TRAFICO                 3214683 non-null  float64\n",
      " 6   TRAFICO MEDIO AG20-ENE21        2635654 non-null  float64\n",
      " 7   TRAFICO MEDIO MAR21-MAY21       3052388 non-null  float64\n",
      " 8   TRAFICO ULT TRES MESES          3376013 non-null  bool   \n",
      " 9   202008_HU                       3376013 non-null  int32  \n",
      " 10  202009_HU                       3376013 non-null  int32  \n",
      " 11  202010_HU                       3376013 non-null  int32  \n",
      " 12  202011_HU                       3376013 non-null  int32  \n",
      " 13  202012_HU                       3376013 non-null  int32  \n",
      " 14  202101_HU                       3376013 non-null  int32  \n",
      " 15  202103_HU                       3376013 non-null  int32  \n",
      " 16  202104_HU                       3376013 non-null  int32  \n",
      " 17  PROP HU RESP CONTEO MEDICIONES  3311303 non-null  float64\n",
      "dtypes: bool(1), float64(8), int32(8), int64(1)\n",
      "memory usage: 363.8 MB\n"
     ]
    }
   ],
   "source": [
    "df_total_resumen = df_total[['202105']].copy()\n",
    "\n",
    "df_total_resumen['TRAFICO MEDIO'] = df_total.mean(1)\n",
    "df_total_resumen['TRAFICO MINIMO'] = df_total.min(1)\n",
    "df_total_resumen['TRAFICO MAXIMO'] = df_total.max(1)\n",
    "df_total_resumen['CONTEO MEDICIONES'] = df_total.drop(columns=['202105']).count(1)\n",
    "df_total_resumen['DESVEST TRAFICO'] = df_total.std(1)\n",
    "df_total_resumen['TRAFICO MEDIO AG20-ENE21'] = df_total[['202008', '202009', '202010', '202011', '202012', '202101']].mean(1)\n",
    "df_total_resumen['TRAFICO MEDIO MAR21-MAY21'] = df_total[['202103','202104', '202105']].mean(1)\n",
    "df_total_resumen['TRAFICO ULT TRES MESES'] = (df_total[['202103','202104', '202105']].count(1) ==3)\n",
    "\n",
    "list_cols_hu = []\n",
    "for col in df_total.drop(columns=['202105']).columns:\n",
    "    col_name = col+'_HU'\n",
    "    df_total_resumen[col_name] = (((df_total[col] -df_total[col].mean())/(df_total[col].std())) >1)*1 \n",
    "    list_cols_hu.append(col_name)\n",
    "df_total_resumen['PROP HU RESP CONTEO MEDICIONES'] =  df_total_resumen[list_cols_hu].sum(1)/df_total_resumen['CONTEO MEDICIONES']\n",
    "df_total_resumen.info(show_counts =True)"
   ]
  },
  {
   "cell_type": "code",
   "execution_count": 5,
   "id": "980ed797-c019-4493-95c5-91ce5a9d1e4a",
   "metadata": {
    "tags": []
   },
   "outputs": [
    {
     "name": "stdout",
     "output_type": "stream",
     "text": [
      "<class 'pandas.core.frame.DataFrame'>\n",
      "Int64Index: 3549552 entries, 0 to 3549551\n",
      "Data columns (total 23 columns):\n",
      " #   Column                          Non-Null Count    Dtype  \n",
      "---  ------                          --------------    -----  \n",
      " 0   CUENTA                          3006659 non-null  float64\n",
      " 1   202105                          2812213 non-null  float64\n",
      " 2   TRAFICO MEDIO                   3006659 non-null  float64\n",
      " 3   TRAFICO MINIMO                  3006659 non-null  float64\n",
      " 4   TRAFICO MAXIMO                  3006659 non-null  float64\n",
      " 5   CONTEO MEDICIONES               3006659 non-null  float64\n",
      " 6   DESVEST TRAFICO                 2962769 non-null  float64\n",
      " 7   TRAFICO MEDIO AG20-ENE21        2313831 non-null  float64\n",
      " 8   TRAFICO MEDIO MAR21-MAY21       2952168 non-null  float64\n",
      " 9   TRAFICO ULT TRES MESES          3006659 non-null  object \n",
      " 10  202008_HU                       3006659 non-null  float64\n",
      " 11  202009_HU                       3006659 non-null  float64\n",
      " 12  202010_HU                       3006659 non-null  float64\n",
      " 13  202011_HU                       3006659 non-null  float64\n",
      " 14  202012_HU                       3006659 non-null  float64\n",
      " 15  202101_HU                       3006659 non-null  float64\n",
      " 16  202103_HU                       3006659 non-null  float64\n",
      " 17  202104_HU                       3006659 non-null  float64\n",
      " 18  PROP HU RESP CONTEO MEDICIONES  2976771 non-null  float64\n",
      " 19  CODIGO_CUENTA                   3549552 non-null  int64  \n",
      " 20  RENTA_MENSUAL                   3549552 non-null  float64\n",
      " 21  ESTRATO                         3549552 non-null  object \n",
      " 22  NODO                            3549551 non-null  object \n",
      "dtypes: float64(19), int64(1), object(3)\n",
      "memory usage: 649.9+ MB\n"
     ]
    }
   ],
   "source": [
    "cols_info = ['NODO','CODIGO_CUENTA','RENTA_MENSUAL','ESTRATO'] \n",
    "df_total_resumen = df_total_resumen.reset_index().merge(pd.read_csv(\"DATA_RR/DATOS_RR_202105.csv\",sep=';', usecols=cols_info),\n",
    "                                                       how='right', left_on ='CUENTA', right_on='CODIGO_CUENTA')\n",
    "df_total_resumen.info(show_counts =True)"
   ]
  },
  {
   "cell_type": "code",
   "execution_count": 6,
   "id": "536a68cf-a1a7-48c2-8428-893a7c42cff2",
   "metadata": {},
   "outputs": [
    {
     "data": {
      "text/plain": [
       "False    3417715\n",
       "True      131837\n",
       "Name: HEAVY USERS, dtype: int64"
      ]
     },
     "execution_count": 6,
     "metadata": {},
     "output_type": "execute_result"
    }
   ],
   "source": [
    "df_total_resumen['HEAVY USERS'] = (df_total_resumen['PROP HU RESP CONTEO MEDICIONES']>=0.5)\n",
    "df_total_resumen['HEAVY USERS'].value_counts()"
   ]
  },
  {
   "cell_type": "code",
   "execution_count": 7,
   "id": "04682d2a-c840-4a72-ab25-7f8edc7ff3ce",
   "metadata": {},
   "outputs": [
    {
     "data": {
      "text/plain": [
       "<AxesSubplot:xlabel='HEAVY USERS', ylabel='TRAFICO MEDIO'>"
      ]
     },
     "execution_count": 7,
     "metadata": {},
     "output_type": "execute_result"
    }
   ],
   "source": [
    "sns.boxplot(data=df_total_resumen, x='HEAVY USERS', y='TRAFICO MEDIO')"
   ]
  },
  {
   "cell_type": "code",
   "execution_count": 8,
   "id": "edd80295-7617-4046-aca3-fdc65b65d1a7",
   "metadata": {},
   "outputs": [
    {
     "data": {
      "text/plain": [
       "<AxesSubplot:xlabel='HEAVY USERS', ylabel='TRAFICO MINIMO'>"
      ]
     },
     "execution_count": 8,
     "metadata": {},
     "output_type": "execute_result"
    }
   ],
   "source": [
    "sns.boxplot(data=df_total_resumen, x='HEAVY USERS', y='TRAFICO MINIMO')"
   ]
  },
  {
   "cell_type": "code",
   "execution_count": 9,
   "id": "842dea54-90d0-46a8-88bb-8dda2b0f0544",
   "metadata": {},
   "outputs": [
    {
     "data": {
      "text/plain": [
       "<AxesSubplot:xlabel='HEAVY USERS', ylabel='TRAFICO MAXIMO'>"
      ]
     },
     "execution_count": 9,
     "metadata": {},
     "output_type": "execute_result"
    }
   ],
   "source": [
    "sns.boxplot(data=df_total_resumen, x='HEAVY USERS', y='TRAFICO MAXIMO')"
   ]
  },
  {
   "cell_type": "code",
   "execution_count": 11,
   "id": "31039b92-631c-437e-b7b0-0dfa20600771",
   "metadata": {},
   "outputs": [
    {
     "data": {
      "text/plain": [
       "<AxesSubplot:xlabel='202105', ylabel='HEAVY USERS'>"
      ]
     },
     "execution_count": 11,
     "metadata": {},
     "output_type": "execute_result"
    }
   ],
   "source": [
    "sns.boxplot(data=df_total_resumen, y='HEAVY USERS', x='202105', orient='h')"
   ]
  },
  {
   "cell_type": "code",
   "execution_count": 15,
   "id": "bef7e847-120e-4e88-bb7c-7bf4f19c2b97",
   "metadata": {},
   "outputs": [
    {
     "name": "stdout",
     "output_type": "stream",
     "text": [
      "0.24037851001634797\n",
      "0.04543290284199668\n"
     ]
    }
   ],
   "source": [
    "print(df_total_resumen.loc[df_total_resumen['HEAVY USERS'],'202105'].sum() /df_total_resumen['202105'].sum())\n",
    "print(df_total_resumen.loc[df_total_resumen['HEAVY USERS'],'202105'].count() /df_total_resumen['202105'].count())"
   ]
  },
  {
   "cell_type": "code",
   "execution_count": null,
   "id": "84f72a23-a9c4-4004-81d0-dffa10e085c0",
   "metadata": {},
   "outputs": [],
   "source": []
  },
  {
   "cell_type": "code",
   "execution_count": null,
   "id": "43112224-b7af-4f22-903f-4784db0b1cf1",
   "metadata": {},
   "outputs": [],
   "source": []
  }
 ],
 "metadata": {
  "kernelspec": {
   "display_name": "Python 3",
   "language": "python",
   "name": "python3"
  },
  "language_info": {
   "codemirror_mode": {
    "name": "ipython",
    "version": 3
   },
   "file_extension": ".py",
   "mimetype": "text/x-python",
   "name": "python",
   "nbconvert_exporter": "python",
   "pygments_lexer": "ipython3",
   "version": "3.8.5"
  }
 },
 "nbformat": 4,
 "nbformat_minor": 5
}
