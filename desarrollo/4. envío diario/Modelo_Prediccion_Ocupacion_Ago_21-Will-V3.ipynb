{
 "cells": [
  {
   "cell_type": "markdown",
   "id": "2aee5f23",
   "metadata": {},
   "source": [
    "# Modelo Predicción de Ocupación"
   ]
  },
  {
   "cell_type": "markdown",
   "id": "6f731527",
   "metadata": {},
   "source": [
    "## Contenido\n",
    "* Parámetros generales e Importacion de biblioticas\n",
    "* Carga de los datos\n",
    "* Parámetros Generales\n",
    "* Preprocesamiento\n",
    " * Unificación \n",
    "* Modelo\n",
    " * Procesamiento\n",
    " * Tidy Table\n",
    " * Separación Xvar y Yvar  (número variable de periodo)\n",
    " * Separacion Train y Test\n",
    " * Configuración de los Modelos\n",
    " * Funciones \n",
    "  * F. para evaluar varios modelos\n",
    "  * F. para categorizar en semáforo\n",
    "  * F. Evaluación de resultados Exactitud\n",
    "* Generacion de Pronosticos a futuro\n",
    " * Procesamiento entrada para pronóstico\n",
    " * Ejecución del modelos y archivo de entrega"
   ]
  },
  {
   "cell_type": "markdown",
   "id": "59314022",
   "metadata": {},
   "source": [
    "## Parámetros generales e Importacion de biblioticas"
   ]
  },
  {
   "cell_type": "code",
   "execution_count": 1,
   "id": "e4820f1c",
   "metadata": {},
   "outputs": [],
   "source": [
    "%load_ext autoreload\n",
    "%autoreload 2"
   ]
  },
  {
   "cell_type": "code",
   "execution_count": 2,
   "id": "9fe24e62",
   "metadata": {},
   "outputs": [],
   "source": [
    "import pandas as pd\n",
    "import numpy as np\n",
    "import matplotlib.pyplot as plt\n",
    "import seaborn as sns\n",
    "import shap\n",
    "from datetime import datetime\n",
    "from dateutil.relativedelta import relativedelta\n",
    "from imblearn.over_sampling import SMOTE\n",
    "import xgboost as xgb\n",
    "from xgboost import plot_importance\n",
    "from lightgbm import LGBMClassifier\n",
    "from sklearn.metrics import confusion_matrix # es una manera para resumir los datos \n",
    "from sklearn.model_selection import train_test_split\n",
    "from sklearn.metrics import roc_curve #roc_curve\n",
    "from sklearn.metrics import roc_auc_score #auc"
   ]
  },
  {
   "cell_type": "markdown",
   "id": "d6fa6faf",
   "metadata": {},
   "source": [
    "## Carga de los datos"
   ]
  },
  {
   "cell_type": "code",
   "execution_count": 3,
   "id": "6a571a42",
   "metadata": {},
   "outputs": [],
   "source": [
    "df_Nodosokla= pd.read_csv('Modelo xgboost and LGBM/datosNuevoModelo/NODOS_INFO_OOKLA.csv',sep=';', header = 0)\n",
    "data_ocupacionNodo = pd.read_csv('Modelo xgboost and LGBM/datosNuevoModelo/OCUPACION_NODO.csv', sep=';')\n",
    "data_NodoINFI = pd.read_csv('Modelo xgboost and LGBM/datosNuevoModelo/NODO_INFI.csv', sep=';')\n",
    "data_SEG = pd.read_csv('Modelo xgboost and LGBM/datosNuevoModelo/compiladoFinal.csv', sep=';') "
   ]
  },
  {
   "cell_type": "markdown",
   "id": "930bc189",
   "metadata": {},
   "source": [
    "### Base OOKLA"
   ]
  },
  {
   "cell_type": "code",
   "execution_count": 4,
   "id": "457c70b9",
   "metadata": {},
   "outputs": [],
   "source": [
    "df_Nodosokla['DIA']=1 # le agrego la columna dia\n",
    "df_Nodosokla['MES'] = [f'0{x}' if x <10 else str(x) for x in df_Nodosokla['MES']]\n",
    "df_Nodosokla['DIA'] = [f'0{x}' if x <10 else str(x) for x in df_Nodosokla['DIA']]\n",
    "df_Nodosokla['FECHA'] = df_Nodosokla['ANIO'].astype('str') + '-' + df_Nodosokla['MES'] + '-' + df_Nodosokla['DIA']\n",
    "# eliminamos columnas cobrantes\n",
    "df_Nodosokla=df_Nodosokla.drop(['DIA','MES','ANIO'], axis=1)\n",
    "# ordenamos\n",
    "df_Nodosokla = df_Nodosokla[['NODO','FECHA', 'OPERADOR','CANTIDAD','DOWNLOAD_KBPS','UPLOAD_KBPS','LATENCY','FLAG_LAT']] \n",
    "# # renombramos columnas\n",
    "df_Nodosokla.rename(columns={'NODO':'COD_NODO'}, inplace=True)\n",
    "df_Nodosokla_Claro=df_Nodosokla[df_Nodosokla[\"OPERADOR\"]==\"CLARO\"]\n",
    "del(df_Nodosokla_Claro['OPERADOR'])"
   ]
  },
  {
   "cell_type": "markdown",
   "id": "94aa1897",
   "metadata": {},
   "source": [
    "### Base data_NodoINF"
   ]
  },
  {
   "cell_type": "code",
   "execution_count": 5,
   "id": "7abc10de",
   "metadata": {},
   "outputs": [],
   "source": [
    "data_NodoINFI['DIA']=1 # le agrego la columna dia\n",
    "data_NodoINFI['MES'] = [f'0{x}' if x <10 else str(x) for x in data_NodoINFI['MES']]\n",
    "data_NodoINFI['DIA'] = [f'0{x}' if x <10 else str(x) for x in data_NodoINFI['DIA']]\n",
    "data_NodoINFI['FECHA'] = (2000+data_NodoINFI['ANIO']).astype('str') + '-' + data_NodoINFI['MES'] + '-' + data_NodoINFI['DIA']\n",
    "# eliminamos columnas sobrantes\n",
    "data_NodoINFI=data_NodoINFI.drop(['DIA','MES','ANIO'], axis=1)\n",
    "# # renombramos columnas\n",
    "data_NodoINFI.rename(columns={'NODO':'COD_NODO'}, inplace=True)\n",
    "### completar Nullos con 0\n",
    "data_NodoINFI=data_NodoINFI.fillna(0)"
   ]
  },
  {
   "cell_type": "markdown",
   "id": "233b9714",
   "metadata": {},
   "source": [
    "### Base data_NodoINF data_SEG"
   ]
  },
  {
   "cell_type": "code",
   "execution_count": 6,
   "id": "94a7639e",
   "metadata": {},
   "outputs": [],
   "source": [
    "data_SEG.drop(['NUEVA ESTRUCTURA'], axis=1,inplace=True)\n",
    "data_SEG['SEGMENTADO']=1"
   ]
  },
  {
   "cell_type": "markdown",
   "id": "0da3db86",
   "metadata": {},
   "source": [
    "## Preprocesamiento\n",
    "### Unificacion"
   ]
  },
  {
   "cell_type": "code",
   "execution_count": 7,
   "id": "c5e793bf",
   "metadata": {},
   "outputs": [],
   "source": [
    "data_ocupacion=pd.merge(data_ocupacionNodo, data_NodoINFI, on = ('COD_NODO','FECHA'), how='left')\n",
    "#data_ocupacion=pd.merge(data_ocupacion, df_Nodosokla_Claro, on = ('COD_NODO','FECHA'), how='left')\n",
    "data_ocupacion=pd.merge(data_ocupacion, data_SEG, on = ('COD_NODO','FECHA'), how='left')"
   ]
  },
  {
   "cell_type": "markdown",
   "id": "04c0b8c6",
   "metadata": {},
   "source": [
    "### Parámetros generales"
   ]
  },
  {
   "cell_type": "code",
   "execution_count": 8,
   "id": "3c7cb1cc",
   "metadata": {},
   "outputs": [],
   "source": [
    "fechaMaxima=datetime.strptime(data_ocupacion['FECHA'].max(),'%Y-%m-%d')\n",
    "periodos_y=7\n",
    "periodos_x=7\n",
    "variable_prediccion='OCUPACION_DW'"
   ]
  },
  {
   "cell_type": "code",
   "execution_count": 9,
   "id": "1bd0a80b",
   "metadata": {},
   "outputs": [],
   "source": [
    "fechaLimite=fechaMaxima + relativedelta(months=-1*periodos_y)\n",
    "fechaInicial=fechaLimite + relativedelta(months=-1*periodos_x)"
   ]
  },
  {
   "cell_type": "markdown",
   "id": "afb981cc",
   "metadata": {},
   "source": [
    "### Selección Fechas"
   ]
  },
  {
   "cell_type": "code",
   "execution_count": 10,
   "id": "26eb5099",
   "metadata": {},
   "outputs": [],
   "source": [
    "## Eliminar informaición anterior Junion 2022\n",
    "data_ocupacion['FECHA']=data_ocupacion['FECHA'].astype('datetime64[ns]')\n",
    "### Elininar datos últimos mes\n",
    "data_ocupacion=data_ocupacion[data_ocupacion['FECHA']>=fechaInicial]\n",
    "### Eliminar Fecha Final  (mes incompleto)\n",
    "data_ocupacion=data_ocupacion[data_ocupacion['FECHA']<fechaMaxima]"
   ]
  },
  {
   "cell_type": "markdown",
   "id": "6a353ac7",
   "metadata": {},
   "source": [
    "##  Funciones"
   ]
  },
  {
   "cell_type": "code",
   "execution_count": 11,
   "id": "fab1ca38",
   "metadata": {},
   "outputs": [],
   "source": [
    "#Funcion para Calcular el número de periodos hacia atrás\n",
    "def diff_month(d1, d2):\n",
    "    return (d1.year - d2.dt.year) * 12 + d1.month - d2.dt.month"
   ]
  },
  {
   "cell_type": "code",
   "execution_count": 12,
   "id": "5dc2476d",
   "metadata": {},
   "outputs": [],
   "source": [
    "def semaforo(df, col):\n",
    "    df = df.copy()\n",
    "    df.loc[(df[col]>=0.6) & (df[col]<=0.8), 'ESTATUS'] = 'AMARILLO'\n",
    "    df.loc[df[col]>0.8, 'ESTATUS'] = 'ROJO'\n",
    "    df.loc[df[col]<0.6, 'ESTATUS'] = 'VERDE'\n",
    "    return(df)"
   ]
  },
  {
   "cell_type": "code",
   "execution_count": 13,
   "id": "445a0076",
   "metadata": {},
   "outputs": [],
   "source": [
    "def semaforoVal(val):\n",
    "    #df = df.copy()\n",
    "    respuesta='V'\n",
    "    if (val>=0.6) & (val<=0.8):\n",
    "        respuesta='A'\n",
    "    elif val>0.8:\n",
    "        respuesta='R'\n",
    "    return(respuesta)"
   ]
  },
  {
   "cell_type": "code",
   "execution_count": 14,
   "id": "60f9ccfa",
   "metadata": {},
   "outputs": [],
   "source": [
    "def semaforoNum2Val(val):   \n",
    "    respuesta='V'\n",
    "    if val==1:\n",
    "        respuesta='A'\n",
    "    elif val==2:\n",
    "        respuesta='R'\n",
    "    return(respuesta)"
   ]
  },
  {
   "cell_type": "code",
   "execution_count": 15,
   "id": "bfd9b00e",
   "metadata": {},
   "outputs": [],
   "source": [
    "def semaforoRojo(val):    \n",
    "    if val>0.8:\n",
    "        respuesta=1\n",
    "    else :\n",
    "        respuesta=0\n",
    "    return(respuesta)"
   ]
  },
  {
   "cell_type": "code",
   "execution_count": 16,
   "id": "d637d27e",
   "metadata": {},
   "outputs": [],
   "source": [
    "def semaforoAmarillo(val):    \n",
    "    if (val>=0.6) & (val<=0.8):\n",
    "        respuesta=1\n",
    "    else :\n",
    "        respuesta=0\n",
    "    return(respuesta)"
   ]
  },
  {
   "cell_type": "code",
   "execution_count": 17,
   "id": "d3b65df4",
   "metadata": {},
   "outputs": [],
   "source": [
    "def semaforoRojoAmarillo(val):    \n",
    "    if val>=0.6:\n",
    "        respuesta=1\n",
    "    else :\n",
    "        respuesta=0\n",
    "    return(respuesta)"
   ]
  },
  {
   "cell_type": "code",
   "execution_count": 18,
   "id": "50378ad9",
   "metadata": {},
   "outputs": [],
   "source": [
    "def semaforoNum(val):\n",
    "    #df = df.copy()\n",
    "    respuesta=0\n",
    "    if (val>=0.6) & (val<=0.8):\n",
    "        respuesta=1\n",
    "    elif val>0.8:\n",
    "        respuesta=2\n",
    "    return(respuesta)"
   ]
  },
  {
   "cell_type": "code",
   "execution_count": 19,
   "id": "80e41f42",
   "metadata": {},
   "outputs": [],
   "source": [
    "def semaforoNum2Rojo(val):    \n",
    "    respuesta=0\n",
    "    if val==2:\n",
    "        respuesta=1    \n",
    "    return(respuesta)"
   ]
  },
  {
   "cell_type": "code",
   "execution_count": 20,
   "id": "b85798fe",
   "metadata": {},
   "outputs": [],
   "source": [
    "def semaforoNum2Amarillo(val):    \n",
    "    respuesta=0\n",
    "    if val==1:\n",
    "        respuesta=1    \n",
    "    return(respuesta)"
   ]
  },
  {
   "cell_type": "code",
   "execution_count": 21,
   "id": "55db954f",
   "metadata": {},
   "outputs": [],
   "source": [
    "def semaforoNum2RojoAmarillo(val):    \n",
    "    respuesta=0\n",
    "    if val>=1:\n",
    "        respuesta=1    \n",
    "    return(respuesta)"
   ]
  },
  {
   "cell_type": "code",
   "execution_count": 22,
   "id": "0657919e",
   "metadata": {},
   "outputs": [],
   "source": [
    "def medidasEvaluacion(matrizConfucion):\n",
    "    exactitud=np.trace(matrizConfucion)/matrizConfucion.sum()\n",
    "    print ('exactitud:', exactitud)\n",
    "    sensibilidad=[0]*3\n",
    "    especificidad=[0]*3\n",
    "    for i in range(0,len(matrizConfucion)):\n",
    "        sensibilidad[i]=matrizConfucion[i,i]/matrizConfucion.sum(axis=1)[i]\n",
    "        especificidad[i]=np.delete(np.delete(matrizConfucion,i, axis=0),i,axis=1).sum()/np.delete(matrizConfucion,i, axis=0).sum()\n",
    "        print ('sensibilidad ',i,\": \",sensibilidad[i])\n",
    "        print ('especificidad ',i,\": \",especificidad[i])"
   ]
  },
  {
   "cell_type": "code",
   "execution_count": 23,
   "id": "ab8ee092",
   "metadata": {},
   "outputs": [],
   "source": [
    "def sampling_strategy(X,y,n_samples,t='majority'):\n",
    "    target_classes=''\n",
    "    if t== 'majority':\n",
    "        target_classes= y.value_counts() >n_samples\n",
    "    elif t== 'minority':\n",
    "        target_classes = y.value_counts() < n_samples\n",
    "    tc=target_classes[target_classes ==True].index\n",
    "    #target_classes_all=y.value_counts().index\n",
    "    sampling_strategy={}\n",
    "    for target in tc:\n",
    "        sampling_strategy[target]= n_samples\n",
    "    return sampling_strategy"
   ]
  },
  {
   "cell_type": "code",
   "execution_count": 24,
   "id": "660df9fa",
   "metadata": {},
   "outputs": [],
   "source": [
    "def df2Feature_importanceClass(x_train_b,mod,title):\n",
    "    #shap_test = x_train_b.sample(1000)\n",
    "    shap_test = x_train_b\n",
    "    shap_values = shap.TreeExplainer(mod).shap_values(shap_test)\n",
    "    plt.figure()\n",
    "    plt.title(title)\n",
    "    shap.summary_plot(shap_values, shap_test,max_display=30)\n",
    "    plt.subplots_adjust(left=0.35, right=0.9, top=0.9, bottom=0.3)    \n",
    "    plt.show();"
   ]
  },
  {
   "cell_type": "markdown",
   "id": "71fbdb49",
   "metadata": {},
   "source": [
    "## Modelo\n",
    "### Procesamiento"
   ]
  },
  {
   "cell_type": "code",
   "execution_count": 25,
   "id": "1e0d4fab",
   "metadata": {},
   "outputs": [],
   "source": [
    "data_ocupacion['mesAnt']=(periodos_x+periodos_y)-diff_month(fechaMaxima,data_ocupacion['FECHA'])\n",
    "### Ordenar por fecha\n",
    "data_ocupacion=data_ocupacion.sort_values([\"FECHA\",\"COD_NODO\"], ascending = (True, True))"
   ]
  },
  {
   "cell_type": "markdown",
   "id": "98408bfc",
   "metadata": {},
   "source": [
    "### Seleccion Nodos para el Modelo"
   ]
  },
  {
   "cell_type": "code",
   "execution_count": 26,
   "id": "a0528a38",
   "metadata": {},
   "outputs": [],
   "source": [
    "### Solo Nodos con información completa\n",
    "seleccion=data_ocupacion[['COD_NODO',variable_prediccion]].groupby('COD_NODO').count()\n",
    "seleccion[seleccion[variable_prediccion]>=periodos_y+periodos_x+1]\n",
    "seleccion.rename(columns={variable_prediccion:'noRegVarPre'}, inplace=True)\n",
    "data_ocupacion=data_ocupacion.merge(seleccion, on='COD_NODO', how='left')\n",
    "data_ocupacion=data_ocupacion[data_ocupacion['noRegVarPre']>=periodos_y+periodos_x]\n",
    "data_ocupacion.drop(columns='noRegVarPre', inplace=True)\n",
    "### Nodos No Segmentados en el periodo de tiempo considerado\n",
    "data_ocupacion=data_ocupacion[data_ocupacion['SEGMENTADO']!=1]\n",
    "data_ocupacion.drop(columns='SEGMENTADO', inplace=True)\n",
    "### Eliminar datos con nullos\n",
    "data_ocupacion=data_ocupacion.dropna()"
   ]
  },
  {
   "cell_type": "markdown",
   "id": "fcc70b0b",
   "metadata": {},
   "source": [
    "###  Selección Columnas"
   ]
  },
  {
   "cell_type": "code",
   "execution_count": 27,
   "id": "8b573d94",
   "metadata": {},
   "outputs": [],
   "source": [
    "selCols=['COD_NODO','FECHA','OCUPACION_DW','OCUPACION_UP','SERV_TV','SERV_INT','mesAnt']\n",
    "data_ocupacionC=data_ocupacion.copy()\n",
    "data_ocupacion=data_ocupacion[selCols]"
   ]
  },
  {
   "cell_type": "markdown",
   "id": "1c9bd790",
   "metadata": {},
   "source": [
    "### Tidy Tables"
   ]
  },
  {
   "cell_type": "markdown",
   "id": "3f030420",
   "metadata": {},
   "source": [
    "#### Regresión"
   ]
  },
  {
   "cell_type": "code",
   "execution_count": 28,
   "id": "033f9ae7",
   "metadata": {},
   "outputs": [],
   "source": [
    "cols=data_ocupacion.columns\n",
    "cols=cols[2:-1]"
   ]
  },
  {
   "cell_type": "code",
   "execution_count": 29,
   "id": "aa600601",
   "metadata": {},
   "outputs": [],
   "source": [
    "cols_x=[]\n",
    "for i, col in enumerate(cols):\n",
    "    tablaAnalisis = pd.pivot_table(data_ocupacion.reset_index(), index='COD_NODO', columns='mesAnt', values=col)\n",
    "    tablaAnalisis.rename(columns={x: (col+\"-\"+str(x)) for x in tablaAnalisis.columns}, inplace=True)\n",
    "    #Identificacion Columnas X y Y    \n",
    "    cols_x=cols_x+[(col+\"-\"+str(x)) for x in range(0,periodos_x)]    \n",
    "    if i==0:\n",
    "        tablaAnalisisTotal = tablaAnalisis\n",
    "    else:\n",
    "        tablaAnalisisTotal = tablaAnalisisTotal.merge(tablaAnalisis, how='outer', on='COD_NODO')"
   ]
  },
  {
   "cell_type": "code",
   "execution_count": 30,
   "id": "1d8f6c05",
   "metadata": {},
   "outputs": [],
   "source": [
    "cols_x=sorted(list(set(cols_x)& set(tablaAnalisisTotal.columns.tolist())))"
   ]
  },
  {
   "cell_type": "code",
   "execution_count": 31,
   "id": "0c29c7fb",
   "metadata": {},
   "outputs": [],
   "source": [
    "cols_y=[(variable_prediccion+\"-\"+str(x)) for x in range(periodos_x,periodos_x+periodos_y-1)]"
   ]
  },
  {
   "cell_type": "code",
   "execution_count": 32,
   "id": "7daab7d7",
   "metadata": {},
   "outputs": [],
   "source": [
    "tablaAnalisisTotal=tablaAnalisisTotal.dropna()"
   ]
  },
  {
   "cell_type": "markdown",
   "id": "d38de1be",
   "metadata": {},
   "source": [
    "#### Clasificación"
   ]
  },
  {
   "cell_type": "code",
   "execution_count": 33,
   "id": "df97a047",
   "metadata": {},
   "outputs": [
    {
     "ename": "NameError",
     "evalue": "name 'data_ocupacionc' is not defined",
     "output_type": "error",
     "traceback": [
      "\u001b[1;31m---------------------------------------------------------------------------\u001b[0m",
      "\u001b[1;31mNameError\u001b[0m                                 Traceback (most recent call last)",
      "\u001b[1;32m<ipython-input-33-5c311495535f>\u001b[0m in \u001b[0;36m<module>\u001b[1;34m\u001b[0m\n\u001b[1;32m----> 1\u001b[1;33m \u001b[0mcolsC\u001b[0m\u001b[1;33m=\u001b[0m\u001b[0mdata_ocupacionc\u001b[0m\u001b[1;33m.\u001b[0m\u001b[0mcolumns\u001b[0m\u001b[1;33m\u001b[0m\u001b[1;33m\u001b[0m\u001b[0m\n\u001b[0m\u001b[0;32m      2\u001b[0m \u001b[0mcolsC\u001b[0m\u001b[1;33m=\u001b[0m\u001b[0mcolsC\u001b[0m\u001b[1;33m[\u001b[0m\u001b[1;36m2\u001b[0m\u001b[1;33m:\u001b[0m\u001b[1;33m-\u001b[0m\u001b[1;36m1\u001b[0m\u001b[1;33m]\u001b[0m\u001b[1;33m\u001b[0m\u001b[1;33m\u001b[0m\u001b[0m\n",
      "\u001b[1;31mNameError\u001b[0m: name 'data_ocupacionc' is not defined"
     ]
    }
   ],
   "source": [
    "colsC=data_ocupacionc.columns\n",
    "colsC=colsC[2:-1]"
   ]
  },
  {
   "cell_type": "code",
   "execution_count": null,
   "id": "c5de991f",
   "metadata": {},
   "outputs": [],
   "source": [
    "cols_xC=[]\n",
    "for i, col in enumerate(colsC):\n",
    "    tablaAnalisis = pd.pivot_table(data_ocupacionC.reset_index(), index='COD_NODO', columns='mesAnt', values=col)\n",
    "    tablaAnalisis.rename(columns={x: (col+\"-\"+str(x)) for x in tablaAnalisis.columns}, inplace=True)\n",
    "    #Identificacion Columnas X y Y    \n",
    "    cols_xC=cols_xC+[(col+\"-\"+str(x)) for x in range(0,periodos_x)]    \n",
    "    if i==0:\n",
    "        tablaAnalisisTotalC = tablaAnalisis\n",
    "    else:\n",
    "        tablaAnalisisTotalC = tablaAnalisisTotalC.merge(tablaAnalisis, how='outer', on='COD_NODO')\n",
    "tablaAnalisisTotalC=tablaAnalisisTotalC.dropna()"
   ]
  },
  {
   "cell_type": "code",
   "execution_count": null,
   "id": "43d4aa77",
   "metadata": {},
   "outputs": [],
   "source": [
    "cols_xC=sorted(list(set(cols_xC)& set(tablaAnalisisTotalC.columns.tolist())))"
   ]
  },
  {
   "cell_type": "markdown",
   "id": "c10b838c",
   "metadata": {},
   "source": [
    "### Separación Xvar y Yvar (número variable de periodo)"
   ]
  },
  {
   "cell_type": "code",
   "execution_count": null,
   "id": "bafef3db",
   "metadata": {},
   "outputs": [],
   "source": [
    "Xvar=tablaAnalisisTotal[cols_x]\n",
    "XvarC=tablaAnalisisTotalC[cols_xC]\n",
    "yvar=tablaAnalisisTotal[cols_y]"
   ]
  },
  {
   "cell_type": "code",
   "execution_count": null,
   "id": "849e28c2",
   "metadata": {},
   "outputs": [],
   "source": [
    "for col in cols_y:    \n",
    "    yvar[col+'_sem']=yvar[col].apply(semaforoRojo)\n",
    "    yvar[col+'_sem2']=yvar[col].apply(semaforoNum)    \n",
    "\n",
    "yColClass=[s + '_sem2' for s in cols_y]"
   ]
  },
  {
   "cell_type": "markdown",
   "id": "7ec5a7db",
   "metadata": {},
   "source": [
    "### Separacion Train y Test"
   ]
  },
  {
   "cell_type": "code",
   "execution_count": null,
   "id": "01c4e2ee",
   "metadata": {},
   "outputs": [],
   "source": [
    "X_train, X_test, y_train, y_test = train_test_split(Xvar, yvar, test_size = 0.3, random_state = 86, shuffle= True)"
   ]
  },
  {
   "cell_type": "markdown",
   "id": "775cec60",
   "metadata": {},
   "source": [
    "##  Modelos ML"
   ]
  },
  {
   "cell_type": "markdown",
   "id": "b00a5ac0",
   "metadata": {},
   "source": [
    "### XGBRegressor"
   ]
  },
  {
   "cell_type": "code",
   "execution_count": null,
   "id": "951a2d1c",
   "metadata": {
    "scrolled": true
   },
   "outputs": [],
   "source": [
    "modelos={}\n",
    "for yCol in cols_y:\n",
    "    print(yCol)\n",
    "    y_train_aux=y_train[yCol]\n",
    "    y_test_aux=y_test[yCol]\n",
    "    dicModelo={}        \n",
    "    dicModelo['modelo']=xgb.XGBRegressor(max_depth=80, verbosity= 0, subsample=0.5,  n_estimators=472, n_jobs=-1, objective='reg:squarederror', booster='gbtree', random_state=42, learning_rate=0.04, reg_lambda=1)\n",
    "    dicModelo['modelo'].fit(X_train, y_train_aux, eval_set=[(X_train, y_train_aux), (X_test, y_test_aux)])\n",
    "    dicModelo['predictions'] = dicModelo['modelo'].predict(X_test)\n",
    "    dicModelo['explanation']=shap.TreeExplainer(dicModelo['modelo'])    \n",
    "    modelos[yCol]=dicModelo    "
   ]
  },
  {
   "cell_type": "markdown",
   "id": "07898a38",
   "metadata": {},
   "source": [
    "####  Variables explicativas"
   ]
  },
  {
   "cell_type": "code",
   "execution_count": null,
   "id": "d2051c93",
   "metadata": {
    "scrolled": true
   },
   "outputs": [],
   "source": [
    "fig, axes = plt.subplots(nrows=2, ncols=3,figsize=(40,50))\n",
    "i=0\n",
    "for predVar in modelos:\n",
    "    j=0    \n",
    "    axes[i//3,i%3].set_title(predVar)    \n",
    "    xgb.plot_importance(modelos[predVar]['modelo'],ax=axes[i//3,i%3]) \n",
    "    j=j+1\n",
    "    i=i+1"
   ]
  },
  {
   "cell_type": "markdown",
   "id": "2cbfa997",
   "metadata": {},
   "source": [
    "#### Matrices de confusión"
   ]
  },
  {
   "cell_type": "markdown",
   "id": "c6129555",
   "metadata": {},
   "source": [
    "##### Semaforo"
   ]
  },
  {
   "cell_type": "code",
   "execution_count": null,
   "id": "3b7e122e",
   "metadata": {},
   "outputs": [],
   "source": [
    "fig, axes = plt.subplots(nrows=2, ncols=3,figsize=(10,5))\n",
    "i=0\n",
    "for predVar in modelos:\n",
    "    y_test_sem = [semaforoVal(x) for x in y_test[predVar]]    \n",
    "    y_test_p_sem=[semaforoVal(x) for x in modelos[predVar]['predictions']]\n",
    "    matrizConfucion = confusion_matrix(y_test_sem, y_test_p_sem, labels=['V','A','R'])\n",
    "    matrizConfucionDF=pd.DataFrame(matrizConfucion, index=['V','A','R'], columns=['V','A','R'])\n",
    "    sns.heatmap(matrizConfucionDF, annot = True, cmap = 'Greens', fmt='g', ax=axes[i//3,i%3])\n",
    "    axes[i//3,i%3].set_title(predVar)    \n",
    "    i=i+1\n",
    "fig.tight_layout()"
   ]
  },
  {
   "cell_type": "markdown",
   "id": "5df34675",
   "metadata": {},
   "source": [
    "#####  Rojos"
   ]
  },
  {
   "cell_type": "code",
   "execution_count": null,
   "id": "02dfa6d6",
   "metadata": {
    "scrolled": true
   },
   "outputs": [],
   "source": [
    "fig, axes = plt.subplots(nrows=2, ncols=3,figsize=(10,5))\n",
    "i=0\n",
    "for predVar in modelos:    \n",
    "    y_test_sem = [semaforoRojo(x) for x in y_test[predVar]]\n",
    "    y_test_p_sem=[semaforoRojo(x) for x in modelos[predVar]['predictions']]\n",
    "    matrizConfucion = confusion_matrix(y_test_sem, y_test_p_sem)\n",
    "    matrizConfucionDF=pd.DataFrame(matrizConfucion)\n",
    "    sns.heatmap(matrizConfucionDF, annot = True, cmap = 'Greens', fmt='g', ax=axes[i//3,i%3])\n",
    "    axes[i//3,i%3].set_title(predVar)    \n",
    "    i=i+1\n",
    "fig.tight_layout()"
   ]
  },
  {
   "cell_type": "markdown",
   "id": "dbecf893",
   "metadata": {},
   "source": [
    "##### Curva ROC y AUC"
   ]
  },
  {
   "cell_type": "code",
   "execution_count": null,
   "id": "fdc530fd",
   "metadata": {
    "scrolled": true
   },
   "outputs": [],
   "source": [
    "i=0\n",
    "for predVar in modelos:\n",
    "    j=0\n",
    "    y_test_sem = [semaforoRojo(x) for x in y_test[predVar]]\n",
    "    y_test_p_sem=[semaforoRojo(x) for x in modelos[predVar]['predictions']]\n",
    "    fpr1, tpr1, _ = roc_curve(y_test_sem, y_test_p_sem)\n",
    "    auc1 = roc_auc_score(y_test_sem, y_test_p_sem)\n",
    "    modelos[predVar]['AUC']=auc1\n",
    "    plt.plot(fpr1, tpr1, label = predVar+'AUC={}'.format(np.round(auc1, 2)))        \n",
    "plt.legend(loc='upper left', bbox_to_anchor=(1.05, 1));\n",
    "plt.title(\"ROC - Rojos\");"
   ]
  },
  {
   "cell_type": "markdown",
   "id": "b5dc100b",
   "metadata": {},
   "source": [
    "##### ROC AMARILLOS"
   ]
  },
  {
   "cell_type": "code",
   "execution_count": null,
   "id": "f210e3a9",
   "metadata": {},
   "outputs": [],
   "source": [
    "for predVar in modelos:        \n",
    "    y_test_sem = [semaforoAmarillo(x) for x in y_test[predVar]]\n",
    "    y_test_p_sem=[semaforoAmarillo(x) for x in modelos[predVar]['predictions']]\n",
    "    fpr1, tpr1, _ = roc_curve(y_test_sem, y_test_p_sem)\n",
    "    auc1 = roc_auc_score(y_test_sem, y_test_p_sem)\n",
    "    modelos[predVar]['AUC']=auc1\n",
    "    plt.plot(fpr1, tpr1, label = predVar+'AUC={}'.format(np.round(auc1, 2)))            \n",
    "plt.legend(loc='upper left', bbox_to_anchor=(1.05, 1));\n",
    "plt.title(\"ROC - Amarillos\");"
   ]
  },
  {
   "cell_type": "markdown",
   "id": "512b6d35",
   "metadata": {},
   "source": [
    "##### ROC Rojos y Amarillos"
   ]
  },
  {
   "cell_type": "code",
   "execution_count": null,
   "id": "744752ca",
   "metadata": {
    "scrolled": true
   },
   "outputs": [],
   "source": [
    "for predVar in modelos:    \n",
    "    y_test_sem = [semaforoRojoAmarillo(x) for x in y_test[predVar]]\n",
    "    y_test_p_sem=[semaforoRojoAmarillo(x) for x in modelos[predVar]['predictions']]\n",
    "    fpr1, tpr1, _ = roc_curve(y_test_sem, y_test_p_sem)\n",
    "    auc1 = roc_auc_score(y_test_sem, y_test_p_sem)\n",
    "    modelos[predVar]['AUC']=auc1\n",
    "    plt.plot(fpr1, tpr1, label = predVar+'AUC={}'.format(np.round(auc1, 2)))           \n",
    "plt.legend(loc='upper left', bbox_to_anchor=(1.05, 1));\n",
    "plt.title(\"ROC - Amarillos y Rojos\");"
   ]
  },
  {
   "cell_type": "markdown",
   "id": "597ae5e4",
   "metadata": {},
   "source": [
    "### LGBMClassifier"
   ]
  },
  {
   "cell_type": "markdown",
   "id": "5555a5f0",
   "metadata": {},
   "source": [
    "#### Agregar Semaforo a variable y"
   ]
  },
  {
   "cell_type": "code",
   "execution_count": null,
   "id": "9c484e55",
   "metadata": {},
   "outputs": [],
   "source": [
    "X_train, X_test, y_train, y_test = train_test_split(XvarC, yvar, test_size = 0.3, random_state = 86, shuffle= True)"
   ]
  },
  {
   "cell_type": "code",
   "execution_count": null,
   "id": "2f90e1a6",
   "metadata": {},
   "outputs": [],
   "source": [
    "modelosClass={}\n",
    "X_train_Balanceadas={}\n",
    "for yCol in yColClass:  \n",
    "    count=y_train[yCol].value_counts()\n",
    "    n_samples=int(count.max())\n",
    "    over_sampler = SMOTE(sampling_strategy=sampling_strategy(X_train, y_train[yCol],n_samples,t='minority'),k_neighbors=2)\n",
    "    X_train_res, y_train_res= over_sampler.fit_resample(X_train,y_train[yCol])\n",
    "    X_train_Balanceadas[yCol]=X_train_res\n",
    "    \n",
    "    print(yCol)\n",
    "    y_test_aux=y_test[yCol]\n",
    "    dicModelo={}        \n",
    "    \n",
    "    dicModelo['modelo']=LGBMClassifier(n_estimators=500, learning_rate=0.01, reg_alpha=1, reg_lambda=3, objective ='multiclass')\n",
    "    dicModelo['modelo'].fit(X_train_res, y_train_res) # ajustamos los datos de entrenamiento\n",
    "\n",
    "    dicModelo['predictions'] =dicModelo['modelo'].predict(X_test)\n",
    "    dicModelo['explanation']=shap.TreeExplainer(dicModelo['modelo'])\n",
    "    dicModelo['shap_values']=dicModelo['explanation'].shap_values(XvarC)    \n",
    "    modelosClass[yCol]=dicModelo"
   ]
  },
  {
   "cell_type": "markdown",
   "id": "457c07d8",
   "metadata": {},
   "source": [
    " #### Variables Explicativas"
   ]
  },
  {
   "cell_type": "code",
   "execution_count": null,
   "id": "97636f00",
   "metadata": {},
   "outputs": [],
   "source": [
    "#Mostrar importancia de variable, aumenta 15 min el tiempo de procesamiento\n",
    "#for predVar in modelosClass:       \n",
    "#    print(predVar)    \n",
    "#    df2Feature_importanceClass(X_train_Balanceadas[predVar],modelosClass[predVar]['modelo'],predVar)  "
   ]
  },
  {
   "cell_type": "markdown",
   "id": "e4aaeb69",
   "metadata": {},
   "source": [
    "#### Matrices de Confusión"
   ]
  },
  {
   "cell_type": "markdown",
   "id": "047517e0",
   "metadata": {},
   "source": [
    "##### Semaforo"
   ]
  },
  {
   "cell_type": "code",
   "execution_count": null,
   "id": "7fbfebfa",
   "metadata": {
    "scrolled": true
   },
   "outputs": [],
   "source": [
    "fig, axes = plt.subplots(nrows=2, ncols=3,figsize=(10,5))\n",
    "i=0\n",
    "for predVar in modelosClass:        \n",
    "    y_test_sem = y_test[predVar]\n",
    "    y_test_p_sem=modelosClass[predVar]['predictions']\n",
    "    matrizConfucion = confusion_matrix(y_test_sem, y_test_p_sem)\n",
    "    matrizConfucionDF=pd.DataFrame(matrizConfucion, index=['V','A','R'], columns=['V','A','R'])\n",
    "    print(predVar)\n",
    "    medidasEvaluacion(matrizConfucion)\n",
    "    sns.heatmap(matrizConfucionDF, annot = True, cmap = 'Greens', fmt='g', ax=axes[i//3,i%3])\n",
    "    axes[i//3,i%3].set_title(predVar)    \n",
    "    i=i+1\n",
    "fig.tight_layout()"
   ]
  },
  {
   "cell_type": "markdown",
   "id": "75e92cfa",
   "metadata": {},
   "source": [
    "##### Rojos"
   ]
  },
  {
   "cell_type": "code",
   "execution_count": null,
   "id": "ae35a016",
   "metadata": {},
   "outputs": [],
   "source": [
    "fig, axes = plt.subplots(nrows=2, ncols=3,figsize=(10,4))\n",
    "i=0\n",
    "for predVar in modelosClass:  \n",
    "    print(predVar)\n",
    "    y_test_sem = [semaforoNum2Rojo(x) for x in y_test[predVar]]\n",
    "    y_test_p_sem=[semaforoNum2Rojo(x) for x in modelosClass[predVar]['predictions']]\n",
    "    matrizConfucion = confusion_matrix(y_test_sem, y_test_p_sem)\n",
    "    matrizConfucionDF=pd.DataFrame(matrizConfucion)\n",
    "    sns.heatmap(matrizConfucionDF, annot = True, cmap = 'Greens', fmt='g', ax=axes[i//3,i%3])\n",
    "    axes[i//3,i%3].set_title(predVar)    \n",
    "    i=i+1\n",
    "fig.tight_layout()"
   ]
  },
  {
   "cell_type": "markdown",
   "id": "9fc1300f",
   "metadata": {},
   "source": [
    "#####  Curva ROC"
   ]
  },
  {
   "cell_type": "markdown",
   "id": "6db9d91a",
   "metadata": {},
   "source": [
    "##### Solo Rojos"
   ]
  },
  {
   "cell_type": "code",
   "execution_count": null,
   "id": "4b41b185",
   "metadata": {},
   "outputs": [],
   "source": [
    "for predVar in modelosClass:        \n",
    "    y_test_sem = [semaforoNum2Rojo(x) for x in y_test[predVar]]\n",
    "    y_test_p_sem=[semaforoNum2Rojo(x) for x in modelosClass[predVar]['predictions']]\n",
    "    fpr1, tpr1, _ = roc_curve(y_test_sem, y_test_p_sem)\n",
    "    auc1 = roc_auc_score(y_test_sem, y_test_p_sem)\n",
    "    modelosClass[predVar]['AUC']=auc1\n",
    "    plt.plot(fpr1, tpr1, label = predVar+'-'+'AUC={}'.format(np.round(auc1, 2)))            \n",
    "plt.legend(loc='upper left', bbox_to_anchor=(1.05, 1));"
   ]
  },
  {
   "cell_type": "markdown",
   "id": "cfdf4838",
   "metadata": {},
   "source": [
    "##### Solo Amarillos"
   ]
  },
  {
   "cell_type": "code",
   "execution_count": null,
   "id": "1c3de283",
   "metadata": {},
   "outputs": [],
   "source": [
    "for predVar in modelosClass:        \n",
    "    y_test_sem = [semaforoNum2Amarillo(x) for x in y_test[predVar]]\n",
    "    y_test_p_sem=[semaforoNum2Amarillo(x) for x in modelosClass[predVar]['predictions']]\n",
    "    fpr1, tpr1, _ = roc_curve(y_test_sem, y_test_p_sem)\n",
    "    auc1 = roc_auc_score(y_test_sem, y_test_p_sem)\n",
    "    modelosClass[predVar]['AUC']=auc1\n",
    "    plt.plot(fpr1, tpr1, label = predVar+'-'+'AUC={}'.format(np.round(auc1, 2)))            \n",
    "plt.legend(loc='upper left', bbox_to_anchor=(1.05, 1));"
   ]
  },
  {
   "cell_type": "markdown",
   "id": "e22cc2e3",
   "metadata": {},
   "source": [
    "##### Rojos y amarillos"
   ]
  },
  {
   "cell_type": "code",
   "execution_count": null,
   "id": "2fa9eb12",
   "metadata": {},
   "outputs": [],
   "source": [
    "for predVar in modelosClass:        \n",
    "    y_test_sem = [semaforoNum2RojoAmarillo(x) for x in y_test[predVar]]\n",
    "    y_test_p_sem=[semaforoNum2RojoAmarillo(x) for x in modelosClass[predVar]['predictions']]\n",
    "    fpr1, tpr1, _ = roc_curve(y_test_sem, y_test_p_sem)\n",
    "    auc1 = roc_auc_score(y_test_sem, y_test_p_sem)\n",
    "    modelosClass[predVar]['AUC']=auc1\n",
    "    plt.plot(fpr1, tpr1, label = predVar+'-'+'AUC={}'.format(np.round(auc1, 2)))            \n",
    "plt.legend(loc='upper left', bbox_to_anchor=(1.05, 1));"
   ]
  },
  {
   "cell_type": "markdown",
   "id": "f0b49b01",
   "metadata": {},
   "source": [
    "###  NUEVAS PREDICCIONES"
   ]
  },
  {
   "cell_type": "code",
   "execution_count": null,
   "id": "78d7a75c",
   "metadata": {},
   "outputs": [],
   "source": [
    "data_ocupacionNp=data_ocupacion.copy()\n",
    "data_ocupacionNpC=data_ocupacionC.copy()"
   ]
  },
  {
   "cell_type": "code",
   "execution_count": null,
   "id": "a624ca02",
   "metadata": {},
   "outputs": [],
   "source": [
    "periodos_x=6\n",
    "fechaMaxima=data_ocupacionNp['FECHA'].max()\n",
    "fechaInicialNp=fechaMaxima + relativedelta(months=-1*periodos_x)"
   ]
  },
  {
   "cell_type": "code",
   "execution_count": null,
   "id": "d42368e8",
   "metadata": {},
   "outputs": [],
   "source": [
    "data_ocupacionNp=data_ocupacionNp[data_ocupacionNp['FECHA']>=fechaInicialNp]\n",
    "data_ocupacionNpC=data_ocupacionNpC[data_ocupacionNpC['FECHA']>=fechaInicialNp]\n",
    "data_ocupacionNp['mesAnt']=(periodos_x)-diff_month(fechaMaxima,data_ocupacionNp['FECHA'])\n",
    "data_ocupacionNpC['mesAnt']=(periodos_x)-diff_month(fechaMaxima,data_ocupacionNpC['FECHA'])"
   ]
  },
  {
   "cell_type": "code",
   "execution_count": null,
   "id": "45dbcdd8",
   "metadata": {},
   "outputs": [],
   "source": [
    "data_ocupacionNp['FECHA'].max()"
   ]
  },
  {
   "cell_type": "code",
   "execution_count": null,
   "id": "726a4dd1",
   "metadata": {},
   "outputs": [],
   "source": [
    "data_ocupacionNp['FECHA'].min()"
   ]
  },
  {
   "cell_type": "code",
   "execution_count": null,
   "id": "ddebca0d",
   "metadata": {},
   "outputs": [],
   "source": [
    "colsNp=data_ocupacionNp.columns\n",
    "colsNp=colsNp[2:-1]\n",
    "colsNpC=data_ocupacionNpC.columns\n",
    "colsNpC=colsNpC[2:-1]"
   ]
  },
  {
   "cell_type": "code",
   "execution_count": null,
   "id": "a42879c4",
   "metadata": {},
   "outputs": [],
   "source": [
    "#Tabla para regresión\n",
    "cols_xNp=[]\n",
    "for i, col in enumerate(colsNp):\n",
    "    tablaAnalisisNp = pd.pivot_table(data_ocupacionNp.reset_index(), index='COD_NODO', columns='mesAnt', values=col)\n",
    "    tablaAnalisisNp.rename(columns={x: (col+\"-\"+str(x)) for x in tablaAnalisisNp.columns}, inplace=True)    \n",
    "    cols_xNp=cols_xNp+[(col+\"-\"+str(x)) for x in range(0,periodos_x+1)]    \n",
    "    if i==0:\n",
    "        tablaAnalisisTotalNp = tablaAnalisisNp\n",
    "    else:\n",
    "        tablaAnalisisTotalNp = tablaAnalisisTotalNp.merge(tablaAnalisisNp, how='outer', on='COD_NODO')"
   ]
  },
  {
   "cell_type": "code",
   "execution_count": null,
   "id": "ece91b88",
   "metadata": {},
   "outputs": [],
   "source": [
    "#Tabla para clasificación\n",
    "cols_xNpC=[]\n",
    "for i, col in enumerate(colsNpC):\n",
    "    tablaAnalisisNpC = pd.pivot_table(data_ocupacionNpC.reset_index(), index='COD_NODO', columns='mesAnt', values=col)\n",
    "    tablaAnalisisNpC.rename(columns={x: (col+\"-\"+str(x)) for x in tablaAnalisisNpC.columns}, inplace=True)    \n",
    "    cols_xNpC=cols_xNpC+[(col+\"-\"+str(x)) for x in range(0,periodos_x+1)]    \n",
    "    if i==0:\n",
    "        tablaAnalisisTotalNpC = tablaAnalisisNpC\n",
    "    else:\n",
    "        tablaAnalisisTotalNpC = tablaAnalisisTotalNpC.merge(tablaAnalisisNpC, how='outer', on='COD_NODO')"
   ]
  },
  {
   "cell_type": "code",
   "execution_count": null,
   "id": "aee80081",
   "metadata": {},
   "outputs": [],
   "source": [
    "colsNpC"
   ]
  },
  {
   "cell_type": "code",
   "execution_count": null,
   "id": "e3bdfc7a",
   "metadata": {
    "scrolled": true
   },
   "outputs": [],
   "source": [
    "tablaAnalisisTotalNp=tablaAnalisisTotalNp.dropna()\n",
    "tablaAnalisisTotalNpC=tablaAnalisisTotalNpC.dropna()"
   ]
  },
  {
   "cell_type": "code",
   "execution_count": null,
   "id": "7c9102b5",
   "metadata": {},
   "outputs": [],
   "source": [
    "tablaResultados=tablaAnalisisTotalNp.copy()"
   ]
  },
  {
   "cell_type": "markdown",
   "id": "cb0e103e",
   "metadata": {},
   "source": [
    "#### Resultados XGBOOST "
   ]
  },
  {
   "cell_type": "code",
   "execution_count": null,
   "id": "c8184acb",
   "metadata": {
    "scrolled": true
   },
   "outputs": [],
   "source": [
    "for predVar in modelos:\n",
    "    print(predVar)\n",
    "    tablaResultados[predVar+'_pR']=modelos[predVar]['modelo'].predict(tablaAnalisisTotalNp)\n",
    "    tablaResultados[predVar+'_pR_Sem']=tablaResultados[predVar+'_pR'].apply(semaforoVal)"
   ]
  },
  {
   "cell_type": "code",
   "execution_count": null,
   "id": "41804006",
   "metadata": {},
   "outputs": [],
   "source": [
    "for predVar in modelosClass:\n",
    "    tablaResultados[predVar+'_pC']=modelosClass[predVar]['modelo'].predict(tablaAnalisisTotalNpC)\n",
    "    tablaResultados[predVar+'_pC']=tablaResultados[predVar+'_pC'].apply(semaforoNum2Val)"
   ]
  },
  {
   "cell_type": "code",
   "execution_count": null,
   "id": "6d149dd6",
   "metadata": {},
   "outputs": [],
   "source": [
    "tablaResultados"
   ]
  },
  {
   "cell_type": "code",
   "execution_count": null,
   "id": "4765ff6d",
   "metadata": {},
   "outputs": [],
   "source": [
    "tablaResultados.to_csv('resultados.csv', index=True,sep=';')"
   ]
  }
 ],
 "metadata": {
  "kernelspec": {
   "display_name": "Python 3",
   "language": "python",
   "name": "python3"
  },
  "language_info": {
   "codemirror_mode": {
    "name": "ipython",
    "version": 3
   },
   "file_extension": ".py",
   "mimetype": "text/x-python",
   "name": "python",
   "nbconvert_exporter": "python",
   "pygments_lexer": "ipython3",
   "version": "3.8.8"
  }
 },
 "nbformat": 4,
 "nbformat_minor": 5
}
