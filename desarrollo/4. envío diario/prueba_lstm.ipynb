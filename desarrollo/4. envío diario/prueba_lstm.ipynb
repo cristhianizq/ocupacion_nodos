{
 "cells": [
  {
   "cell_type": "code",
   "execution_count": 4,
   "id": "6d290108-f70f-4459-985e-b83de25499fb",
   "metadata": {},
   "outputs": [],
   "source": [
    "from keras.models import Sequential\n",
    "from keras.layers import Dense, LSTM\n",
    "from keras import regularizers, callbacks"
   ]
  },
  {
   "cell_type": "code",
   "execution_count": 1,
   "id": "a8e7d657-95f2-4321-812b-039b1dbe17c4",
   "metadata": {},
   "outputs": [
    {
     "data": {
      "text/plain": [
       "'C:\\\\Users\\\\DarioAlejandroLatorr\\\\OneDrive\\\\claro_20_abril_2021\\\\ENVIO_DARIO'"
      ]
     },
     "execution_count": 1,
     "metadata": {},
     "output_type": "execute_result"
    }
   ],
   "source": [
    "import os\n",
    "import pandas as pd\n",
    "import numpy as np\n",
    "import matplotlib.pyplot as plt\n",
    "os.getcwd()"
   ]
  },
  {
   "cell_type": "code",
   "execution_count": 130,
   "id": "a42e0f05-af8f-4c43-a8f2-bc343d1996dc",
   "metadata": {},
   "outputs": [],
   "source": [
    "%matplotlib qt"
   ]
  },
  {
   "cell_type": "code",
   "execution_count": 40,
   "id": "f83587ed-1f9b-441f-8813-74b8392f7105",
   "metadata": {},
   "outputs": [],
   "source": [
    "ruta = 'Data_Forecast\\DWstream.csv'\n",
    "divi = {'UP':(27*4), 'DW':(38*48)}\n",
    "dw_up = 'DW'\n",
    "data = pd.read_csv(ruta, sep=';', usecols=['NODO','FECHA','DW'])\n",
    "data = pd.pivot_table(data, index='NODO', columns='FECHA', values='DW')\n",
    "# interpolar, si no es posible rellenar hacia atras sino rellenar hacia adelante\n",
    "data.interpolate(method='linear',  axis=1, limit_direction='backward', inplace=True) \n",
    "data.fillna(method='ffill', axis=1, inplace=True)\n",
    "data = data/divi[dw_up]"
   ]
  },
  {
   "cell_type": "code",
   "execution_count": 49,
   "id": "831f459f-a98c-4897-b17c-dbdab8df7738",
   "metadata": {},
   "outputs": [
    {
     "data": {
      "text/html": [
       "<div>\n",
       "<style scoped>\n",
       "    .dataframe tbody tr th:only-of-type {\n",
       "        vertical-align: middle;\n",
       "    }\n",
       "\n",
       "    .dataframe tbody tr th {\n",
       "        vertical-align: top;\n",
       "    }\n",
       "\n",
       "    .dataframe thead th {\n",
       "        text-align: right;\n",
       "    }\n",
       "</style>\n",
       "<table border=\"1\" class=\"dataframe\">\n",
       "  <thead>\n",
       "    <tr style=\"text-align: right;\">\n",
       "      <th>FECHA</th>\n",
       "      <th>2020-10-05</th>\n",
       "      <th>2020-10-12</th>\n",
       "      <th>2020-10-19</th>\n",
       "      <th>2020-10-26</th>\n",
       "      <th>2020-11-02</th>\n",
       "      <th>2020-11-09</th>\n",
       "      <th>2020-11-16</th>\n",
       "      <th>2020-11-23</th>\n",
       "      <th>2020-11-30</th>\n",
       "      <th>2020-12-07</th>\n",
       "      <th>...</th>\n",
       "      <th>2021-03-08</th>\n",
       "      <th>2021-03-15</th>\n",
       "      <th>2021-03-22</th>\n",
       "      <th>2021-03-29</th>\n",
       "      <th>2021-04-05</th>\n",
       "      <th>2021-04-12</th>\n",
       "      <th>2021-04-19</th>\n",
       "      <th>2021-04-26</th>\n",
       "      <th>2021-05-03</th>\n",
       "      <th>2021-05-10</th>\n",
       "    </tr>\n",
       "    <tr>\n",
       "      <th>NODO</th>\n",
       "      <th></th>\n",
       "      <th></th>\n",
       "      <th></th>\n",
       "      <th></th>\n",
       "      <th></th>\n",
       "      <th></th>\n",
       "      <th></th>\n",
       "      <th></th>\n",
       "      <th></th>\n",
       "      <th></th>\n",
       "      <th></th>\n",
       "      <th></th>\n",
       "      <th></th>\n",
       "      <th></th>\n",
       "      <th></th>\n",
       "      <th></th>\n",
       "      <th></th>\n",
       "      <th></th>\n",
       "      <th></th>\n",
       "      <th></th>\n",
       "      <th></th>\n",
       "    </tr>\n",
       "  </thead>\n",
       "  <tbody>\n",
       "    <tr>\n",
       "      <th>002</th>\n",
       "      <td>0.136255</td>\n",
       "      <td>0.141792</td>\n",
       "      <td>0.146243</td>\n",
       "      <td>0.144364</td>\n",
       "      <td>0.147161</td>\n",
       "      <td>0.145632</td>\n",
       "      <td>0.146932</td>\n",
       "      <td>0.153784</td>\n",
       "      <td>0.148275</td>\n",
       "      <td>0.150435</td>\n",
       "      <td>...</td>\n",
       "      <td>0.178004</td>\n",
       "      <td>0.168959</td>\n",
       "      <td>0.171431</td>\n",
       "      <td>0.185862</td>\n",
       "      <td>0.182481</td>\n",
       "      <td>0.234019</td>\n",
       "      <td>0.207596</td>\n",
       "      <td>0.211945</td>\n",
       "      <td>0.200829</td>\n",
       "      <td>0.183998</td>\n",
       "    </tr>\n",
       "  </tbody>\n",
       "</table>\n",
       "<p>1 rows × 32 columns</p>\n",
       "</div>"
      ],
      "text/plain": [
       "FECHA  2020-10-05  2020-10-12  2020-10-19  2020-10-26  2020-11-02  2020-11-09  \\\n",
       "NODO                                                                            \n",
       "002      0.136255    0.141792    0.146243    0.144364    0.147161    0.145632   \n",
       "\n",
       "FECHA  2020-11-16  2020-11-23  2020-11-30  2020-12-07  ...  2021-03-08  \\\n",
       "NODO                                                   ...               \n",
       "002      0.146932    0.153784    0.148275    0.150435  ...    0.178004   \n",
       "\n",
       "FECHA  2021-03-15  2021-03-22  2021-03-29  2021-04-05  2021-04-12  2021-04-19  \\\n",
       "NODO                                                                            \n",
       "002      0.168959    0.171431    0.185862    0.182481    0.234019    0.207596   \n",
       "\n",
       "FECHA  2021-04-26  2021-05-03  2021-05-10  \n",
       "NODO                                       \n",
       "002      0.211945    0.200829    0.183998  \n",
       "\n",
       "[1 rows x 32 columns]"
      ]
     },
     "execution_count": 49,
     "metadata": {},
     "output_type": "execute_result"
    }
   ],
   "source": [
    "data.head(1)"
   ]
  },
  {
   "cell_type": "code",
   "execution_count": 111,
   "id": "4f2112f4-4413-4817-aa30-5fcef5a1d22f",
   "metadata": {},
   "outputs": [],
   "source": [
    "data.sort_values(data.columns[-1], inplace=True)"
   ]
  },
  {
   "cell_type": "code",
   "execution_count": 216,
   "id": "7ef56dbc-2e18-4ac7-955b-6ac44d1529a6",
   "metadata": {},
   "outputs": [],
   "source": [
    "# dejo tres fechas para testear y dos para predecir,\n",
    "# por lo tanto n_salidas  son  5 valores\n",
    "# el número de entradas lo dejo como parámetro\n",
    "n_entradas = 5\n",
    "n_salidas = 5\n",
    "factor_valid = 0.20\n",
    "data_model = data[data.columns[:-3]]\n",
    "\n",
    "X_train, Y_train = [], []\n",
    "X_valid, Y_valid = [], []\n",
    "len_vector = data_model.shape[1]\n",
    "# número de filas diferentes por nodo y \n",
    "# límite para el inicio del fragmento de serie que se va agregando al arreglo X\n",
    "n_nodo = len_vector - n_entradas - n_salidas\n",
    "n_valid = 1#int(n_nodo*factor_valid)\n",
    "n_train = n_nodo - n_valid\n",
    "for nodo in data_model.index:\n",
    "    data_vector = data_model.loc[nodo,:].values # localizo los datos de la serie de de cada nodo\n",
    "    \n",
    "    for i in range(n_train+1):\n",
    "\n",
    "        X_train.append(data_vector[i:i+n_entradas])\n",
    "        Y_train.append(data_vector[i+n_entradas:i+n_entradas+n_salidas])\n",
    "\n",
    "    for i in range(n_train+1, n_nodo+1):\n",
    "\n",
    "        X_valid.append(data_vector[i:i+n_entradas])\n",
    "        Y_valid.append(data_vector[i+n_entradas:i+n_entradas+n_salidas])\n",
    "    break\n",
    "X_train = np.array(X_train)\n",
    "X_train = np.reshape(X_train,(X_train.shape[0],X_train.shape[1],1))\n",
    "Y_train = np.array(Y_train)\n",
    "\n",
    "X_valid = np.array(X_valid)\n",
    "X_valid = np.reshape(X_valid,(X_valid.shape[0],X_valid.shape[1],1))\n",
    "Y_valid = np.array(Y_valid)"
   ]
  },
  {
   "cell_type": "code",
   "execution_count": 218,
   "id": "6cad03ae-9a79-4b64-9e71-cec827196c35",
   "metadata": {},
   "outputs": [
    {
     "data": {
      "text/plain": [
       "((19, 5, 1), (19, 5), (1, 5, 1), (1, 5))"
      ]
     },
     "execution_count": 218,
     "metadata": {},
     "output_type": "execute_result"
    }
   ],
   "source": [
    "X_train.shape, Y_train.shape, X_valid.shape, Y_valid.shape"
   ]
  },
  {
   "cell_type": "code",
   "execution_count": 220,
   "id": "71e63757-cf5a-4789-9f16-88f724db805e",
   "metadata": {},
   "outputs": [
    {
     "name": "stdout",
     "output_type": "stream",
     "text": [
      "Epoch 1/4\n",
      "1/1 [==============================] - 3s 3s/step - loss: 2.8725e-10 - val_loss: 6.8160e-04\n",
      "Epoch 2/4\n",
      "1/1 [==============================] - 0s 26ms/step - loss: 6.8198e-04 - val_loss: 6.1037e-05\n",
      "Epoch 3/4\n",
      "1/1 [==============================] - 0s 25ms/step - loss: 6.1059e-05 - val_loss: 4.0770e-06\n",
      "Epoch 4/4\n",
      "1/1 [==============================] - 0s 25ms/step - loss: 4.1273e-06 - val_loss: 1.0782e-06\n"
     ]
    },
    {
     "data": {
      "text/plain": [
       "<keras.callbacks.History at 0x1f535a2c0d0>"
      ]
     },
     "execution_count": 220,
     "metadata": {},
     "output_type": "execute_result"
    }
   ],
   "source": [
    "n_neu = 200\n",
    "epo = 4\n",
    "\n",
    "modelo_lstm = Sequential()\n",
    "modelo_lstm.add(LSTM(units= n_neu, input_shape = (n_entradas,1)))\n",
    "modelo_lstm.add(Dense(units=n_salidas))\n",
    "modelo_lstm.add(Dense(units=n_salidas))\n",
    "modelo_lstm.compile(optimizer='rmsprop', loss='mse')\n",
    "modelo_lstm.fit(X_train, Y_train, epochs=epo, verbose=1,\n",
    "                validation_data=(X_valid, Y_valid), callbacks=callbacks.EarlyStopping(patience=2),shuffle=True)"
   ]
  },
  {
   "cell_type": "code",
   "execution_count": 222,
   "id": "ad2105c3-1a70-4393-ab4f-53cb9ad9ca67",
   "metadata": {},
   "outputs": [],
   "source": [
    "df_predict = pd.DataFrame(modelo_lstm.predict(X_valid), index=[data_model.index[0]])\n",
    "df_real = pd.DataFrame(Y_valid, index=[data_model.index[0]])\n"
   ]
  },
  {
   "cell_type": "code",
   "execution_count": 223,
   "id": "e6a87e8f-0f88-4bd3-8fea-42299db7c7b9",
   "metadata": {},
   "outputs": [
    {
     "data": {
      "text/plain": [
       "Index(['EBC1', 'EBC13B', 'EBC2D2', '2HB3B', 'IU43B', '11A3B', 'AF14A1',\n",
       "       'FGA3B', '8AA1', '5EG3B',\n",
       "       ...\n",
       "       'SYH', 'BDR', 'CER', 'CST', 'HE21', 'NVC3B', '5T5', 'CEP', 'MVL',\n",
       "       'MSO'],\n",
       "      dtype='object', name='NODO', length=14214)"
      ]
     },
     "execution_count": 223,
     "metadata": {},
     "output_type": "execute_result"
    }
   ],
   "source": [
    "data_model.index"
   ]
  },
  {
   "cell_type": "code",
   "execution_count": 225,
   "id": "4316b628-795d-4129-9e3d-cfb29f13d740",
   "metadata": {},
   "outputs": [],
   "source": [
    "for nodo in data_model.head(1).index:\n",
    "    plt.figure()\n",
    "    plt.plot(np.arange(len_vector),data_model.loc[[nodo],:].values[0,:],color='g')\n",
    "    plt.plot(np.arange(len_vector-n_salidas, len_vector),df_predict.loc[[nodo],:].values[0,:])\n",
    "    plt.plot(np.arange(len_vector-n_salidas, len_vector),df_real.loc[[nodo],:].values[0,:], color='r')\n",
    "    plt.show()"
   ]
  },
  {
   "cell_type": "code",
   "execution_count": null,
   "id": "07711528-272e-4f22-8ef4-52ed22ca1a72",
   "metadata": {},
   "outputs": [],
   "source": [
    "lag_pred = 3\n",
    "step = 7\n",
    "n_neu = 10\n",
    "epo = 100\n",
    "dim_salida=1\n",
    "serie = table['OBJECTID'].values[:-lag_pred]\n",
    " \n",
    "sc = MinMaxScaler()\n",
    "train_data = sc.fit_transform(serie[:-2].reshape(-1, 1))\n",
    "valid_data = sc.fit_transform(serie[-2-step:-1].reshape(-1, 1))\n",
    "x_test_data = sc.fit_transform(serie[-1-step:-1].reshape(-1, 1))\n",
    "  \n",
    "X_train, Y_train = preparar_array(train_data, step)\n",
    "X_valid, Y_valid = preparar_array(valid_data, step)\n",
    "X_test = preparar_array(x_test_data, step, test=True)\n",
    "\n",
    "\n",
    "modelo_lstm = Sequential()\n",
    "modelo_lstm.add(LSTM(units= n_neu, input_shape = (step,1), kernel_regularizer=regularizers.l1(0.01),\n",
    "                        activity_regularizer=regularizers.l2(0.1), bias_regularizer=regularizers.L1L2(0.01, 0.1)\n",
    "                      ))\n",
    "modelo_lstm.add(Dense(units=dim_salida, kernel_regularizer=regularizers.l1(0.1),\n",
    "                        activity_regularizer=regularizers.l2(0.1)))\n",
    "modelo_lstm.compile(optimizer='rmsprop', loss='mse')\n",
    "modelo_lstm.fit(X_train, Y_train, epochs=epo, verbose=1,\n",
    "                validation_data=(X_valid, Y_valid), callbacks=callbacks.EarlyStopping(patience=2),shuffle=False)\n",
    "pred_no_esc = modelo_lstm.predict(X_test)\n",
    "pred = sc.inverse_transform(pred_no_esc)"
   ]
  },
  {
   "cell_type": "code",
   "execution_count": null,
   "id": "ff136638-a75e-464e-8972-e45443777933",
   "metadata": {},
   "outputs": [],
   "source": [
    "def preparar_array(data_transform, step, test = False):\n",
    "  if not test:\n",
    "    X_array, Y_array = [], []\n",
    "    for i in range(step,len(data_transform)):\n",
    "      X_array.append(data_transform[i-step:i,0])\n",
    "      Y_array.append(data_transform[i,0])\n",
    "    \n",
    "    X_array = np.array(X_array)\n",
    "    X_array = np.reshape(X_array,(X_array.shape[0],X_array.shape[1],1))\n",
    "    Y_array = np.array(Y_array)\n",
    "    array = [X_array, Y_array]\n",
    "  else:\n",
    "    X_test = []\n",
    "    for i in range(step,len(data_transform)+1):\n",
    "      X_test.append(data_transform[i-step:i,0])\n",
    "    X_test = np.array(X_test)\n",
    "    array = np.reshape(X_test,(X_test.shape[0],X_test.shape[1],1))\n",
    "  return array"
   ]
  }
 ],
 "metadata": {
  "kernelspec": {
   "display_name": "Python 3",
   "language": "python",
   "name": "python3"
  },
  "language_info": {
   "codemirror_mode": {
    "name": "ipython",
    "version": 3
   },
   "file_extension": ".py",
   "mimetype": "text/x-python",
   "name": "python",
   "nbconvert_exporter": "python",
   "pygments_lexer": "ipython3",
   "version": "3.9.2"
  }
 },
 "nbformat": 4,
 "nbformat_minor": 5
}
