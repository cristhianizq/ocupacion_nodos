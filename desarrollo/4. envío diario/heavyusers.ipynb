{
 "cells": [
  {
   "cell_type": "code",
   "execution_count": 1,
   "id": "6ca79c9b-4686-446e-aa55-60e6e6307e22",
   "metadata": {},
   "outputs": [],
   "source": [
    "%matplotlib qt\n",
    "%load_ext autoreload\n",
    "%autoreload 2"
   ]
  },
  {
   "cell_type": "code",
   "execution_count": 2,
   "id": "195dce22-afc6-4bae-af4f-ee9238e35c9f",
   "metadata": {},
   "outputs": [
    {
     "data": {
      "text/plain": [
       "'C:\\\\Users\\\\DarioAlejandroLatorr\\\\OneDrive\\\\claro_20_abril_2021\\\\ENVIO_DARIO\\\\TRONCALES_HEAVYUSERS_DATAGEO'"
      ]
     },
     "execution_count": 2,
     "metadata": {},
     "output_type": "execute_result"
    }
   ],
   "source": [
    "import os\n",
    "import pandas as pd\n",
    "import seaborn as sns\n",
    "import matplotlib.pyplot as plt\n",
    "import numpy as np\n",
    "os.getcwd()"
   ]
  },
  {
   "cell_type": "code",
   "execution_count": 3,
   "id": "56f2ba75-1bc2-461f-9f9f-1aadeb3a301b",
   "metadata": {},
   "outputs": [
    {
     "data": {
      "text/plain": [
       "Index(['CUENTA', 'CUENTA_MATRIZ', 'ESTRATO', 'NODO', 'CIUDAD', 'NOMBRE_NODO',\n",
       "       'COMUNIDAD', 'DES_DIR_ESTAN', 'DES_DIR_NUEVA', 'LATITUD', 'LONGITUD',\n",
       "       'DES_AGREGACION', 'DES_DEPARTAMENTO', 'COD_DANE', 'DES_CIUDAD',\n",
       "       'DES_SEGMENTO', 'flbb_down_traffic_bytes', 'flbb_up_traffic_bytes',\n",
       "       'traf_total', 'TIPO_USUARIO', 'TIPO_USUARIO_SIMP', 'TIPO_USUARIO_UP',\n",
       "       'TIPO_USUARIO_UP_SIMP'],\n",
       "      dtype='object')"
      ]
     },
     "execution_count": 3,
     "metadata": {},
     "output_type": "execute_result"
    }
   ],
   "source": [
    "pd.read_csv('Datos_heavy_users/USERS_CLASIFICADOS_COMPLETO.csv',nrows=1, sep='|').columns"
   ]
  },
  {
   "cell_type": "code",
   "execution_count": 4,
   "id": "497b97aa-d2aa-4626-9a09-abf50eb147fc",
   "metadata": {},
   "outputs": [],
   "source": [
    "def preparar_heavy_users(dw_up_total, percentil=99, plot_scatter=True):\n",
    "    \"\"\"\n",
    "    dw_up_total debe ser alguno de los tres valores: 'up', 'down', 'total'\n",
    "    \n",
    "    percentil corresponde al percentil de la distribución de tráficos a partir de la que \n",
    "    se consideran usuarios heavy.\n",
    "    \n",
    "    Los datos de los usuarios se importan de la carpeta Datos_heavy_users\n",
    "    y el archivo USERS_CLASIFICADOS_COMPLETO.csv \n",
    "    \"\"\"\n",
    "    # columnas para armar el archivo\n",
    "    cols_list = ['CUENTA', 'CUENTA_MATRIZ', 'ESTRATO', 'NODO', 'CIUDAD', 'NOMBRE_NODO','LATITUD', 'LONGITUD']\n",
    "    dict_traf = {'down':'flbb_down_traffic_bytes', 'up':'flbb_up_traffic_bytes','total':'traf_total'}\n",
    "    col_traffic = dict_traf[dw_up_total]\n",
    "    cols_list += [col_traffic] \n",
    "    \n",
    "    ruta = 'Datos_heavy_users/USERS_CLASIFICADOS_COMPLETO.csv'\n",
    "    df_users = pd.read_csv(ruta, usecols=cols_list,sep='|')\n",
    "    l_total = len(df_users)\n",
    "    \n",
    "    # agrupando por nodo, contando nodos y sumando traficos sobre el dataframe entero \n",
    "    agg_nodos = df_users.groupby(['NODO','NOMBRE_NODO']).agg({dict_traf[dw_up_total]:['sum','count']}).reset_index()\n",
    "    agg_nodos.columns = agg_nodos.columns.droplevel()\n",
    "    agg_nodos.columns = ['NODO','NOMBRE_NODO',f'{dw_up_total}_traffic_sum_nodo',f'{dw_up_total}_cantidad_users_nodo']\n",
    "    \n",
    "    # filtrando y dejando solo un porcentaje de los usuarios con más tráfico\n",
    "    per_traf = np.percentile(df_users[col_traffic],percentil)\n",
    "    df_users = df_users[(df_users[col_traffic]>per_traf)].copy()\n",
    "    \n",
    "    # uniendo la información del agrupamiento por nodo\n",
    "    df_users = df_users.merge(agg_nodos, on=['NODO','NOMBRE_NODO'], how='left')\n",
    "    \n",
    "    print(f'Se seleccionan usuarios con tráficos {dw_up_total} mayores que {round(per_traf,2)}, {len(df_users)} usuarios de {l_total}.')\n",
    "    \n",
    "    # columnas de proporción  y número de usuarios preparadas para los gráficos\n",
    "    y_plot = f'{dw_up_total}_log_numero_usuarios'\n",
    "    size_plot = f'{dw_up_total}_participacion_trafico'\n",
    "    df_users[y_plot] = np.log(df_users[f'{dw_up_total}_cantidad_users_nodo'])\n",
    "    df_users[size_plot] = ((df_users[dict_traf[dw_up_total]])/(df_users[f'{dw_up_total}_traffic_sum_nodo']))\n",
    "    \n",
    "    \n",
    "    df_users.to_csv(f'Datos_heavy_users/heavy_user_{dw_up_total}_per_{percentil}_excel.csv', sep=';', decimal=',', index=False)\n",
    "    \n",
    "    if plot_scatter:\n",
    "        plt.figure()\n",
    "        sns.scatterplot(data=df_users, x=col_traffic, y=y_plot, size=size_plot)\n",
    "        plt.show()"
   ]
  },
  {
   "cell_type": "code",
   "execution_count": 5,
   "id": "295d2d71-2642-4f9d-8b2e-cc08cb714013",
   "metadata": {},
   "outputs": [
    {
     "name": "stdout",
     "output_type": "stream",
     "text": [
      "Se seleccionan usuarios con tráficos down mayores que 45.9, 26315 usuarios de 2631427.\n",
      "Se seleccionan usuarios con tráficos up mayores que 4.34, 26315 usuarios de 2631427.\n",
      "Se seleccionan usuarios con tráficos total mayores que 49.61, 26315 usuarios de 2631427.\n"
     ]
    }
   ],
   "source": [
    "preparar_heavy_users('down', percentil=99, plot_scatter=False)\n",
    "preparar_heavy_users('up', percentil=99, plot_scatter=False)\n",
    "preparar_heavy_users('total', percentil=99, plot_scatter=False)"
   ]
  }
 ],
 "metadata": {
  "kernelspec": {
   "display_name": "Python 3",
   "language": "python",
   "name": "python3"
  },
  "language_info": {
   "codemirror_mode": {
    "name": "ipython",
    "version": 3
   },
   "file_extension": ".py",
   "mimetype": "text/x-python",
   "name": "python",
   "nbconvert_exporter": "python",
   "pygments_lexer": "ipython3",
   "version": "3.9.2"
  }
 },
 "nbformat": 4,
 "nbformat_minor": 5
}
