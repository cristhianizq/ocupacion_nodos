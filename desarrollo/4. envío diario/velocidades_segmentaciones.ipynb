{
 "cells": [
  {
   "cell_type": "code",
   "execution_count": 1,
   "id": "819ae56d-62a5-4e02-94ec-d182aa218895",
   "metadata": {},
   "outputs": [
    {
     "data": {
      "text/plain": [
       "'C:\\\\Users\\\\CristhianJohnatanIzq\\\\OneDrive - SQDM\\\\Proyecto2\\\\ENVIO_DARIO\\\\ANALISIS_VELOCIDADES_NODOS_SEGMENTADOS_OOKLA'"
      ]
     },
     "execution_count": 1,
     "metadata": {},
     "output_type": "execute_result"
    }
   ],
   "source": [
    "import pandas as pd\n",
    "import numpy as np\n",
    "import os\n",
    "import matplotlib.pyplot as plt\n",
    "import seaborn as sns\n",
    "import time\n",
    "#import skfda\n",
    "os.getcwd()"
   ]
  },
  {
   "cell_type": "code",
   "execution_count": 2,
   "id": "d24e3809-22e5-4ed1-a029-9ca072f68584",
   "metadata": {},
   "outputs": [],
   "source": [
    "%load_ext autoreload\n",
    "%autoreload 2\n",
    "%matplotlib qt"
   ]
  },
  {
   "cell_type": "markdown",
   "id": "b0e6f9d4-e60c-4dad-a7c4-d98c7397bb0c",
   "metadata": {},
   "source": [
    "# Leyendo archivos de nodos segmentados\n",
    "\n",
    "Los archivos de nodos segmentados desde mayo deben tener nombres con la siguiente estructura:\n",
    "\n",
    "Nodos_Segmentados_Mayo_21.csv   (EL NOMBRE DEL MES DEBE ESTAR COMPLETO VER dic_meses_seg EN EL SIGUIENTE BLOQUE DE CODIGO\n",
    "\n",
    "Si el archivo remitido por Jorge Saenz tiene extensión xlsx convertirlo a csv"
   ]
  },
  {
   "cell_type": "code",
   "execution_count": 3,
   "id": "ae2b7f31-07d9-4192-a47f-a86fc9ba23ed",
   "metadata": {},
   "outputs": [
    {
     "name": "stdout",
     "output_type": "stream",
     "text": [
      "Junio\n",
      "Mayo\n"
     ]
    },
    {
     "data": {
      "text/plain": [
       "202106    206\n",
       "202103     87\n",
       "202105     85\n",
       "202102     70\n",
       "202104     46\n",
       "202101     39\n",
       "Name: mes, dtype: int64"
      ]
     },
     "execution_count": 3,
     "metadata": {},
     "output_type": "execute_result"
    }
   ],
   "source": [
    "path_file = 'DATA_OOKLA/archivos_nodos_segmentados_2021/'\n",
    "dic_meses_seg = {'ENERO':202101,'FEBRERO':202102,'MARZO':202103,'ABRIL':202104, 'BACK MARZO':202104,'MAYO':202105,\n",
    "                'JUNIO':202106, 'JULIO':202107, 'AGOSTO':202108, 'SEPTIEMBRE':202109, 'OCTUBRE':202110, \n",
    "                 'NOVIEMBRE':202111, 'DICIEMBRE':202112}\n",
    "\n",
    "\n",
    "df_segmentados_abril = pd.read_csv(f'{path_file}Segmentaciones_a_Abril_21.csv', sep=';', decimal=',')\n",
    "df_segmentados_abril = df_segmentados_abril.explode('Nodo')\n",
    "df_segmentados_abril = df_segmentados_abril[['Nodo','CRONOGRAMA VIGENTE']].copy()\n",
    "df_segmentados_abril.columns = ['Nodo','mes']\n",
    "\n",
    "# se agrega el nodo ERB que se había considerado en marzo pero no aparecía en el archivo hasta abril\n",
    "df_segmentados_abril = df_segmentados_abril.append(pd.DataFrame.from_dict(data={'Nodo':['ERB'],'mes':['MARZO']}),\n",
    "                                                   ignore_index=True)\n",
    "df_segmentados_abril['mes'] = [dic_meses_seg[x] for x in df_segmentados_abril['mes']]\n",
    "df_segmentados_abril = df_segmentados_abril[['Nodo','mes']]\n",
    "\n",
    "list_df = [df_segmentados_abril]\n",
    "\n",
    "path_file = path_file + 'desde_mayo/'\n",
    "archivos_segmentados_desde_mayo = os.listdir(path_file)\n",
    "\n",
    "\n",
    "\n",
    "for file in archivos_segmentados_desde_mayo:\n",
    "    df_segmentados_mes = pd.read_csv(path_file + file, sep=';', decimal=',')\n",
    "    df_segmentados_mes['Nodo'] = df_segmentados_mes['Nodo'].str.split(',')\n",
    "    df_segmentados_mes = df_segmentados_mes.explode('Nodo')\n",
    "    df_segmentados_mes = df_segmentados_mes[['Nodo']]\n",
    "    mes = file[18:-7]\n",
    "    print(mes)\n",
    "    df_segmentados_mes['mes'] = dic_meses_seg[mes.upper()]\n",
    "    list_df.append(df_segmentados_mes)\n",
    "    \n",
    "df_segmentados = pd.concat(list_df)\n",
    "df_segmentados['mes'].value_counts()"
   ]
  },
  {
   "cell_type": "markdown",
   "id": "45f9c6da-075b-47b4-b8da-b8cd6756b4be",
   "metadata": {},
   "source": [
    "# OOKLA\n",
    "\n",
    "Archivo de OOKLA_FIJA_202106 se utiliza las columnas de la primera línea del siguien bloque de código, se debe cambiar el nombre del archivo al actualizarlo, el archivo actualizado debe tener la misma estructura."
   ]
  },
  {
   "cell_type": "code",
   "execution_count": 4,
   "id": "b85ccd24-ec58-40f2-b552-05acb93584c0",
   "metadata": {},
   "outputs": [
    {
     "name": "stdout",
     "output_type": "stream",
     "text": [
      "Tiempo de ejecución en minutos: 2.1409747838974\n"
     ]
    }
   ],
   "source": [
    "t = time.time()\n",
    "cols = [\"FLAG_LAT\",\"OPERADOR\", \"DOWNLOAD_KBPS\",\"UPLOAD_KBPS\", \"NODO\",\"FECHA\"]\n",
    "df_ookla = pd.read_csv('DATA_OOKLA/OOKLA_FIJA.csv', sep=',', usecols=cols)\n",
    "# seleecionando sólo info de los nodos segmentados\n",
    "nodos_seg = df_segmentados['Nodo'].values\n",
    "mask_seg = [x in nodos_seg for x in df_ookla['NODO']] & (df_ookla['FLAG_LAT']==0)\n",
    "df_ookla = df_ookla[mask_seg].copy()\n",
    "print(f'Tiempo de ejecución en minutos: {(time.time()-t)/60}')"
   ]
  },
  {
   "cell_type": "code",
   "execution_count": 5,
   "id": "b4639eb8-2597-4790-9ff7-7c8942450f88",
   "metadata": {},
   "outputs": [
    {
     "name": "stdout",
     "output_type": "stream",
     "text": [
      "<class 'pandas.core.frame.DataFrame'>\n",
      "Int64Index: 168589 entries, 0 to 168588\n",
      "Data columns (total 7 columns):\n",
      " #   Column          Non-Null Count   Dtype  \n",
      "---  ------          --------------   -----  \n",
      " 0   FLAG_LAT        168579 non-null  float64\n",
      " 1   OPERADOR        168579 non-null  object \n",
      " 2   DOWNLOAD_KBPS   168579 non-null  float64\n",
      " 3   UPLOAD_KBPS     168579 non-null  float64\n",
      " 4   NODO            168589 non-null  object \n",
      " 5   FECHA           168579 non-null  float64\n",
      " 6   MES_SEGMENTADO  168589 non-null  int64  \n",
      "dtypes: float64(4), int64(1), object(2)\n",
      "memory usage: 10.3+ MB\n"
     ]
    }
   ],
   "source": [
    "df_segmentados.rename(columns={'Nodo':'NODO','mes':'MES_SEGMENTADO'}, inplace=True)\n",
    "df_ookla['FECHA'] = [int(x.replace('-','')[:-2]) for x in df_ookla['FECHA']]\n",
    "df_ookla = df_ookla.merge(df_segmentados, on='NODO', how='right')\n",
    "df_ookla.info(show_counts =True)"
   ]
  },
  {
   "cell_type": "code",
   "execution_count": 6,
   "id": "b9a3bd97-cae5-40a6-8c82-70bc5039661a",
   "metadata": {},
   "outputs": [],
   "source": [
    "df_ookla['SEGMENTADO'] = (df_ookla['FECHA'] > df_ookla['MES_SEGMENTADO'])\n",
    "df_ookla['CLARO'] = df_ookla['OPERADOR']=='CLARO'\n",
    "df_ookla['SEGMENTADO'] = df_ookla['SEGMENTADO'] & df_ookla['CLARO']"
   ]
  },
  {
   "cell_type": "code",
   "execution_count": 7,
   "id": "32da7540-7100-4198-bc99-9422d3554a83",
   "metadata": {},
   "outputs": [],
   "source": [
    "df_ookla.to_csv('DATA_OOKLA/salidas/ookla_nodos_segmentados_operadores.csv', sep=';', decimal=',', index=False)"
   ]
  },
  {
   "cell_type": "markdown",
   "id": "f04ca07b-1c7a-4575-8245-e7c2c24cda41",
   "metadata": {},
   "source": [
    "## Tablas CSV OPERADORES Y CLARO PRE Y POS SEGMENTACIÓN"
   ]
  },
  {
   "cell_type": "markdown",
   "id": "3ceaef02-b899-462f-a64c-3cffd088be10",
   "metadata": {},
   "source": [
    "***Revisar medida de centraliad para la agregación***\n",
    "\n",
    "Se toma como medida de agregación la trimedia definida en las siguientes dos líneas de código. Se puede considerar medidas tradicionales como media o mediana pero se recomienda dejar la trimedia ya que tiene información de la mediana y de los percentiles 10 y 90."
   ]
  },
  {
   "cell_type": "code",
   "execution_count": 8,
   "id": "adf4b712-4e91-47ce-9c60-e1f0623a1fb6",
   "metadata": {
    "tags": []
   },
   "outputs": [],
   "source": [
    "fun_tri = lambda array: (np.percentile(array,10) + 2*np.percentile(array,50) + np.percentile(array,90))/4\n",
    "fun_tri_3 = lambda array: fun_tri(array) if len(array)>3 else np.nan\n",
    "\n",
    "table_down = pd.pivot_table(data=df_ookla, columns=['OPERADOR','SEGMENTADO'], index=['NODO'],\n",
    "               values='DOWNLOAD_KBPS', aggfunc=fun_tri_3)\n",
    "table_down.columns = [f'{x[0]} SEG {x[1]} TRIDOWN' for x in table_down.columns]\n",
    "\n",
    "list_pre_cols = [x[:-4] for x in table_down.columns]\n",
    "\n",
    "table_up = pd.pivot_table(data=df_ookla, columns=['OPERADOR','SEGMENTADO'], index=['NODO'],\n",
    "               values='UPLOAD_KBPS', aggfunc=fun_tri_3)\n",
    "table_up.columns = [f'{x[0]} SEG {x[1]} TRIUP' for x in table_up.columns]\n",
    "\n",
    "table = table_down.join(table_up)\n",
    "list_scores = []\n",
    "for col in list_pre_cols:\n",
    "    col_score = f'SPEED SCORE {col[:-4]}'\n",
    "    list_scores.append(col_score)\n",
    "    table[col_score] = 0.9*table[f'{col}DOWN'] + 0.1*table[f'{col}UP']\n",
    "table = table[list_scores].copy()"
   ]
  },
  {
   "cell_type": "code",
   "execution_count": 9,
   "id": "737bdb12-8504-4108-89f6-7991e0505a4a",
   "metadata": {},
   "outputs": [],
   "source": [
    "table.to_csv('DATA_OOKLA/salidas/ookla_score_nodos_segmentados.csv', sep=';', decimal=',')"
   ]
  },
  {
   "cell_type": "code",
   "execution_count": 10,
   "id": "01f3b595-2ad2-4dbe-bd81-2396712c978b",
   "metadata": {
    "tags": []
   },
   "outputs": [],
   "source": [
    "table.describe().to_csv('DATA_OOKLA/salidas/ookla_score_nodos_segmentados_resumen.csv', sep=';', decimal=',')"
   ]
  },
  {
   "cell_type": "markdown",
   "id": "df8dcf86-4e73-4738-b340-b400ad9f21eb",
   "metadata": {},
   "source": [
    "# CSV PARA DASHBOARDS COMPORTAMIENTOS POR MES"
   ]
  },
  {
   "cell_type": "code",
   "execution_count": 11,
   "id": "334b8fcf-3292-4e1f-8246-88323e1b895d",
   "metadata": {},
   "outputs": [],
   "source": [
    "df_down_group = df_ookla.groupby(['NODO','FECHA','OPERADOR','SEGMENTADO','MES_SEGMENTADO']).agg({'DOWNLOAD_KBPS':'mean'})\n",
    "df_up_group = df_ookla.groupby(['NODO','FECHA','OPERADOR','SEGMENTADO','MES_SEGMENTADO']).agg({'UPLOAD_KBPS':'mean'})\n",
    "df_group = df_down_group.merge(df_up_group, how='inner', on = ['NODO','FECHA','OPERADOR','SEGMENTADO','MES_SEGMENTADO'])\n",
    "df_group.reset_index(inplace=True)\n",
    "df_group['FECHA'] = pd.to_datetime([f'{str(x)[:4]}/{str(x)[4:6]}/01' for x in df_group['FECHA']])\n",
    "df_group.loc[((df_group['SEGMENTADO']) & (df_group['OPERADOR']=='CLARO')),'OPERADOR'] = 'CLARO_POS_SEGMENTACION'\n",
    "df_group.loc[((~df_group['SEGMENTADO'])& (df_group['OPERADOR']=='CLARO')),'OPERADOR'] = 'CLARO_PRE_SEGMENTACION'"
   ]
  },
  {
   "cell_type": "markdown",
   "id": "6b1b02c9-3daf-448d-8c51-0fd0abfd154b",
   "metadata": {},
   "source": [
    "## Velocidad promedio ofrecida\n",
    "\n",
    "El archivo con las velocidades ofrecidas es actualizado, conservar la estructura del archivo, se tomó la columna mediana velocidad pero el archivo trae otras medidas."
   ]
  },
  {
   "cell_type": "code",
   "execution_count": 12,
   "id": "6fee3676-ebfe-4bf5-a6e9-c6f28e9a0baf",
   "metadata": {},
   "outputs": [],
   "source": [
    "df_velocidad = pd.read_csv('DATA_OOKLA/Nodos_vel_prom_hist1.csv', sep=';', decimal=',', \n",
    "                           usecols=['NODO','MEDIANA_VEL','ESTRATO','MES','ANIO'])\n",
    "df_velocidad['FECHA'] = '20' + df_velocidad['ANIO'].astype('str') + '/' + df_velocidad['MES'].astype('str') + '/01'\n",
    "df_velocidad['FECHA'] = df_velocidad['FECHA'].astype('datetime64[D]').astype('str')\n",
    "df_velocidad = df_velocidad.groupby('NODO').agg({'MEDIANA_VEL':'median'}).reset_index()"
   ]
  },
  {
   "cell_type": "code",
   "execution_count": 13,
   "id": "8746650e-0ffe-4dd1-b916-228ef80837fe",
   "metadata": {},
   "outputs": [],
   "source": [
    "df_group_dash = df_group.merge(df_velocidad[['NODO','MEDIANA_VEL']], on=['NODO'], how='left')\n",
    "df_group_dash['down_mediana_velocidad'] = (df_group_dash['DOWNLOAD_KBPS'] /1000)/ df_group_dash['MEDIANA_VEL']\n",
    "df_group_dash['OPER_MES_SEG'] = df_group_dash['OPERADOR'] + '_' + df_group_dash['MES_SEGMENTADO'].astype('str')\n",
    "df_group_dash.to_csv('DATA_OOKLA/salidas/ookla_fechas_up_down.csv', sep=';', decimal=',', index=False)"
   ]
  },
  {
   "cell_type": "markdown",
   "id": "715f2caa-b761-494e-8ab1-23cd73c6ccd4",
   "metadata": {},
   "source": [
    "# Tendecias Generales dash"
   ]
  },
  {
   "cell_type": "code",
   "execution_count": 14,
   "id": "0418dbf4-b26a-44e1-a073-b82dcc36cab7",
   "metadata": {},
   "outputs": [
    {
     "name": "stdout",
     "output_type": "stream",
     "text": [
      "Tiempo de ejecución en minutos: 3.9501426736513774\n",
      "<class 'pandas.core.frame.DataFrame'>\n",
      "RangeIndex: 238601 entries, 0 to 238600\n",
      "Data columns (total 5 columns):\n",
      " #   Column         Non-Null Count   Dtype  \n",
      "---  ------         --------------   -----  \n",
      " 0   NODO           238601 non-null  object \n",
      " 1   FECHA          238601 non-null  object \n",
      " 2   OPERADOR       238601 non-null  object \n",
      " 3   DOWNLOAD_KBPS  115236 non-null  float64\n",
      " 4   UPLOAD_KBPS    115236 non-null  float64\n",
      "dtypes: float64(2), object(3)\n",
      "memory usage: 9.1+ MB\n"
     ]
    }
   ],
   "source": [
    "t = time.time()\n",
    "cols = [\"FLAG_LAT\",\"OPERADOR\", \"DOWNLOAD_KBPS\",\"UPLOAD_KBPS\", \"NODO\",\"FECHA\"]\n",
    "df_ookla_general = pd.read_csv('DATA_OOKLA/OOKLA_FIJA.csv', sep=',', usecols=cols)\n",
    "mask_seg = (df_ookla_general['FLAG_LAT']==0)\n",
    "df_ookla_general = df_ookla_general[mask_seg].copy()\n",
    "df_ookla_general['FECHA'] = [str(x)[:7]+'-15' for x in df_ookla_general['FECHA']]\n",
    "dic_funs = {\"DOWNLOAD_KBPS\":fun_tri_3, \"UPLOAD_KBPS\":fun_tri_3} \n",
    "df_ookla_general = df_ookla_general.groupby([\"NODO\",\"FECHA\",\"OPERADOR\"]).agg(dic_funs).reset_index()\n",
    "df_ookla_general.to_csv('DATA_OOKLA/salidas/ookla_general.csv', sep=';', decimal=',', index=False)\n",
    "print(f'Tiempo de ejecución en minutos: {(time.time()-t)/60}')\n",
    "df_ookla_general.info()"
   ]
  },
  {
   "cell_type": "code",
   "execution_count": null,
   "id": "1f81b295-530b-4331-b1fa-aa92c8aa3cc8",
   "metadata": {},
   "outputs": [],
   "source": []
  }
 ],
 "metadata": {
  "kernelspec": {
   "display_name": "Python 3",
   "language": "python",
   "name": "python3"
  },
  "language_info": {
   "codemirror_mode": {
    "name": "ipython",
    "version": 3
   },
   "file_extension": ".py",
   "mimetype": "text/x-python",
   "name": "python",
   "nbconvert_exporter": "python",
   "pygments_lexer": "ipython3",
   "version": "3.8.8"
  }
 },
 "nbformat": 4,
 "nbformat_minor": 5
}
