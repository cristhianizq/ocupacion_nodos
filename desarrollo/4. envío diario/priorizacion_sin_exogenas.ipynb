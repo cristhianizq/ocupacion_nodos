{
 "cells": [
  {
   "cell_type": "code",
   "execution_count": 1,
   "id": "c03f59de-b99d-4df8-bb3d-6c436f17782e",
   "metadata": {
    "tags": []
   },
   "outputs": [],
   "source": [
    "%load_ext autoreload\n",
    "%autoreload 2"
   ]
  },
  {
   "cell_type": "code",
   "execution_count": 1,
   "id": "ccb44918-9152-4806-975c-1798cf169a75",
   "metadata": {},
   "outputs": [
    {
     "data": {
      "text/plain": [
       "'C:\\\\Users\\\\CristhianJohnatanIzq\\\\OneDrive - SQDM\\\\Proyecto2\\\\ENVIO_DARIO\\\\MODELO_PRIORIZACION_DATA_ORIGEN_ADRIANA'"
      ]
     },
     "execution_count": 1,
     "metadata": {},
     "output_type": "execute_result"
    }
   ],
   "source": [
    "import os\n",
    "import pandas as pd\n",
    "from Priorizacion_funciones.ocupacion_nodos_sin_exo import *\n",
    "from Priorizacion_funciones.modelo_forecast_sin_exo import *\n",
    "from Priorizacion_funciones.series_generadas import *\n",
    "import warnings\n",
    "warnings.filterwarnings('ignore')\n",
    "os.getcwd()"
   ]
  },
  {
   "cell_type": "markdown",
   "id": "c7027443-0f84-43b5-8a50-136a98776115",
   "metadata": {},
   "source": [
    "***Dejar sólo un archivo de ocupación completo: si lo envían completo reemplazar el archivo en la carpeta ocupación, si envian sólo el último mes se debe generar sólo uno.***\n"
   ]
  },
  {
   "cell_type": "code",
   "execution_count": 3,
   "id": "2530b170-12bb-49cc-94cb-55d5ca79ca07",
   "metadata": {},
   "outputs": [],
   "source": [
    "data_completa = pd.read_csv('ocupacion/OCUPACION_COMPLETO.csv')\n",
    "data_completa['MES'] = [f'0{x}' if x <10 else str(x) for x in data_completa['MES']]\n",
    "data_completa['DIA'] = [f'0{x}' if x <10 else str(x) for x in data_completa['DIA']]\n",
    "data_completa['FECHA'] = data_completa['ANIO'].astype('str') + '-' + data_completa['MES'] + '-' + data_completa['DIA']\n",
    "data_completa.rename(columns={'CMTC':'CMTS', 'COD_NODO':'NODO'}, inplace=True)\n",
    "cols_stream = ['CMTS','CABLEMAC','NODO','OCUPACION','FECHA']\n",
    "downstream = data_completa.loc[(data_completa['SENTIDO']=='DOWN'),cols_stream].copy()\n",
    "downstream.rename(columns={'OCUPACION':'DW'}, inplace=True)\n",
    "upstream = data_completa.loc[(data_completa['SENTIDO']=='UP'), cols_stream].copy()\n",
    "upstream.rename(columns={'OCUPACION':'UP'}, inplace=True)"
   ]
  },
  {
   "cell_type": "code",
   "execution_count": 4,
   "id": "33776699-d690-4d61-8d19-775ec4aed8c3",
   "metadata": {},
   "outputs": [],
   "source": [
    "downstream.to_csv('Data_Forecast/dwstream.csv', sep=\";\",decimal=',') # Carga de datos\n",
    "upstream.to_csv('Data_Forecast/upstream.csv', sep=\";\",decimal=',') # Carga de datos"
   ]
  },
  {
   "cell_type": "code",
   "execution_count": 5,
   "id": "f0363af7-43e7-4bef-9f77-0936117d466b",
   "metadata": {},
   "outputs": [
    {
     "name": "stdin",
     "output_type": "stream",
     "text": [
      "Verificar: si si\n"
     ]
    }
   ],
   "source": [
    "limpiar_carpeta_out_modelo()"
   ]
  },
  {
   "cell_type": "code",
   "execution_count": 6,
   "id": "c1ac31cc-79b5-44da-8eba-bb184805a25d",
   "metadata": {},
   "outputs": [
    {
     "data": {
      "text/plain": [
       "array(['2020-06-01', '2020-06-08', '2020-06-15', '2020-06-22',\n",
       "       '2020-06-29', '2020-07-06', '2020-07-13', '2020-07-20',\n",
       "       '2020-07-27', '2020-08-03', '2020-08-10', '2020-08-17',\n",
       "       '2020-08-24', '2020-08-31', '2020-09-07', '2020-09-14',\n",
       "       '2020-09-21', '2020-09-28', '2020-10-05', '2020-10-12',\n",
       "       '2020-10-19', '2020-10-26', '2020-11-02', '2020-11-09',\n",
       "       '2020-11-16', '2020-11-23', '2020-11-30', '2020-12-07',\n",
       "       '2020-12-14', '2020-12-21', '2020-12-28', '2021-01-04',\n",
       "       '2021-01-11', '2021-01-18', '2021-01-25', '2021-02-01',\n",
       "       '2021-02-08', '2021-02-15', '2021-02-22', '2021-03-01',\n",
       "       '2021-03-08', '2021-03-15', '2021-03-22', '2021-03-29',\n",
       "       '2021-04-05', '2021-04-12', '2021-04-19', '2021-04-26',\n",
       "       '2021-05-03', '2021-05-10', '2021-05-17', '2021-05-24',\n",
       "       '2021-05-31', '2021-06-07', '2021-06-14'], dtype=object)"
      ]
     },
     "execution_count": 6,
     "metadata": {},
     "output_type": "execute_result"
    }
   ],
   "source": [
    "downstream['FECHA'].sort_values().unique()"
   ]
  },
  {
   "cell_type": "code",
   "execution_count": 7,
   "id": "21df401e-ec43-439e-a62f-12ebdc56bce1",
   "metadata": {},
   "outputs": [],
   "source": [
    "#### fechas de lunes (automatizar fechas)\n",
    "#### se recomienda dejar tres fechas de validación y predecir dos\n",
    "fecha_ini_fore = '2021-05-31'\n",
    "fecha_final_fore  = '2021-06-28'\n",
    "# Para correr todos colocar -1\n",
    "n_nodos = 100"
   ]
  },
  {
   "cell_type": "code",
   "execution_count": 8,
   "id": "8e2f2727-2830-4e24-b5e6-3612dfa9c5a9",
   "metadata": {},
   "outputs": [
    {
     "name": "stdout",
     "output_type": "stream",
     "text": [
      "--------------------------------------------------\n",
      "Tiempo de inicio de la corrida del modelo: 2021-07-15 15:11\n",
      "--------------------------------------------------\n"
     ]
    },
    {
     "name": "stderr",
     "output_type": "stream",
     "text": [
      "[Parallel(n_jobs=-1)]: Using backend LokyBackend with 8 concurrent workers.\n",
      "[Parallel(n_jobs=-1)]: Done  34 tasks      | elapsed:  2.8min\n",
      "[Parallel(n_jobs=-1)]: Done 100 out of 100 | elapsed:  6.1min finished\n"
     ]
    },
    {
     "name": "stdout",
     "output_type": "stream",
     "text": [
      "--------------------------------------------------\n",
      "Tiempo de finalización de la corrida del modelo: 2021-07-15 15:17\n",
      "--------------------------------------------------\n"
     ]
    }
   ],
   "source": [
    "run_modelo(downstream, \"DW\",n_nodos, \n",
    "           fecha_ini_fore, fecha_final_fore, load_model=False)"
   ]
  },
  {
   "cell_type": "code",
   "execution_count": 9,
   "id": "668f99fd-2d0d-443c-8e7b-fb5094e437dd",
   "metadata": {},
   "outputs": [
    {
     "name": "stdout",
     "output_type": "stream",
     "text": [
      "--------------------------------------------------\n",
      "Tiempo de inicio de la corrida del modelo: 2021-07-15 15:17\n",
      "--------------------------------------------------\n"
     ]
    },
    {
     "name": "stderr",
     "output_type": "stream",
     "text": [
      "[Parallel(n_jobs=-1)]: Using backend LokyBackend with 8 concurrent workers.\n",
      "[Parallel(n_jobs=-1)]: Done  34 tasks      | elapsed:  1.9min\n",
      "[Parallel(n_jobs=-1)]: Done 100 out of 100 | elapsed:  5.3min finished\n"
     ]
    },
    {
     "name": "stdout",
     "output_type": "stream",
     "text": [
      "--------------------------------------------------\n",
      "Tiempo de finalización de la corrida del modelo: 2021-07-15 15:22\n",
      "--------------------------------------------------\n"
     ]
    }
   ],
   "source": [
    "run_modelo(upstream, \"UP\",n_nodos, \n",
    "           fecha_ini_fore, fecha_final_fore, load_model=False)"
   ]
  },
  {
   "cell_type": "code",
   "execution_count": 10,
   "id": "3c41f371-603b-4ade-8e8a-28f7a02b2e69",
   "metadata": {
    "tags": []
   },
   "outputs": [
    {
     "name": "stderr",
     "output_type": "stream",
     "text": [
      "100%|██████████| 179/179 [00:19<00:00,  9.16it/s]\n"
     ]
    },
    {
     "name": "stdout",
     "output_type": "stream",
     "text": [
      "En el nodo del archivo Data_out_modelo\\DW_SGT4D.csv no se pudo calcular el mape, se asigna 2 como valor por defecto\n",
      "************************************************************\n",
      "Información de la métrica de evaluación (mape):\n",
      "************************************************************\n",
      "EXCELENTE (<=10%)    61.0\n",
      "BUENO (<=20%)        27.0\n",
      "MALO (>30%)           6.0\n",
      "REGULAR (<=30%)       6.0\n",
      "Name: CALIFICACION, dtype: float64\n",
      "------------------------------------------------------------\n",
      "Descripción de los puntajes clasificados como malos: \n",
      "------------------------------------------------------------\n",
      "               MAPE\n",
      "count  1.000000e+01\n",
      "mean   1.891512e+09\n",
      "std    5.981486e+09\n",
      "min    3.024219e-01\n",
      "25%    4.067106e-01\n",
      "50%    4.713308e-01\n",
      "75%    7.396388e-01\n",
      "max    1.891512e+10\n",
      "--------------------------------------------------\n",
      "Tiempo de ejecución de la evaluación: 19.768937349319458\n",
      "--------------------------------------------------\n",
      "--------------------------------------------------\n",
      "Evaluación guardada en : Data_Forecast/proyecciones/evaluacion.csv\n",
      "--------------------------------------------------\n"
     ]
    }
   ],
   "source": [
    "df_evaluacion = evaluacion_mape_modelo()"
   ]
  },
  {
   "cell_type": "code",
   "execution_count": 12,
   "id": "4ae20a8a-7abc-4e3f-9cb1-e77e330b223c",
   "metadata": {},
   "outputs": [
    {
     "name": "stderr",
     "output_type": "stream",
     "text": [
      "100%|██████████| 179/179 [00:00<00:00, 268.19it/s]\n"
     ]
    },
    {
     "name": "stdout",
     "output_type": "stream",
     "text": [
      "------------------------------------------------------------\n",
      "Conteo de nodos: \n",
      " DOWN:\n",
      "93 \n",
      " UP:\n",
      "86 \n",
      "------------------------------------------------------------\n",
      "Conteo de fechas (): \n",
      " Down:\n",
      "2021-06-28    93\n",
      "2021-06-21    93\n",
      "Name: FECHA, dtype: int64 \n",
      " UP:\n",
      "2021-06-28    86\n",
      "2021-06-21    86\n",
      "Name: FECHA, dtype: int64\n",
      "------------------------------------------------------------\n",
      "Proyecciones guardadas en: Data_Forecast/proyecciones/\n"
     ]
    }
   ],
   "source": [
    "### Número de periodos a proyectar se puede automatizar como 2 teniendo en cuenta que las fechas indicadas anteriormente den dos periodos de proyección\n",
    "periodos_a_proyectar = 2\n",
    "consolidar_archivo_proyeccion(periodos_a_proyectar)"
   ]
  },
  {
   "cell_type": "code",
   "execution_count": 13,
   "id": "3aab3e56-ba06-4a74-b504-ac8c7378aa06",
   "metadata": {},
   "outputs": [
    {
     "name": "stderr",
     "output_type": "stream",
     "text": [
      "100%|██████████| 179/179 [00:00<00:00, 185.56it/s]\n"
     ]
    },
    {
     "name": "stdout",
     "output_type": "stream",
     "text": [
      "----------------------------------------------------------------------------------------------------\n",
      "Los siguientes archivos no se han agregado a los archivos de series temporales\n",
      "----------------------------------------------------------------------------------------------------\n",
      "['Data_out_modelo\\\\DW_SGT4D.csv']\n",
      "------------------------------------------------------------\n",
      "Conteo de nodos: \n",
      " Serie real:\n",
      "178 \n",
      " Proyecciones:\n",
      "178 \n",
      "------------------------------------------------------------\n",
      "Conteo de fechas: \n",
      " Reales:\n",
      "2021-01-04    178\n",
      "2021-04-26    178\n",
      "2021-02-08    178\n",
      "2021-02-01    178\n",
      "2021-05-03    178\n",
      "2021-01-25    178\n",
      "2021-02-22    178\n",
      "2021-04-05    178\n",
      "2021-03-29    178\n",
      "2021-06-07    178\n",
      "2021-03-15    178\n",
      "2021-05-31    178\n",
      "2021-04-12    178\n",
      "2021-03-08    178\n",
      "2021-04-19    178\n",
      "2021-02-15    178\n",
      "2021-05-10    178\n",
      "2021-03-01    178\n",
      "2021-01-18    178\n",
      "2021-03-22    178\n",
      "2021-05-17    177\n",
      "2020-12-07    177\n",
      "2020-11-30    177\n",
      "2020-12-28    177\n",
      "2021-05-24    177\n",
      "2020-12-14    177\n",
      "2020-10-19    176\n",
      "2020-10-26    176\n",
      "2020-10-05    176\n",
      "2020-10-12    176\n",
      "2020-12-21    176\n",
      "2020-09-28    176\n",
      "2021-06-14    176\n",
      "2020-09-14    176\n",
      "2020-09-21    176\n",
      "2020-09-07    175\n",
      "2020-08-31    175\n",
      "2020-06-01    174\n",
      "2020-06-22    174\n",
      "2020-08-03    172\n",
      "2020-06-29    170\n",
      "2020-07-20    170\n",
      "2020-07-06    170\n",
      "2020-07-27    170\n",
      "2020-07-13    170\n",
      "2020-08-17    168\n",
      "2020-11-23    166\n",
      "2020-06-15    139\n",
      "2020-06-08    139\n",
      "2020-08-10    138\n",
      "2020-11-16    136\n",
      "2020-11-02    121\n",
      "2020-08-24    118\n",
      "2020-11-09    117\n",
      "2021-01-11    116\n",
      "Name: FECHA, dtype: int64 \n",
      " Proyecciones:\n",
      "2021-06-28    178\n",
      "2021-06-21    178\n",
      "2021-06-14    178\n",
      "2021-05-31    177\n",
      "2021-06-07    177\n",
      "Name: FECHA, dtype: int64\n",
      "------------------------------------------------------------\n",
      "Proyecciones guardadas en: Data_Forecast/series_temporales/\n"
     ]
    }
   ],
   "source": [
    "# consolidación de archivos para análisis temporal de tendencias \n",
    "# de los tráficos, ver notebook claro_nodos_temporal.ipynb\n",
    "consolidar_archivo_serie_temporal()"
   ]
  },
  {
   "cell_type": "code",
   "execution_count": 14,
   "id": "1ba9d4c1-b2ea-4e90-a5eb-1c6814281231",
   "metadata": {},
   "outputs": [
    {
     "data": {
      "text/html": [
       "<div>\n",
       "<style scoped>\n",
       "    .dataframe tbody tr th:only-of-type {\n",
       "        vertical-align: middle;\n",
       "    }\n",
       "\n",
       "    .dataframe tbody tr th {\n",
       "        vertical-align: top;\n",
       "    }\n",
       "\n",
       "    .dataframe thead th {\n",
       "        text-align: right;\n",
       "    }\n",
       "</style>\n",
       "<table border=\"1\" class=\"dataframe\">\n",
       "  <thead>\n",
       "    <tr style=\"text-align: right;\">\n",
       "      <th></th>\n",
       "      <th>CMTS</th>\n",
       "      <th>CABLEMAC</th>\n",
       "      <th>NODO</th>\n",
       "      <th>DW</th>\n",
       "      <th>FECHA</th>\n",
       "    </tr>\n",
       "  </thead>\n",
       "  <tbody>\n",
       "    <tr>\n",
       "      <th>1</th>\n",
       "      <td>BOGO-COT-H-03-CS100G</td>\n",
       "      <td>CATV-MAC 17</td>\n",
       "      <td>TN11</td>\n",
       "      <td>0.616279</td>\n",
       "      <td>2021-02-08</td>\n",
       "    </tr>\n",
       "    <tr>\n",
       "      <th>2</th>\n",
       "      <td>VILL-VILL-H-02-CS100G</td>\n",
       "      <td>CATV-MAC 5</td>\n",
       "      <td>VGL</td>\n",
       "      <td>0.672510</td>\n",
       "      <td>2021-06-07</td>\n",
       "    </tr>\n",
       "    <tr>\n",
       "      <th>6</th>\n",
       "      <td>BOGO-POLO-H-15-CS100G</td>\n",
       "      <td>CATV-MAC 19</td>\n",
       "      <td>30A013</td>\n",
       "      <td>0.473507</td>\n",
       "      <td>2021-02-01</td>\n",
       "    </tr>\n",
       "    <tr>\n",
       "      <th>7</th>\n",
       "      <td>PAST-PASTO-H-01-CS100G</td>\n",
       "      <td>CATV-MAC 37</td>\n",
       "      <td>NVR2D</td>\n",
       "      <td>0.584218</td>\n",
       "      <td>2020-07-13</td>\n",
       "    </tr>\n",
       "    <tr>\n",
       "      <th>9</th>\n",
       "      <td>BOGO-FONT-H-02-CS100G</td>\n",
       "      <td>CATV-MAC 13</td>\n",
       "      <td>41D1</td>\n",
       "      <td>0.653036</td>\n",
       "      <td>2020-12-14</td>\n",
       "    </tr>\n",
       "    <tr>\n",
       "      <th>...</th>\n",
       "      <td>...</td>\n",
       "      <td>...</td>\n",
       "      <td>...</td>\n",
       "      <td>...</td>\n",
       "      <td>...</td>\n",
       "    </tr>\n",
       "    <tr>\n",
       "      <th>1478833</th>\n",
       "      <td>BOGO-VENE-H-06-CS100G</td>\n",
       "      <td>CATV-MAC 10</td>\n",
       "      <td>GLC1</td>\n",
       "      <td>0.392465</td>\n",
       "      <td>2020-10-26</td>\n",
       "    </tr>\n",
       "    <tr>\n",
       "      <th>1478837</th>\n",
       "      <td>TUNJ-TUNJA-H-01-CS100G</td>\n",
       "      <td>CATV-MAC 13</td>\n",
       "      <td>SRN</td>\n",
       "      <td>0.387603</td>\n",
       "      <td>2020-11-02</td>\n",
       "    </tr>\n",
       "    <tr>\n",
       "      <th>1478838</th>\n",
       "      <td>MEDE-ESUR-H-03-ARRIE6</td>\n",
       "      <td>CABLE-MAC 54</td>\n",
       "      <td>ENG</td>\n",
       "      <td>0.627140</td>\n",
       "      <td>2021-02-22</td>\n",
       "    </tr>\n",
       "    <tr>\n",
       "      <th>1478839</th>\n",
       "      <td>CHIA-CHIA-H-03-CS100G</td>\n",
       "      <td>CATV-MAC 11</td>\n",
       "      <td>ILI2D</td>\n",
       "      <td>0.811810</td>\n",
       "      <td>2021-01-25</td>\n",
       "    </tr>\n",
       "    <tr>\n",
       "      <th>1478840</th>\n",
       "      <td>BOGO-REST-C-04-CS100G</td>\n",
       "      <td>CATV-MAC 42</td>\n",
       "      <td>ZI1</td>\n",
       "      <td>0.580474</td>\n",
       "      <td>2021-04-19</td>\n",
       "    </tr>\n",
       "  </tbody>\n",
       "</table>\n",
       "<p>739802 rows × 5 columns</p>\n",
       "</div>"
      ],
      "text/plain": [
       "                           CMTS      CABLEMAC    NODO        DW       FECHA\n",
       "1          BOGO-COT-H-03-CS100G   CATV-MAC 17    TN11  0.616279  2021-02-08\n",
       "2         VILL-VILL-H-02-CS100G    CATV-MAC 5     VGL  0.672510  2021-06-07\n",
       "6         BOGO-POLO-H-15-CS100G   CATV-MAC 19  30A013  0.473507  2021-02-01\n",
       "7        PAST-PASTO-H-01-CS100G   CATV-MAC 37   NVR2D  0.584218  2020-07-13\n",
       "9         BOGO-FONT-H-02-CS100G   CATV-MAC 13    41D1  0.653036  2020-12-14\n",
       "...                         ...           ...     ...       ...         ...\n",
       "1478833   BOGO-VENE-H-06-CS100G   CATV-MAC 10    GLC1  0.392465  2020-10-26\n",
       "1478837  TUNJ-TUNJA-H-01-CS100G   CATV-MAC 13     SRN  0.387603  2020-11-02\n",
       "1478838   MEDE-ESUR-H-03-ARRIE6  CABLE-MAC 54     ENG  0.627140  2021-02-22\n",
       "1478839   CHIA-CHIA-H-03-CS100G   CATV-MAC 11   ILI2D  0.811810  2021-01-25\n",
       "1478840   BOGO-REST-C-04-CS100G   CATV-MAC 42     ZI1  0.580474  2021-04-19\n",
       "\n",
       "[739802 rows x 5 columns]"
      ]
     },
     "execution_count": 14,
     "metadata": {},
     "output_type": "execute_result"
    }
   ],
   "source": [
    "downstream"
   ]
  },
  {
   "cell_type": "code",
   "execution_count": 15,
   "id": "0a70e5d4-b0e9-46a6-a3ee-cdd01e25500b",
   "metadata": {},
   "outputs": [
    {
     "name": "stdout",
     "output_type": "stream",
     "text": [
      "Fechas:  Inicial --> 2021-06-07, Final --> 2021-06-14\n"
     ]
    }
   ],
   "source": [
    "# fecha inicial corresponde a la penultima semana y final a la última\n",
    "# semana de la que se tiene registro\n",
    "divi = {'UP':(27*4), 'DW':(38*48)}\n",
    "downstream['DW'] = downstream['DW']*divi['DW']\n",
    "upstream['UP'] = upstream['UP']*divi['UP']\n",
    "ocup_completo = generar_archivo_unificado(downstream, upstream)\n",
    "ocup_wide = get_ocup_wide(ocup_completo)"
   ]
  },
  {
   "cell_type": "code",
   "execution_count": 16,
   "id": "ed8596d3-95ad-4731-a757-279fd44d8449",
   "metadata": {},
   "outputs": [
    {
     "data": {
      "text/plain": [
       "0"
      ]
     },
     "execution_count": 16,
     "metadata": {},
     "output_type": "execute_result"
    }
   ],
   "source": [
    "# elimiar repetidos, se conserva el de valor máximo en down para \n",
    "# la última fecha\n",
    "ocup_wide.sort_values('DW_FIN', ascending=False, inplace=True)\n",
    "ocup_wide.drop_duplicates(subset=['NODO'], inplace=True)\n",
    "sum(ocup_wide.duplicated(subset='NODO'))"
   ]
  },
  {
   "cell_type": "markdown",
   "id": "d6509abf-c28f-4bf9-85aa-0d3482193d70",
   "metadata": {},
   "source": [
    "#### MODIFICAR CADA VEZ QUE SE CAMBIE EL LISTADO DE REQUERIMIENTOS."
   ]
  },
  {
   "cell_type": "code",
   "execution_count": 17,
   "id": "31ba377c-8e47-4a42-a076-15beb9a51b82",
   "metadata": {},
   "outputs": [],
   "source": [
    "path_reque = 'Data_priorizacion\\Requerimientos_blindaje\\Listado Requerimientosxlsx.xlsx'\n",
    "blindajes = pd.read_excel(path_reque, dtype = {'ID NODO':str, 'ID ALTERNO':str})"
   ]
  },
  {
   "cell_type": "markdown",
   "id": "f0990fa3-1e58-4da4-acff-f8afd91ee9df",
   "metadata": {},
   "source": [
    "#### No modificar"
   ]
  },
  {
   "cell_type": "code",
   "execution_count": 18,
   "id": "01c2951f-ec6a-4987-8c50-00940cde2dbc",
   "metadata": {},
   "outputs": [],
   "source": [
    "pred_dw = pd.read_csv('Data_Forecast/proyecciones/dw_proyeccion.csv')\n",
    "pred_up = pd.read_csv('Data_Forecast/proyecciones/up_proyeccion.csv')\n",
    "pred_dw.drop_duplicates(subset=['NODO','FECHA'],inplace=True)\n",
    "pred_up.drop_duplicates(subset=['NODO','FECHA'],inplace=True)\n",
    "ocup_blindaje = ocup_wide.merge(blindajes, left_on = 'NODO', right_on ='ID NODO', how = 'left')\n",
    "ocup_blindaje.loc[ocup_blindaje['NOMBRE DEL PLAN'].isna(), 'NOMBRE DEL PLAN'] = 'Resto del Pais'"
   ]
  },
  {
   "cell_type": "markdown",
   "id": "f1f97217-b836-44cd-bc7c-c49f6ccb4dfb",
   "metadata": {},
   "source": [
    "#### MODIFICAR CADA VEZ QUE SE CORRA EL ANÁLISIS"
   ]
  },
  {
   "cell_type": "code",
   "execution_count": 19,
   "id": "f2b9bc67-6fce-47f2-b610-720adbd8b463",
   "metadata": {},
   "outputs": [],
   "source": [
    "# automatizar fechas de las semanas posteriores en las entradas de la siguiente función\n",
    "ocup_proyeccion = get_ocup_proyeccion(pred_dw, pred_up, ocup_blindaje,'2021-06-21','2021-06-28')   "
   ]
  },
  {
   "cell_type": "code",
   "execution_count": 20,
   "id": "2e444b94-5e5e-4da5-888d-88d0dc712aa4",
   "metadata": {},
   "outputs": [
    {
     "name": "stdout",
     "output_type": "stream",
     "text": [
      "Los csv de priorización fueron guardados en la carpeta Data_priorizacion.\n"
     ]
    }
   ],
   "source": [
    "df_evaluacion = pd.read_csv('Data_Forecast/proyecciones/evaluacion.csv')\n",
    "serie_real = pd.read_csv('Data_Forecast/series_temporales/series_reales.csv')\n",
    "tabla_frec_rojos = get_frecuencia_rojos(serie_real)\n",
    "priorizacion = get_priorizacion(ocup_proyeccion, \n",
    "                                df_evaluacion, tabla_frec_rojos)"
   ]
  },
  {
   "cell_type": "markdown",
   "id": "284cf691-0ba5-4477-ae88-6dd5babac4de",
   "metadata": {},
   "source": [
    "***Para generar el archivo con información geográfica ir al cuadernillo análisis_geo***"
   ]
  }
 ],
 "metadata": {
  "kernelspec": {
   "display_name": "Python 3",
   "language": "python",
   "name": "python3"
  },
  "language_info": {
   "codemirror_mode": {
    "name": "ipython",
    "version": 3
   },
   "file_extension": ".py",
   "mimetype": "text/x-python",
   "name": "python",
   "nbconvert_exporter": "python",
   "pygments_lexer": "ipython3",
   "version": "3.8.8"
  }
 },
 "nbformat": 4,
 "nbformat_minor": 5
}
