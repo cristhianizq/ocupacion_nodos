{
 "cells": [
  {
   "cell_type": "code",
   "execution_count": 1,
   "metadata": {},
   "outputs": [],
   "source": [
    "%matplotlib qt\n",
    "%load_ext autoreload\n",
    "%autoreload 2"
   ]
  },
  {
   "cell_type": "code",
   "execution_count": 3,
   "metadata": {},
   "outputs": [
    {
     "data": {
      "text/plain": [
       "'C:\\\\Users\\\\DarioAlejandroLatorr\\\\OneDrive\\\\claro_20_abril_2021\\\\ENVIO_DARIO\\\\MODELO_PRIORIZACION_DATA_ORIGEN_ADRIANA'"
      ]
     },
     "execution_count": 3,
     "metadata": {},
     "output_type": "execute_result"
    }
   ],
   "source": [
    "import pandas as pd\n",
    "import numpy as np\n",
    "import geopandas as gpd\n",
    "# en la carpeta Priorizacion_funciones está el archivo analisis_geo.py\n",
    "from Priorizacion_funciones.analisis_geo import *\n",
    "import os\n",
    "os.getcwd()"
   ]
  },
  {
   "cell_type": "code",
   "execution_count": 4,
   "metadata": {},
   "outputs": [],
   "source": [
    "import pysal\n",
    "from pysal.lib import weights\n",
    "from pysal.explore.esda import Moran, Moran_Local\n",
    "import splot\n",
    "from splot.esda import moran_scatterplot, plot_moran, lisa_cluster"
   ]
  },
  {
   "cell_type": "markdown",
   "metadata": {},
   "source": [
    "# Análisis Geo General"
   ]
  },
  {
   "cell_type": "code",
   "execution_count": 4,
   "metadata": {},
   "outputs": [],
   "source": [
    "var_int = 'SCORE'\n",
    "df_var = pd.read_csv('Data_priorizacion/priorizacion.csv',\n",
    "                             usecols=['NODO',var_int])\n",
    "df_var.drop_duplicates(inplace=True)"
   ]
  },
  {
   "cell_type": "markdown",
   "metadata": {},
   "source": [
    "## Correr sólo uno de los siguientes dos bloques de código\n",
    "\n",
    "Correr el siguiente bloque para generar la capa de unión, el proceso puede llevar más de media hora."
   ]
  },
  {
   "cell_type": "code",
   "execution_count": 5,
   "metadata": {
    "tags": []
   },
   "outputs": [
    {
     "name": "stdout",
     "output_type": "stream",
     "text": [
      "++++++++++++++++++++++++++++++++++++++++++++++++++++++++++++++++++++++++++++++++\n",
      "El proceso puede tardar más de media hora.\n",
      "++++++++++++++++++++++++++++++++++++++++++++++++++++++++++++++++++++++++++++++++\n",
      "--------------------------------------------------------------------------------\n",
      "Tiempo de inicio del proceso: 2021-07-15 11:41\n",
      "--------------------------------------------------------------------------------\n",
      "++++++++++++++++++++++++++++++++++++++++++++++++++++++++++++++++++++++++++++++++\n",
      "Se eliminan los siguientes nodos por no cumplir el límite de desviación\n",
      "++++++++++++++++++++++++++++++++++++++++++++++++++++++++++++++++++++++++++++++++\n",
      "      Longitud   Latitud       max\n",
      "NODO                              \n",
      "CHF   0.015961  0.008103  0.015961\n",
      "OAC   0.405627  0.166212  0.405627\n",
      "OVM   0.435211  0.249230  0.435211\n",
      "--------------------------------------------------------------------------------\n",
      "Uniendo las capas...\n",
      "--------------------------------------------------------------------------------\n"
     ]
    },
    {
     "ename": "KeyboardInterrupt",
     "evalue": "",
     "output_type": "error",
     "traceback": [
      "\u001b[1;31m---------------------------------------------------------------------------\u001b[0m",
      "\u001b[1;31mKeyboardInterrupt\u001b[0m                         Traceback (most recent call last)",
      "\u001b[1;32m<ipython-input-5-fb3e4370a9d8>\u001b[0m in \u001b[0;36m<module>\u001b[1;34m\u001b[0m\n\u001b[0;32m      1\u001b[0m \u001b[0mmgn_rur_layer\u001b[0m \u001b[1;33m=\u001b[0m \u001b[0mgpd\u001b[0m\u001b[1;33m.\u001b[0m\u001b[0mread_file\u001b[0m\u001b[1;33m(\u001b[0m\u001b[1;34m'Data_geo\\MGN\\MGN_RUR_SECTOR.shp'\u001b[0m\u001b[1;33m)\u001b[0m\u001b[1;33m\u001b[0m\u001b[1;33m\u001b[0m\u001b[0m\n\u001b[0;32m      2\u001b[0m \u001b[0mhfc_layer\u001b[0m \u001b[1;33m=\u001b[0m \u001b[0mgpd\u001b[0m\u001b[1;33m.\u001b[0m\u001b[0mread_file\u001b[0m\u001b[1;33m(\u001b[0m\u001b[1;34m'Data_geo\\HFC\\HFC_UNIFICADO_MARZO_WGS.shp'\u001b[0m\u001b[1;33m)\u001b[0m\u001b[1;33m\u001b[0m\u001b[1;33m\u001b[0m\u001b[0m\n\u001b[1;32m----> 3\u001b[1;33m \u001b[0mhfc_rur_union\u001b[0m \u001b[1;33m=\u001b[0m  \u001b[0mpreparar_capa\u001b[0m\u001b[1;33m(\u001b[0m\u001b[0mmgn_rur_layer\u001b[0m\u001b[1;33m,\u001b[0m \u001b[0mhfc_layer\u001b[0m\u001b[1;33m)\u001b[0m\u001b[1;33m\u001b[0m\u001b[1;33m\u001b[0m\u001b[0m\n\u001b[0m\u001b[0;32m      4\u001b[0m \u001b[0mdf_lisa\u001b[0m \u001b[1;33m=\u001b[0m \u001b[0mhfc_rur_union\u001b[0m\u001b[1;33m.\u001b[0m\u001b[0mmerge\u001b[0m\u001b[1;33m(\u001b[0m\u001b[0mdf_var\u001b[0m\u001b[1;33m,\u001b[0m \u001b[0mhow\u001b[0m \u001b[1;33m=\u001b[0m\u001b[1;34m'left'\u001b[0m\u001b[1;33m,\u001b[0m \u001b[0mon\u001b[0m\u001b[1;33m=\u001b[0m\u001b[1;34m'NODO'\u001b[0m\u001b[1;33m)\u001b[0m\u001b[1;33m\u001b[0m\u001b[1;33m\u001b[0m\u001b[0m\n",
      "\u001b[1;32m~\\OneDrive\\claro_20_abril_2021\\ENVIO_DARIO\\MODELO_PRIORIZACION_DATA_ORIGEN_ADRIANA\\Priorizacion_funciones\\analisis_geo.py\u001b[0m in \u001b[0;36mpreparar_capa\u001b[1;34m(mgn_rur_layer, hfc_layer, lim_desv_est_arco)\u001b[0m\n\u001b[0;32m     49\u001b[0m     \u001b[1;31m### Unión de las capas, este es el proceso demorado\u001b[0m\u001b[1;33m\u001b[0m\u001b[1;33m\u001b[0m\u001b[1;33m\u001b[0m\u001b[0m\n\u001b[0;32m     50\u001b[0m     \u001b[0mprint\u001b[0m\u001b[1;33m(\u001b[0m\u001b[1;34mf\"{80*'-'}\\nUniendo las capas...\\n{80*'-'}\"\u001b[0m\u001b[1;33m)\u001b[0m\u001b[1;33m\u001b[0m\u001b[1;33m\u001b[0m\u001b[0m\n\u001b[1;32m---> 51\u001b[1;33m     \u001b[0mhfc_rur_union\u001b[0m \u001b[1;33m=\u001b[0m \u001b[0mgpd\u001b[0m\u001b[1;33m.\u001b[0m\u001b[0moverlay\u001b[0m\u001b[1;33m(\u001b[0m\u001b[0mhfc_layer\u001b[0m\u001b[1;33m,\u001b[0m \u001b[0mmgn_rur_layer\u001b[0m\u001b[1;33m,\u001b[0m \u001b[0mhow\u001b[0m\u001b[1;33m=\u001b[0m\u001b[1;34m'union'\u001b[0m\u001b[1;33m)\u001b[0m\u001b[1;33m\u001b[0m\u001b[1;33m\u001b[0m\u001b[0m\n\u001b[0m\u001b[0;32m     52\u001b[0m     \u001b[0mhfc_rur_union\u001b[0m\u001b[1;33m.\u001b[0m\u001b[0mto_file\u001b[0m\u001b[1;33m(\u001b[0m\u001b[1;34m'Data_geo\\MUNICIPIOS_ANALISIS\\layer_analisis.shp'\u001b[0m\u001b[1;33m)\u001b[0m\u001b[1;33m\u001b[0m\u001b[1;33m\u001b[0m\u001b[0m\n\u001b[0;32m     53\u001b[0m \u001b[1;33m\u001b[0m\u001b[0m\n",
      "\u001b[1;32m~\\anaconda3\\envs\\ds_sqdm_claro\\lib\\site-packages\\geopandas\\tools\\overlay.py\u001b[0m in \u001b[0;36moverlay\u001b[1;34m(df1, df2, how, keep_geom_type, make_valid)\u001b[0m\n\u001b[0;32m    294\u001b[0m             \u001b[0mresult\u001b[0m \u001b[1;33m=\u001b[0m \u001b[0m_overlay_symmetric_diff\u001b[0m\u001b[1;33m(\u001b[0m\u001b[0mdf1\u001b[0m\u001b[1;33m,\u001b[0m \u001b[0mdf2\u001b[0m\u001b[1;33m)\u001b[0m\u001b[1;33m\u001b[0m\u001b[1;33m\u001b[0m\u001b[0m\n\u001b[0;32m    295\u001b[0m         \u001b[1;32melif\u001b[0m \u001b[0mhow\u001b[0m \u001b[1;33m==\u001b[0m \u001b[1;34m\"union\"\u001b[0m\u001b[1;33m:\u001b[0m\u001b[1;33m\u001b[0m\u001b[1;33m\u001b[0m\u001b[0m\n\u001b[1;32m--> 296\u001b[1;33m             \u001b[0mresult\u001b[0m \u001b[1;33m=\u001b[0m \u001b[0m_overlay_union\u001b[0m\u001b[1;33m(\u001b[0m\u001b[0mdf1\u001b[0m\u001b[1;33m,\u001b[0m \u001b[0mdf2\u001b[0m\u001b[1;33m)\u001b[0m\u001b[1;33m\u001b[0m\u001b[1;33m\u001b[0m\u001b[0m\n\u001b[0m\u001b[0;32m    297\u001b[0m         \u001b[1;32melif\u001b[0m \u001b[0mhow\u001b[0m \u001b[1;33m==\u001b[0m \u001b[1;34m\"identity\"\u001b[0m\u001b[1;33m:\u001b[0m\u001b[1;33m\u001b[0m\u001b[1;33m\u001b[0m\u001b[0m\n\u001b[0;32m    298\u001b[0m             \u001b[0mdfunion\u001b[0m \u001b[1;33m=\u001b[0m \u001b[0m_overlay_union\u001b[0m\u001b[1;33m(\u001b[0m\u001b[0mdf1\u001b[0m\u001b[1;33m,\u001b[0m \u001b[0mdf2\u001b[0m\u001b[1;33m)\u001b[0m\u001b[1;33m\u001b[0m\u001b[1;33m\u001b[0m\u001b[0m\n",
      "\u001b[1;32m~\\anaconda3\\envs\\ds_sqdm_claro\\lib\\site-packages\\geopandas\\tools\\overlay.py\u001b[0m in \u001b[0;36m_overlay_union\u001b[1;34m(df1, df2)\u001b[0m\n\u001b[0;32m    128\u001b[0m     \u001b[0mOverlay\u001b[0m \u001b[0mUnion\u001b[0m \u001b[0moperation\u001b[0m \u001b[0mused\u001b[0m \u001b[1;32min\u001b[0m \u001b[0moverlay\u001b[0m \u001b[0mfunction\u001b[0m\u001b[1;33m\u001b[0m\u001b[1;33m\u001b[0m\u001b[0m\n\u001b[0;32m    129\u001b[0m     \"\"\"\n\u001b[1;32m--> 130\u001b[1;33m     \u001b[0mdfinter\u001b[0m \u001b[1;33m=\u001b[0m \u001b[0m_overlay_intersection\u001b[0m\u001b[1;33m(\u001b[0m\u001b[0mdf1\u001b[0m\u001b[1;33m,\u001b[0m \u001b[0mdf2\u001b[0m\u001b[1;33m)\u001b[0m\u001b[1;33m\u001b[0m\u001b[1;33m\u001b[0m\u001b[0m\n\u001b[0m\u001b[0;32m    131\u001b[0m     \u001b[0mdfsym\u001b[0m \u001b[1;33m=\u001b[0m \u001b[0m_overlay_symmetric_diff\u001b[0m\u001b[1;33m(\u001b[0m\u001b[0mdf1\u001b[0m\u001b[1;33m,\u001b[0m \u001b[0mdf2\u001b[0m\u001b[1;33m)\u001b[0m\u001b[1;33m\u001b[0m\u001b[1;33m\u001b[0m\u001b[0m\n\u001b[0;32m    132\u001b[0m     \u001b[0mdfunion\u001b[0m \u001b[1;33m=\u001b[0m \u001b[0mpd\u001b[0m\u001b[1;33m.\u001b[0m\u001b[0mconcat\u001b[0m\u001b[1;33m(\u001b[0m\u001b[1;33m[\u001b[0m\u001b[0mdfinter\u001b[0m\u001b[1;33m,\u001b[0m \u001b[0mdfsym\u001b[0m\u001b[1;33m]\u001b[0m\u001b[1;33m,\u001b[0m \u001b[0mignore_index\u001b[0m\u001b[1;33m=\u001b[0m\u001b[1;32mTrue\u001b[0m\u001b[1;33m,\u001b[0m \u001b[0msort\u001b[0m\u001b[1;33m=\u001b[0m\u001b[1;32mFalse\u001b[0m\u001b[1;33m)\u001b[0m\u001b[1;33m\u001b[0m\u001b[1;33m\u001b[0m\u001b[0m\n",
      "\u001b[1;32m~\\anaconda3\\envs\\ds_sqdm_claro\\lib\\site-packages\\geopandas\\tools\\overlay.py\u001b[0m in \u001b[0;36m_overlay_intersection\u001b[1;34m(df1, df2)\u001b[0m\n\u001b[0;32m     28\u001b[0m     \"\"\"\n\u001b[0;32m     29\u001b[0m     \u001b[1;31m# Spatial Index to create intersections\u001b[0m\u001b[1;33m\u001b[0m\u001b[1;33m\u001b[0m\u001b[1;33m\u001b[0m\u001b[0m\n\u001b[1;32m---> 30\u001b[1;33m     \u001b[0midx1\u001b[0m\u001b[1;33m,\u001b[0m \u001b[0midx2\u001b[0m \u001b[1;33m=\u001b[0m \u001b[0mdf2\u001b[0m\u001b[1;33m.\u001b[0m\u001b[0msindex\u001b[0m\u001b[1;33m.\u001b[0m\u001b[0mquery_bulk\u001b[0m\u001b[1;33m(\u001b[0m\u001b[0mdf1\u001b[0m\u001b[1;33m.\u001b[0m\u001b[0mgeometry\u001b[0m\u001b[1;33m,\u001b[0m \u001b[0mpredicate\u001b[0m\u001b[1;33m=\u001b[0m\u001b[1;34m\"intersects\"\u001b[0m\u001b[1;33m,\u001b[0m \u001b[0msort\u001b[0m\u001b[1;33m=\u001b[0m\u001b[1;32mTrue\u001b[0m\u001b[1;33m)\u001b[0m\u001b[1;33m\u001b[0m\u001b[1;33m\u001b[0m\u001b[0m\n\u001b[0m\u001b[0;32m     31\u001b[0m     \u001b[1;31m# Create pairs of geometries in both dataframes to be intersected\u001b[0m\u001b[1;33m\u001b[0m\u001b[1;33m\u001b[0m\u001b[1;33m\u001b[0m\u001b[0m\n\u001b[0;32m     32\u001b[0m     \u001b[1;32mif\u001b[0m \u001b[0midx1\u001b[0m\u001b[1;33m.\u001b[0m\u001b[0msize\u001b[0m \u001b[1;33m>\u001b[0m \u001b[1;36m0\u001b[0m \u001b[1;32mand\u001b[0m \u001b[0midx2\u001b[0m\u001b[1;33m.\u001b[0m\u001b[0msize\u001b[0m \u001b[1;33m>\u001b[0m \u001b[1;36m0\u001b[0m\u001b[1;33m:\u001b[0m\u001b[1;33m\u001b[0m\u001b[1;33m\u001b[0m\u001b[0m\n",
      "\u001b[1;32m~\\anaconda3\\envs\\ds_sqdm_claro\\lib\\site-packages\\geopandas\\sindex.py\u001b[0m in \u001b[0;36mquery_bulk\u001b[1;34m(self, geometry, predicate, sort)\u001b[0m\n\u001b[0;32m    446\u001b[0m \u001b[1;33m\u001b[0m\u001b[0m\n\u001b[0;32m    447\u001b[0m             \u001b[1;32mfor\u001b[0m \u001b[0mi\u001b[0m\u001b[1;33m,\u001b[0m \u001b[0mgeo\u001b[0m \u001b[1;32min\u001b[0m \u001b[0menumerate\u001b[0m\u001b[1;33m(\u001b[0m\u001b[0mgeometry\u001b[0m\u001b[1;33m)\u001b[0m\u001b[1;33m:\u001b[0m\u001b[1;33m\u001b[0m\u001b[1;33m\u001b[0m\u001b[0m\n\u001b[1;32m--> 448\u001b[1;33m                 \u001b[0mres\u001b[0m \u001b[1;33m=\u001b[0m \u001b[0mself\u001b[0m\u001b[1;33m.\u001b[0m\u001b[0mquery\u001b[0m\u001b[1;33m(\u001b[0m\u001b[0mgeo\u001b[0m\u001b[1;33m,\u001b[0m \u001b[0mpredicate\u001b[0m\u001b[1;33m=\u001b[0m\u001b[0mpredicate\u001b[0m\u001b[1;33m,\u001b[0m \u001b[0msort\u001b[0m\u001b[1;33m=\u001b[0m\u001b[0msort\u001b[0m\u001b[1;33m)\u001b[0m\u001b[1;33m\u001b[0m\u001b[1;33m\u001b[0m\u001b[0m\n\u001b[0m\u001b[0;32m    449\u001b[0m                 \u001b[0mtree_index\u001b[0m\u001b[1;33m.\u001b[0m\u001b[0mextend\u001b[0m\u001b[1;33m(\u001b[0m\u001b[0mres\u001b[0m\u001b[1;33m)\u001b[0m\u001b[1;33m\u001b[0m\u001b[1;33m\u001b[0m\u001b[0m\n\u001b[0;32m    450\u001b[0m                 \u001b[0minput_geometry_index\u001b[0m\u001b[1;33m.\u001b[0m\u001b[0mextend\u001b[0m\u001b[1;33m(\u001b[0m\u001b[1;33m[\u001b[0m\u001b[0mi\u001b[0m\u001b[1;33m]\u001b[0m \u001b[1;33m*\u001b[0m \u001b[0mlen\u001b[0m\u001b[1;33m(\u001b[0m\u001b[0mres\u001b[0m\u001b[1;33m)\u001b[0m\u001b[1;33m)\u001b[0m\u001b[1;33m\u001b[0m\u001b[1;33m\u001b[0m\u001b[0m\n",
      "\u001b[1;32m~\\anaconda3\\envs\\ds_sqdm_claro\\lib\\site-packages\\geopandas\\sindex.py\u001b[0m in \u001b[0;36mquery\u001b[1;34m(self, geometry, predicate, sort)\u001b[0m\n\u001b[0;32m    425\u001b[0m                     \u001b[1;31m# prepare this input geometry\u001b[0m\u001b[1;33m\u001b[0m\u001b[1;33m\u001b[0m\u001b[1;33m\u001b[0m\u001b[0m\n\u001b[0;32m    426\u001b[0m                     \u001b[0mgeometry\u001b[0m \u001b[1;33m=\u001b[0m \u001b[0mprep\u001b[0m\u001b[1;33m(\u001b[0m\u001b[0mgeometry\u001b[0m\u001b[1;33m)\u001b[0m\u001b[1;33m\u001b[0m\u001b[1;33m\u001b[0m\u001b[0m\n\u001b[1;32m--> 427\u001b[1;33m                 tree_idx = [\n\u001b[0m\u001b[0;32m    428\u001b[0m                     \u001b[0mindex_in_tree\u001b[0m\u001b[1;33m\u001b[0m\u001b[1;33m\u001b[0m\u001b[0m\n\u001b[0;32m    429\u001b[0m                     \u001b[1;32mfor\u001b[0m \u001b[0mindex_in_tree\u001b[0m \u001b[1;32min\u001b[0m \u001b[0mtree_idx\u001b[0m\u001b[1;33m\u001b[0m\u001b[1;33m\u001b[0m\u001b[0m\n",
      "\u001b[1;32m~\\anaconda3\\envs\\ds_sqdm_claro\\lib\\site-packages\\geopandas\\sindex.py\u001b[0m in \u001b[0;36m<listcomp>\u001b[1;34m(.0)\u001b[0m\n\u001b[0;32m    428\u001b[0m                     \u001b[0mindex_in_tree\u001b[0m\u001b[1;33m\u001b[0m\u001b[1;33m\u001b[0m\u001b[0m\n\u001b[0;32m    429\u001b[0m                     \u001b[1;32mfor\u001b[0m \u001b[0mindex_in_tree\u001b[0m \u001b[1;32min\u001b[0m \u001b[0mtree_idx\u001b[0m\u001b[1;33m\u001b[0m\u001b[1;33m\u001b[0m\u001b[0m\n\u001b[1;32m--> 430\u001b[1;33m                     \u001b[1;32mif\u001b[0m \u001b[0mgetattr\u001b[0m\u001b[1;33m(\u001b[0m\u001b[0mgeometry\u001b[0m\u001b[1;33m,\u001b[0m \u001b[0mpredicate\u001b[0m\u001b[1;33m)\u001b[0m\u001b[1;33m(\u001b[0m\u001b[0mself\u001b[0m\u001b[1;33m.\u001b[0m\u001b[0mgeometries\u001b[0m\u001b[1;33m[\u001b[0m\u001b[0mindex_in_tree\u001b[0m\u001b[1;33m]\u001b[0m\u001b[1;33m)\u001b[0m\u001b[1;33m\u001b[0m\u001b[1;33m\u001b[0m\u001b[0m\n\u001b[0m\u001b[0;32m    431\u001b[0m                 ]\n\u001b[0;32m    432\u001b[0m \u001b[1;33m\u001b[0m\u001b[0m\n",
      "\u001b[1;32m~\\anaconda3\\envs\\ds_sqdm_claro\\lib\\site-packages\\shapely\\impl.py\u001b[0m in \u001b[0;36mwrapper\u001b[1;34m(*args, **kwargs)\u001b[0m\n\u001b[0;32m     35\u001b[0m     \u001b[1;32mdef\u001b[0m \u001b[0mwrapper\u001b[0m\u001b[1;33m(\u001b[0m\u001b[1;33m*\u001b[0m\u001b[0margs\u001b[0m\u001b[1;33m,\u001b[0m \u001b[1;33m**\u001b[0m\u001b[0mkwargs\u001b[0m\u001b[1;33m)\u001b[0m\u001b[1;33m:\u001b[0m\u001b[1;33m\u001b[0m\u001b[1;33m\u001b[0m\u001b[0m\n\u001b[0;32m     36\u001b[0m         \u001b[1;32mtry\u001b[0m\u001b[1;33m:\u001b[0m\u001b[1;33m\u001b[0m\u001b[1;33m\u001b[0m\u001b[0m\n\u001b[1;32m---> 37\u001b[1;33m             \u001b[1;32mreturn\u001b[0m \u001b[0mfunc\u001b[0m\u001b[1;33m(\u001b[0m\u001b[1;33m*\u001b[0m\u001b[0margs\u001b[0m\u001b[1;33m,\u001b[0m \u001b[1;33m**\u001b[0m\u001b[0mkwargs\u001b[0m\u001b[1;33m)\u001b[0m\u001b[1;33m\u001b[0m\u001b[1;33m\u001b[0m\u001b[0m\n\u001b[0m\u001b[0;32m     38\u001b[0m         \u001b[1;32mexcept\u001b[0m \u001b[0mKeyError\u001b[0m\u001b[1;33m:\u001b[0m\u001b[1;33m\u001b[0m\u001b[1;33m\u001b[0m\u001b[0m\n\u001b[0;32m     39\u001b[0m             raise ImplementationError(\n",
      "\u001b[1;32m~\\anaconda3\\envs\\ds_sqdm_claro\\lib\\site-packages\\shapely\\prepared.py\u001b[0m in \u001b[0;36mintersects\u001b[1;34m(self, other)\u001b[0m\n\u001b[0;32m     74\u001b[0m     \u001b[1;32mdef\u001b[0m \u001b[0mintersects\u001b[0m\u001b[1;33m(\u001b[0m\u001b[0mself\u001b[0m\u001b[1;33m,\u001b[0m \u001b[0mother\u001b[0m\u001b[1;33m)\u001b[0m\u001b[1;33m:\u001b[0m\u001b[1;33m\u001b[0m\u001b[1;33m\u001b[0m\u001b[0m\n\u001b[0;32m     75\u001b[0m         \u001b[1;34m\"\"\"Returns True if geometries intersect, else False\"\"\"\u001b[0m\u001b[1;33m\u001b[0m\u001b[1;33m\u001b[0m\u001b[0m\n\u001b[1;32m---> 76\u001b[1;33m         \u001b[1;32mreturn\u001b[0m \u001b[0mbool\u001b[0m\u001b[1;33m(\u001b[0m\u001b[0mself\u001b[0m\u001b[1;33m.\u001b[0m\u001b[0mimpl\u001b[0m\u001b[1;33m[\u001b[0m\u001b[1;34m'prepared_intersects'\u001b[0m\u001b[1;33m]\u001b[0m\u001b[1;33m(\u001b[0m\u001b[0mself\u001b[0m\u001b[1;33m,\u001b[0m \u001b[0mother\u001b[0m\u001b[1;33m)\u001b[0m\u001b[1;33m)\u001b[0m\u001b[1;33m\u001b[0m\u001b[1;33m\u001b[0m\u001b[0m\n\u001b[0m\u001b[0;32m     77\u001b[0m \u001b[1;33m\u001b[0m\u001b[0m\n\u001b[0;32m     78\u001b[0m     \u001b[1;33m@\u001b[0m\u001b[0mdelegated\u001b[0m\u001b[1;33m\u001b[0m\u001b[1;33m\u001b[0m\u001b[0m\n",
      "\u001b[1;32m~\\anaconda3\\envs\\ds_sqdm_claro\\lib\\site-packages\\shapely\\predicates.py\u001b[0m in \u001b[0;36m__call__\u001b[1;34m(self, this, other, *args)\u001b[0m\n\u001b[0;32m     13\u001b[0m         \u001b[0mself\u001b[0m\u001b[1;33m.\u001b[0m\u001b[0m_validate\u001b[0m\u001b[1;33m(\u001b[0m\u001b[0mother\u001b[0m\u001b[1;33m,\u001b[0m \u001b[0mstop_prepared\u001b[0m\u001b[1;33m=\u001b[0m\u001b[1;32mTrue\u001b[0m\u001b[1;33m)\u001b[0m\u001b[1;33m\u001b[0m\u001b[1;33m\u001b[0m\u001b[0m\n\u001b[0;32m     14\u001b[0m         \u001b[1;32mtry\u001b[0m\u001b[1;33m:\u001b[0m\u001b[1;33m\u001b[0m\u001b[1;33m\u001b[0m\u001b[0m\n\u001b[1;32m---> 15\u001b[1;33m             \u001b[1;32mreturn\u001b[0m \u001b[0mself\u001b[0m\u001b[1;33m.\u001b[0m\u001b[0mfn\u001b[0m\u001b[1;33m(\u001b[0m\u001b[0mthis\u001b[0m\u001b[1;33m.\u001b[0m\u001b[0m_geom\u001b[0m\u001b[1;33m,\u001b[0m \u001b[0mother\u001b[0m\u001b[1;33m.\u001b[0m\u001b[0m_geom\u001b[0m\u001b[1;33m,\u001b[0m \u001b[1;33m*\u001b[0m\u001b[0margs\u001b[0m\u001b[1;33m)\u001b[0m\u001b[1;33m\u001b[0m\u001b[1;33m\u001b[0m\u001b[0m\n\u001b[0m\u001b[0;32m     16\u001b[0m         \u001b[1;32mexcept\u001b[0m \u001b[0mPredicateError\u001b[0m \u001b[1;32mas\u001b[0m \u001b[0merr\u001b[0m\u001b[1;33m:\u001b[0m\u001b[1;33m\u001b[0m\u001b[1;33m\u001b[0m\u001b[0m\n\u001b[0;32m     17\u001b[0m             \u001b[1;31m# Dig deeper into causes of errors.\u001b[0m\u001b[1;33m\u001b[0m\u001b[1;33m\u001b[0m\u001b[1;33m\u001b[0m\u001b[0m\n",
      "\u001b[1;32m~\\anaconda3\\envs\\ds_sqdm_claro\\lib\\site-packages\\shapely\\geos.py\u001b[0m in \u001b[0;36merrcheck_predicate\u001b[1;34m(result, func, argtuple)\u001b[0m\n\u001b[0;32m    579\u001b[0m \u001b[1;33m\u001b[0m\u001b[0m\n\u001b[0;32m    580\u001b[0m \u001b[1;33m\u001b[0m\u001b[0m\n\u001b[1;32m--> 581\u001b[1;33m \u001b[1;32mdef\u001b[0m \u001b[0merrcheck_predicate\u001b[0m\u001b[1;33m(\u001b[0m\u001b[0mresult\u001b[0m\u001b[1;33m,\u001b[0m \u001b[0mfunc\u001b[0m\u001b[1;33m,\u001b[0m \u001b[0margtuple\u001b[0m\u001b[1;33m)\u001b[0m\u001b[1;33m:\u001b[0m\u001b[1;33m\u001b[0m\u001b[1;33m\u001b[0m\u001b[0m\n\u001b[0m\u001b[0;32m    582\u001b[0m     \u001b[1;34m\"\"\"Result is 2 on exception, 1 on True, 0 on False\"\"\"\u001b[0m\u001b[1;33m\u001b[0m\u001b[1;33m\u001b[0m\u001b[0m\n\u001b[0;32m    583\u001b[0m     \u001b[1;32mif\u001b[0m \u001b[0mresult\u001b[0m \u001b[1;33m==\u001b[0m \u001b[1;36m2\u001b[0m\u001b[1;33m:\u001b[0m\u001b[1;33m\u001b[0m\u001b[1;33m\u001b[0m\u001b[0m\n",
      "\u001b[1;31mKeyboardInterrupt\u001b[0m: "
     ]
    }
   ],
   "source": [
    "mgn_rur_layer = gpd.read_file('Data_geo\\MGN\\MGN_RUR_SECTOR.shp')\n",
    "hfc_layer = gpd.read_file('Data_geo\\HFC\\HFC_UNIFICADO_MARZO_WGS.shp')\n",
    "hfc_rur_union =  preparar_capa(mgn_rur_layer, hfc_layer)\n",
    "df_lisa = hfc_rur_union.merge(df_var, how ='left', on='NODO')"
   ]
  },
  {
   "cell_type": "markdown",
   "metadata": {},
   "source": [
    "#### Si la capa en Data_geo\\MUNICIPIOS_ANALISIS\\layer_analisis.shp existe y es reciente se puede usar esa capa para el análisis, si es así y no se corrío el anterior bloque, correr el siguiente bloque de código."
   ]
  },
  {
   "cell_type": "code",
   "execution_count": 6,
   "metadata": {},
   "outputs": [],
   "source": [
    "mgn_rur_layer = gpd.read_file('Data_geo\\MGN\\MGN_RUR_SECTOR.shp')\n",
    "hfc_rur_union = gpd.read_file('Data_geo\\MUNICIPIOS_ANALISIS\\layer_analisis.shp')\n",
    "df_lisa = hfc_rur_union.merge(df_var, how ='left', on='NODO')"
   ]
  },
  {
   "cell_type": "markdown",
   "metadata": {},
   "source": [
    "#### Seguir con la preparación del dataframe"
   ]
  },
  {
   "cell_type": "code",
   "execution_count": 7,
   "metadata": {
    "tags": []
   },
   "outputs": [
    {
     "name": "stdout",
     "output_type": "stream",
     "text": [
      "<class 'geopandas.geodataframe.GeoDataFrame'>\n",
      "Int64Index: 23609 entries, 0 to 23608\n",
      "Data columns (total 19 columns):\n",
      " #   Column          Non-Null Count  Dtype   \n",
      "---  ------          --------------  -----   \n",
      " 0   NODO            23609 non-null  object  \n",
      " 1   NOMBRE          15431 non-null  object  \n",
      " 2   CIUDAD          14914 non-null  object  \n",
      " 3   Longitud        15446 non-null  float64 \n",
      " 4   Latitud         15446 non-null  float64 \n",
      " 5   DPTO_CCDGO      22931 non-null  object  \n",
      " 6   MPIO_CCDGO      22931 non-null  object  \n",
      " 7   CLAS_CCDGO      22931 non-null  object  \n",
      " 8   SETR_CCDGO      22931 non-null  object  \n",
      " 9   SETR_CCNCT      22931 non-null  object  \n",
      " 10  SETR_NAREA      22931 non-null  float64 \n",
      " 11  SETR_CSMBL      22931 non-null  object  \n",
      " 12  SETR_NANO       22931 non-null  float64 \n",
      " 13  COD_MPIO        22931 non-null  object  \n",
      " 14  SHAPE_AREA      22931 non-null  float64 \n",
      " 15  SHAPE_LEN       22931 non-null  float64 \n",
      " 16  geometry        23609 non-null  geometry\n",
      " 17  SCORE           23609 non-null  float64 \n",
      " 18  IDENTIIFICADOR  23609 non-null  object  \n",
      "dtypes: float64(7), geometry(1), object(11)\n",
      "memory usage: 3.6+ MB\n",
      "None\n"
     ]
    },
    {
     "name": "stderr",
     "output_type": "stream",
     "text": [
      "C:\\Users\\DarioAlejandroLatorr\\anaconda3\\envs\\ds_sqdm_claro\\lib\\site-packages\\mapclassify\\classifiers.py:234: UserWarning: Warning: Not enough unique values in array to form k classes\n",
      "  Warn(\n",
      "C:\\Users\\DarioAlejandroLatorr\\anaconda3\\envs\\ds_sqdm_claro\\lib\\site-packages\\mapclassify\\classifiers.py:237: UserWarning: Warning: setting k to 2\n",
      "  Warn(\"Warning: setting k to %d\" % k_q, UserWarning)\n"
     ]
    }
   ],
   "source": [
    "df_lisa = preparar_lisa(df_lisa, var_int) "
   ]
  },
  {
   "cell_type": "code",
   "execution_count": 8,
   "metadata": {},
   "outputs": [
    {
     "name": "stdout",
     "output_type": "stream",
     "text": [
      "++++++++++++++++++++++++++++++++++++++++++++++++++++++++++++++++++++++++++++++++\n",
      "El proceso puede tardar más de 5 minutos.\n",
      "++++++++++++++++++++++++++++++++++++++++++++++++++++++++++++++++++++++++++++++++\n"
     ]
    },
    {
     "name": "stderr",
     "output_type": "stream",
     "text": [
      "C:\\Users\\DarioAlejandroLatorr\\anaconda3\\envs\\ds_sqdm_claro\\lib\\site-packages\\pysal\\lib\\weights\\weights.py:167: UserWarning: There are 7 disconnected observations \n",
      "  Island ids: 110011000-ICC, 110011000-IMG, 110011000-INF, 110011000-MHT1M, 880013024-SIN_NODO, 880013025-SIN_NODO, 885643001-SIN_NODO\n",
      "  warnings.warn(\"There are %d disconnected observations\" % ni + ' \\n '\n"
     ]
    },
    {
     "name": "stdout",
     "output_type": "stream",
     "text": [
      "('WARNING: ', '110011000-ICC', ' is an island (no neighbors)')\n",
      "('WARNING: ', '110011000-IMG', ' is an island (no neighbors)')\n",
      "('WARNING: ', '110011000-MHT1M', ' is an island (no neighbors)')\n",
      "('WARNING: ', '110011000-INF', ' is an island (no neighbors)')\n",
      "('WARNING: ', '880013025-SIN_NODO', ' is an island (no neighbors)')\n",
      "('WARNING: ', '880013024-SIN_NODO', ' is an island (no neighbors)')\n",
      "('WARNING: ', '885643001-SIN_NODO', ' is an island (no neighbors)')\n",
      "++++++++++++++++++++++++++++++++++++++++++++++++++++++++++++++++++++++++++++++++\n",
      "Pesos obetnidos e islas eliminadas del dataframe para correr el Moran Local.\n",
      "++++++++++++++++++++++++++++++++++++++++++++++++++++++++++++++++++++++++++++++++\n"
     ]
    },
    {
     "name": "stderr",
     "output_type": "stream",
     "text": [
      "C:\\Users\\DarioAlejandroLatorr\\anaconda3\\envs\\ds_sqdm_claro\\lib\\site-packages\\pysal\\lib\\weights\\weights.py:170: UserWarning: The weights matrix is not fully connected. There are 4 components\n",
      "  warnings.warn(\"The weights matrix is not fully connected. There are %d components\" % self.n_components)\n"
     ]
    }
   ],
   "source": [
    "w, df_lisa = get_weights(df_lisa)\n",
    "y = df_lisa[var_int]\n",
    "df_lisa[\"w_var\"] = weights.lag_spatial(w, y)"
   ]
  },
  {
   "cell_type": "code",
   "execution_count": 9,
   "metadata": {},
   "outputs": [],
   "source": [
    "moran_loc = Moran_Local(y, w)\n",
    "df_lisa['SCORE_ESPACIAL'] = ((moran_loc.q ==1) * 1)*(1-2*moran_loc.p_sim)*df_lisa['SCORE']"
   ]
  },
  {
   "cell_type": "code",
   "execution_count": 10,
   "metadata": {},
   "outputs": [
    {
     "name": "stdout",
     "output_type": "stream",
     "text": [
      "AMARILLO    7389\n",
      "VERDE       5765\n",
      "ROJO        2487\n",
      "Name: EST_GLOB_FIN, dtype: int64\n",
      "AMARILLO    7471\n",
      "VERDE       6306\n",
      "ROJO        1864\n",
      "Name: EST_GLOB_INI, dtype: int64\n"
     ]
    }
   ],
   "source": [
    "df_priorizacion = pd.read_csv('Data_priorizacion/priorizacion.csv')\n",
    "print(df_priorizacion['EST_GLOB_FIN'].value_counts())\n",
    "print(df_priorizacion['EST_GLOB_INI'].value_counts())"
   ]
  },
  {
   "cell_type": "code",
   "execution_count": 11,
   "metadata": {},
   "outputs": [
    {
     "name": "stdout",
     "output_type": "stream",
     "text": [
      "2_AMARILLO    7389\n",
      "1_VERDE       5765\n",
      "3_ROJO        2487\n",
      "Name: SEMAFORO_FIN, dtype: int64\n",
      "2_AMARILLO    7471\n",
      "1_VERDE       6306\n",
      "3_ROJO        1864\n",
      "Name: SEMAFORO_INI, dtype: int64\n"
     ]
    }
   ],
   "source": [
    "df_priorizacion = pd.read_csv('Data_priorizacion/priorizacion.csv')\n",
    "df_lisa = df_lisa[['NODO', 'Latitud','Longitud','SCORE_ESPACIAL']].copy()\n",
    "dic_agg = {'Latitud':'mean','Longitud':'mean', 'SCORE_ESPACIAL':'mean'}\n",
    "df_lisa = df_lisa.groupby('NODO').agg(dic_agg).reset_index()\n",
    "df_priorizacion = df_priorizacion.merge(df_lisa, how='left', on='NODO')\n",
    "dic_semaforo = {'VERDE':'1_VERDE','AMARILLO':'2_AMARILLO','ROJO':'3_ROJO'}\n",
    "df_priorizacion['SEMAFORO_FIN'] = [dic_semaforo[x] for x in df_priorizacion['EST_GLOB_FIN']]\n",
    "df_priorizacion['SEMAFORO_INI'] = [dic_semaforo[x] for x in df_priorizacion['EST_GLOB_INI']]\n",
    "df_priorizacion.to_csv('Data_priorizacion/priorizacion_dash_excel.csv'\n",
    "                       ,index=False, sep=';', decimal=',')\n",
    "df_priorizacion.to_csv('Data_priorizacion/priorizacion_dash.csv')\n",
    "print(df_priorizacion['SEMAFORO_FIN'].value_counts())\n",
    "print(df_priorizacion['SEMAFORO_INI'].value_counts())"
   ]
  },
  {
   "cell_type": "code",
   "execution_count": null,
   "metadata": {},
   "outputs": [],
   "source": []
  }
 ],
 "metadata": {
  "kernelspec": {
   "display_name": "Python 3",
   "language": "python",
   "name": "python3"
  },
  "language_info": {
   "codemirror_mode": {
    "name": "ipython",
    "version": 3
   },
   "file_extension": ".py",
   "mimetype": "text/x-python",
   "name": "python",
   "nbconvert_exporter": "python",
   "pygments_lexer": "ipython3",
   "version": "3.9.2"
  }
 },
 "nbformat": 4,
 "nbformat_minor": 4
}
