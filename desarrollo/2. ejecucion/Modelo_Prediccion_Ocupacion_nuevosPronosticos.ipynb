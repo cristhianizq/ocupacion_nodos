{
 "cells": [
  {
   "cell_type": "markdown",
   "id": "2aee5f23",
   "metadata": {},
   "source": [
    "# Modelo Predicción de Ocupación\n",
    "### Ejecución de modelo entrenado"
   ]
  },
  {
   "cell_type": "markdown",
   "id": "6f731527",
   "metadata": {},
   "source": [
    "## Contenido\n",
    "* Parámetros generales e Importacion de biblioticas\n",
    "* Carga de los datos\n",
    "* Parámetros Generales\n",
    "* Preprocesamiento\n",
    " * Unificación \n",
    "* Modelo\n",
    " * Procesamiento\n",
    " * Tidy Table\n",
    " * Separación Xvar y Yvar  (número variable de periodo)\n",
    " * Separacion Train y Test\n",
    " * Configuración de los Modelos\n",
    " * Funciones \n",
    "  * F. para evaluar varios modelos\n",
    "  * F. para categorizar en semáforo\n",
    "  * F. Evaluación de resultados Exactitud\n",
    "* Generacion de Pronosticos a futuro\n",
    " * Procesamiento entrada para pronóstico\n",
    " * Ejecución del modelos y archivo de entrega"
   ]
  },
  {
   "cell_type": "markdown",
   "id": "59314022",
   "metadata": {},
   "source": [
    "## Parámetros generales e Importacion de biblioticas"
   ]
  },
  {
   "cell_type": "code",
   "execution_count": 1,
   "id": "9fe24e62",
   "metadata": {},
   "outputs": [],
   "source": [
    "import pandas as pd\n",
    "import numpy as np\n",
    "import matplotlib.pyplot as plt\n",
    "import seaborn as sns\n",
    "import shap\n",
    "from datetime import datetime\n",
    "#from datetime import timedelta\n",
    "from dateutil.relativedelta import relativedelta\n",
    "#import datetime\n",
    "from dateutil.relativedelta import relativedelta\n",
    "from imblearn.over_sampling import SMOTE\n",
    "import xgboost as xgb\n",
    "from xgboost import plot_importance\n",
    "from lightgbm import LGBMClassifier\n",
    "from sklearn.metrics import confusion_matrix # es una manera para resumir los datos \n",
    "from sklearn.model_selection import train_test_split\n",
    "from sklearn.metrics import roc_curve #roc_curve\n",
    "from sklearn.metrics import roc_auc_score #auc\n",
    "from joblib import dump,load"
   ]
  },
  {
   "cell_type": "code",
   "execution_count": 2,
   "id": "e4820f1c",
   "metadata": {},
   "outputs": [],
   "source": [
    "%load_ext autoreload\n",
    "%autoreload 2\n",
    "np.set_printoptions(suppress=True)"
   ]
  },
  {
   "cell_type": "markdown",
   "id": "d6fa6faf",
   "metadata": {},
   "source": [
    "## Carga de los datos"
   ]
  },
  {
   "cell_type": "code",
   "execution_count": 3,
   "id": "6a571a42",
   "metadata": {},
   "outputs": [],
   "source": [
    "#df_Nodosokla= pd.read_csv('DatosOrigen/NODOS_INFO_OOKLA.csv',sep=';', header = 0)\n",
    "data_ocupacionNodo = pd.read_csv('DatosOrigen/OCUPACION_NODO.csv', sep=';')\n",
    "data_NodoINFI = pd.read_csv('DatosOrigen/NODO_INFI.csv', sep=';')\n",
    "data_SEG = pd.read_csv('DatosOrigen/segmentacion.csv', sep=';') "
   ]
  },
  {
   "cell_type": "markdown",
   "id": "930bc189",
   "metadata": {},
   "source": [
    "### Base OOKLA"
   ]
  },
  {
   "cell_type": "code",
   "execution_count": 4,
   "id": "457c70b9",
   "metadata": {},
   "outputs": [
    {
     "data": {
      "text/plain": [
       "'\\ndf_Nodosokla[\\'DIA\\']=1 # le agrego la columna dia\\ndf_Nodosokla[\\'MES\\'] = [f\\'0{x}\\' if x <10 else str(x) for x in df_Nodosokla[\\'MES\\']]\\ndf_Nodosokla[\\'DIA\\'] = [f\\'0{x}\\' if x <10 else str(x) for x in df_Nodosokla[\\'DIA\\']]\\ndf_Nodosokla[\\'FECHA\\'] = df_Nodosokla[\\'ANIO\\'].astype(\\'str\\') + \\'-\\' + df_Nodosokla[\\'MES\\'] + \\'-\\' + df_Nodosokla[\\'DIA\\']\\n# eliminamos columnas cobrantes\\ndf_Nodosokla=df_Nodosokla.drop([\\'DIA\\',\\'MES\\',\\'ANIO\\'], axis=1)\\n# ordenamos\\ndf_Nodosokla = df_Nodosokla[[\\'NODO\\',\\'FECHA\\', \\'OPERADOR\\',\\'CANTIDAD\\',\\'DOWNLOAD_KBPS\\',\\'UPLOAD_KBPS\\',\\'LATENCY\\',\\'FLAG_LAT\\']] \\n# # renombramos columnas\\ndf_Nodosokla.rename(columns={\\'NODO\\':\\'COD_NODO\\'}, inplace=True)\\ndf_Nodosokla_Claro=df_Nodosokla[df_Nodosokla[\"OPERADOR\"]==\"CLARO\"]\\ndel(df_Nodosokla_Claro[\\'OPERADOR\\'])'"
      ]
     },
     "execution_count": 4,
     "metadata": {},
     "output_type": "execute_result"
    }
   ],
   "source": [
    "\"\"\"\n",
    "df_Nodosokla['DIA']=1 # le agrego la columna dia\n",
    "df_Nodosokla['MES'] = [f'0{x}' if x <10 else str(x) for x in df_Nodosokla['MES']]\n",
    "df_Nodosokla['DIA'] = [f'0{x}' if x <10 else str(x) for x in df_Nodosokla['DIA']]\n",
    "df_Nodosokla['FECHA'] = df_Nodosokla['ANIO'].astype('str') + '-' + df_Nodosokla['MES'] + '-' + df_Nodosokla['DIA']\n",
    "# eliminamos columnas cobrantes\n",
    "df_Nodosokla=df_Nodosokla.drop(['DIA','MES','ANIO'], axis=1)\n",
    "# ordenamos\n",
    "df_Nodosokla = df_Nodosokla[['NODO','FECHA', 'OPERADOR','CANTIDAD','DOWNLOAD_KBPS','UPLOAD_KBPS','LATENCY','FLAG_LAT']] \n",
    "# # renombramos columnas\n",
    "df_Nodosokla.rename(columns={'NODO':'COD_NODO'}, inplace=True)\n",
    "df_Nodosokla_Claro=df_Nodosokla[df_Nodosokla[\"OPERADOR\"]==\"CLARO\"]\n",
    "del(df_Nodosokla_Claro['OPERADOR'])\"\"\""
   ]
  },
  {
   "cell_type": "markdown",
   "id": "94aa1897",
   "metadata": {},
   "source": [
    "### Base data_NodoINF"
   ]
  },
  {
   "cell_type": "code",
   "execution_count": 5,
   "id": "7abc10de",
   "metadata": {},
   "outputs": [],
   "source": [
    "data_NodoINFI['DIA']=1 # le agrego la columna dia\n",
    "data_NodoINFI['MES'] = [f'0{x}' if x <10 else str(x) for x in data_NodoINFI['MES']]\n",
    "data_NodoINFI['DIA'] = [f'0{x}' if x <10 else str(x) for x in data_NodoINFI['DIA']]\n",
    "data_NodoINFI['FECHA'] = (2000+data_NodoINFI['ANIO']).astype('str') + '-' + data_NodoINFI['MES'] + '-' + data_NodoINFI['DIA']\n",
    "# eliminamos columnas sobrantes\n",
    "data_NodoINFI=data_NodoINFI.drop(['DIA','MES','ANIO'], axis=1)\n",
    "# # renombramos columnas\n",
    "data_NodoINFI.rename(columns={'NODO':'COD_NODO'}, inplace=True)\n",
    "### completar Nullos con 0\n",
    "data_NodoINFI=data_NodoINFI.fillna(0)"
   ]
  },
  {
   "cell_type": "markdown",
   "id": "233b9714",
   "metadata": {},
   "source": [
    "### Base data_NodoINF data_SEG"
   ]
  },
  {
   "cell_type": "code",
   "execution_count": 6,
   "id": "94a7639e",
   "metadata": {},
   "outputs": [],
   "source": [
    "data_SEG.drop(['NUEVA ESTRUCTURA'], axis=1,inplace=True)\n",
    "data_SEG['SEGMENTADO']=1"
   ]
  },
  {
   "cell_type": "markdown",
   "id": "0da3db86",
   "metadata": {},
   "source": [
    "## Preprocesamiento\n",
    "### Unificacion"
   ]
  },
  {
   "cell_type": "code",
   "execution_count": 7,
   "id": "c5e793bf",
   "metadata": {},
   "outputs": [],
   "source": [
    "data_ocupacion=pd.merge(data_ocupacionNodo, data_NodoINFI, on = ('COD_NODO','FECHA'), how='left')\n",
    "#data_ocupacion=pd.merge(data_ocupacion, df_Nodosokla_Claro, on = ('COD_NODO','FECHA'), how='left')\n",
    "data_ocupacion=pd.merge(data_ocupacion, data_SEG, on = ('COD_NODO','FECHA'), how='left')"
   ]
  },
  {
   "cell_type": "code",
   "execution_count": 8,
   "id": "2b28da2e-d5cb-4b21-9d8c-d9714317a206",
   "metadata": {},
   "outputs": [],
   "source": [
    "# crear factor beta y delta"
   ]
  },
  {
   "cell_type": "code",
   "execution_count": 9,
   "id": "cb07ee64",
   "metadata": {},
   "outputs": [
    {
     "data": {
      "text/html": [
       "<div>\n",
       "<style scoped>\n",
       "    .dataframe tbody tr th:only-of-type {\n",
       "        vertical-align: middle;\n",
       "    }\n",
       "\n",
       "    .dataframe tbody tr th {\n",
       "        vertical-align: top;\n",
       "    }\n",
       "\n",
       "    .dataframe thead th {\n",
       "        text-align: right;\n",
       "    }\n",
       "</style>\n",
       "<table border=\"1\" class=\"dataframe\">\n",
       "  <thead>\n",
       "    <tr style=\"text-align: right;\">\n",
       "      <th></th>\n",
       "      <th>COD_NODO</th>\n",
       "      <th>FECHA</th>\n",
       "      <th>OCUPACION_DW</th>\n",
       "      <th>OCUPACION_UP</th>\n",
       "      <th>CANT_USER</th>\n",
       "      <th>PROM_VEL</th>\n",
       "      <th>MEDIANA_VEL</th>\n",
       "      <th>VEL_ME_8</th>\n",
       "      <th>VEL_10_25</th>\n",
       "      <th>VEL_30</th>\n",
       "      <th>...</th>\n",
       "      <th>PROM_RENTA</th>\n",
       "      <th>CONVERGENTE</th>\n",
       "      <th>SERV_INT</th>\n",
       "      <th>SERV_TV</th>\n",
       "      <th>SERV_VOZ</th>\n",
       "      <th>CANT_CALL</th>\n",
       "      <th>Unnamed: 20</th>\n",
       "      <th>Unnamed: 21</th>\n",
       "      <th>Unnamed: 22</th>\n",
       "      <th>SEGMENTADO</th>\n",
       "    </tr>\n",
       "  </thead>\n",
       "  <tbody>\n",
       "    <tr>\n",
       "      <th>0</th>\n",
       "      <td>PKE</td>\n",
       "      <td>2020-06-01</td>\n",
       "      <td>0.355112</td>\n",
       "      <td>0.124435</td>\n",
       "      <td>90.0</td>\n",
       "      <td>17.0</td>\n",
       "      <td>10.0</td>\n",
       "      <td>32.0</td>\n",
       "      <td>31.0</td>\n",
       "      <td>16.0</td>\n",
       "      <td>...</td>\n",
       "      <td>88062.0</td>\n",
       "      <td>22.0</td>\n",
       "      <td>90.0</td>\n",
       "      <td>83.0</td>\n",
       "      <td>83.0</td>\n",
       "      <td>4.0</td>\n",
       "      <td>0.0</td>\n",
       "      <td>0.0</td>\n",
       "      <td>0.0</td>\n",
       "      <td>NaN</td>\n",
       "    </tr>\n",
       "    <tr>\n",
       "      <th>1</th>\n",
       "      <td>2AU3</td>\n",
       "      <td>2020-06-01</td>\n",
       "      <td>0.208285</td>\n",
       "      <td>0.242637</td>\n",
       "      <td>NaN</td>\n",
       "      <td>NaN</td>\n",
       "      <td>NaN</td>\n",
       "      <td>NaN</td>\n",
       "      <td>NaN</td>\n",
       "      <td>NaN</td>\n",
       "      <td>...</td>\n",
       "      <td>NaN</td>\n",
       "      <td>NaN</td>\n",
       "      <td>NaN</td>\n",
       "      <td>NaN</td>\n",
       "      <td>NaN</td>\n",
       "      <td>NaN</td>\n",
       "      <td>NaN</td>\n",
       "      <td>NaN</td>\n",
       "      <td>NaN</td>\n",
       "      <td>NaN</td>\n",
       "    </tr>\n",
       "  </tbody>\n",
       "</table>\n",
       "<p>2 rows × 25 columns</p>\n",
       "</div>"
      ],
      "text/plain": [
       "  COD_NODO       FECHA  OCUPACION_DW  OCUPACION_UP  CANT_USER  PROM_VEL  \\\n",
       "0      PKE  2020-06-01      0.355112      0.124435       90.0      17.0   \n",
       "1     2AU3  2020-06-01      0.208285      0.242637        NaN       NaN   \n",
       "\n",
       "   MEDIANA_VEL  VEL_ME_8  VEL_10_25  VEL_30  ...  PROM_RENTA  CONVERGENTE  \\\n",
       "0         10.0      32.0       31.0    16.0  ...     88062.0         22.0   \n",
       "1          NaN       NaN        NaN     NaN  ...         NaN          NaN   \n",
       "\n",
       "   SERV_INT  SERV_TV  SERV_VOZ  CANT_CALL  Unnamed: 20  Unnamed: 21  \\\n",
       "0      90.0     83.0      83.0        4.0          0.0          0.0   \n",
       "1       NaN      NaN       NaN        NaN          NaN          NaN   \n",
       "\n",
       "   Unnamed: 22  SEGMENTADO  \n",
       "0          0.0         NaN  \n",
       "1          NaN         NaN  \n",
       "\n",
       "[2 rows x 25 columns]"
      ]
     },
     "execution_count": 9,
     "metadata": {},
     "output_type": "execute_result"
    }
   ],
   "source": [
    "data_ocupacion.head(2)"
   ]
  },
  {
   "cell_type": "markdown",
   "id": "04c0b8c6",
   "metadata": {},
   "source": [
    "### Parámetros generales"
   ]
  },
  {
   "cell_type": "code",
   "execution_count": 10,
   "id": "253e98dd",
   "metadata": {},
   "outputs": [],
   "source": [
    "start = datetime.now()"
   ]
  },
  {
   "cell_type": "code",
   "execution_count": 11,
   "id": "3c7cb1cc",
   "metadata": {},
   "outputs": [],
   "source": [
    "fechaMaxima=datetime.strptime(data_ocupacion['FECHA'].max(),'%Y-%m-%d')\n",
    "periodos_y=7\n",
    "periodos_x=7\n",
    "variable_prediccion='OCUPACION_DW'"
   ]
  },
  {
   "cell_type": "code",
   "execution_count": 12,
   "id": "1bd0a80b",
   "metadata": {},
   "outputs": [],
   "source": [
    "fechaLimite=fechaMaxima + relativedelta(months=-1*periodos_y)\n",
    "fechaInicial=fechaLimite + relativedelta(months=-1*periodos_x)"
   ]
  },
  {
   "cell_type": "markdown",
   "id": "afb981cc",
   "metadata": {},
   "source": [
    "### Selección Fechas"
   ]
  },
  {
   "cell_type": "code",
   "execution_count": 13,
   "id": "26eb5099",
   "metadata": {},
   "outputs": [],
   "source": [
    "## Eliminar informaición anterior Junion 2022\n",
    "data_ocupacion['FECHA']=data_ocupacion['FECHA'].astype('datetime64[ns]')\n",
    "### Elininar datos últimos mes\n",
    "data_ocupacion=data_ocupacion[data_ocupacion['FECHA']>=fechaInicial]\n",
    "### Eliminar Fecha Final  (mes incompleto)\n",
    "##  data_ocupacion=data_ocupacion[data_ocupacion['FECHA']<fechaMaxima]"
   ]
  },
  {
   "cell_type": "markdown",
   "id": "30140d93",
   "metadata": {},
   "source": [
    "##  Funciones"
   ]
  },
  {
   "cell_type": "code",
   "execution_count": 14,
   "id": "19afe38d",
   "metadata": {},
   "outputs": [],
   "source": [
    "#Funcion para Calcular el número de periodos hacia atrás\n",
    "def diff_month(d1, d2):\n",
    "    return (d1.year - d2.dt.year) * 12 + d1.month - d2.dt.month"
   ]
  },
  {
   "cell_type": "code",
   "execution_count": 15,
   "id": "53aa444a",
   "metadata": {},
   "outputs": [],
   "source": [
    "def semaforo(df, col):\n",
    "    df = df.copy()\n",
    "    df.loc[(df[col]>=0.58) & (df[col]<=0.75), 'ESTATUS'] = 'AMARILLO'\n",
    "    df.loc[df[col]>0.75, 'ESTATUS'] = 'ROJO'\n",
    "    df.loc[df[col]<0.60, 'ESTATUS'] = 'VERDE'\n",
    "    return(df)"
   ]
  },
  {
   "cell_type": "code",
   "execution_count": 16,
   "id": "f743d312",
   "metadata": {},
   "outputs": [],
   "source": [
    "def semaforoVal(val):\n",
    "    #df = df.copy()\n",
    "    respuesta='V'\n",
    "    if (val>=0.58) & (val<=0.75):\n",
    "        respuesta='A'\n",
    "    elif val>0.75:\n",
    "        respuesta='R'\n",
    "    return(respuesta)"
   ]
  },
  {
   "cell_type": "code",
   "execution_count": 17,
   "id": "4bf45ce9",
   "metadata": {},
   "outputs": [],
   "source": [
    "def semaforoNum2Val(val):   \n",
    "    respuesta='V'\n",
    "    if val==1:\n",
    "        respuesta='A'\n",
    "    elif val==2:\n",
    "        respuesta='R'\n",
    "    return(respuesta)"
   ]
  },
  {
   "cell_type": "code",
   "execution_count": 18,
   "id": "10608498",
   "metadata": {},
   "outputs": [],
   "source": [
    "def semaforoVal2Num(val):   \n",
    "    respuesta=0\n",
    "    if val=='A':\n",
    "        respuesta=1\n",
    "    elif val=='R':\n",
    "        respuesta=2\n",
    "    return(respuesta)"
   ]
  },
  {
   "cell_type": "code",
   "execution_count": 19,
   "id": "df23f93b",
   "metadata": {},
   "outputs": [],
   "source": [
    "def semaforoRojo(val):    \n",
    "    if val>0.75:\n",
    "        respuesta=1\n",
    "    else :\n",
    "        respuesta=0\n",
    "    return(respuesta)"
   ]
  },
  {
   "cell_type": "code",
   "execution_count": 20,
   "id": "99a4c052",
   "metadata": {},
   "outputs": [],
   "source": [
    "def semaforoAmarillo(val):    \n",
    "    if (val>=0.58) & (val<=0.75):\n",
    "        respuesta=1\n",
    "    else :\n",
    "        respuesta=0\n",
    "    return(respuesta)"
   ]
  },
  {
   "cell_type": "code",
   "execution_count": 21,
   "id": "89da3f8b",
   "metadata": {},
   "outputs": [],
   "source": [
    "def semaforoRojoAmarillo(val):    \n",
    "    if val>=0.58:\n",
    "        respuesta=1\n",
    "    else :\n",
    "        respuesta=0\n",
    "    return(respuesta)"
   ]
  },
  {
   "cell_type": "code",
   "execution_count": 22,
   "id": "819d1a96",
   "metadata": {},
   "outputs": [],
   "source": [
    "def semaforoNum(val):\n",
    "    #df = df.copy()\n",
    "    respuesta=0\n",
    "    if (val>=0.58) & (val<=0.75):\n",
    "        respuesta=1\n",
    "    elif val>0.75:\n",
    "        respuesta=2\n",
    "    return(respuesta)"
   ]
  },
  {
   "cell_type": "code",
   "execution_count": 23,
   "id": "843e15eb",
   "metadata": {},
   "outputs": [],
   "source": [
    "def semaforoNum2Rojo(val):    \n",
    "    respuesta=0\n",
    "    if val==2:\n",
    "        respuesta=1    \n",
    "    return(respuesta)"
   ]
  },
  {
   "cell_type": "code",
   "execution_count": 24,
   "id": "48ac0276",
   "metadata": {},
   "outputs": [],
   "source": [
    "def semaforoNum2Amarillo(val):    \n",
    "    respuesta=0\n",
    "    if val==1:\n",
    "        respuesta=1    \n",
    "    return(respuesta)"
   ]
  },
  {
   "cell_type": "code",
   "execution_count": 25,
   "id": "7977e026",
   "metadata": {},
   "outputs": [],
   "source": [
    "def semaforoNum2RojoAmarillo(val):    \n",
    "    respuesta=0\n",
    "    if val>=1:\n",
    "        respuesta=1    \n",
    "    return(respuesta)"
   ]
  },
  {
   "cell_type": "code",
   "execution_count": 26,
   "id": "394a3727",
   "metadata": {},
   "outputs": [],
   "source": [
    "def medidasEvaluacion(matrizConfucion):\n",
    "    exactitud=np.trace(matrizConfucion)/matrizConfucion.sum()\n",
    "    print ('exactitud:', exactitud)\n",
    "    sensibilidad=[0]*3\n",
    "    especificidad=[0]*3\n",
    "    for i in range(0,len(matrizConfucion)):\n",
    "        sensibilidad[i]=matrizConfucion[i,i]/matrizConfucion.sum(axis=1)[i]\n",
    "        especificidad[i]=np.delete(np.delete(matrizConfucion,i, axis=0),i,axis=1).sum()/np.delete(matrizConfucion,i, axis=0).sum()\n",
    "        print ('sensibilidad ',i,\": \",sensibilidad[i])\n",
    "        print ('especificidad ',i,\": \",especificidad[i])"
   ]
  },
  {
   "cell_type": "code",
   "execution_count": 27,
   "id": "80f1344f",
   "metadata": {},
   "outputs": [],
   "source": [
    "def sampling_strategy(X,y,n_samples,t='majority'):\n",
    "    target_classes=''\n",
    "    if t== 'majority':\n",
    "        target_classes= y.value_counts() >n_samples\n",
    "    elif t== 'minority':\n",
    "        target_classes = y.value_counts() < n_samples\n",
    "    tc=target_classes[target_classes ==True].index\n",
    "    #target_classes_all=y.value_counts().index\n",
    "    sampling_strategy={}\n",
    "    for target in tc:\n",
    "        sampling_strategy[target]= n_samples\n",
    "    return sampling_strategy"
   ]
  },
  {
   "cell_type": "code",
   "execution_count": 28,
   "id": "45406cd9",
   "metadata": {},
   "outputs": [],
   "source": [
    "def df2Feature_importanceClass(x_train_b,mod,title):\n",
    "    #shap_test = x_train_b.sample(1000)\n",
    "    shap_test = x_train_b\n",
    "    shap_values = shap.TreeExplainer(mod).shap_values(shap_test)\n",
    "    plt.figure()\n",
    "    plt.title(title)\n",
    "    shap.summary_plot(shap_values, shap_test,max_display=30)\n",
    "    plt.subplots_adjust(left=0.35, right=0.9, top=0.9, bottom=0.3)    \n",
    "    plt.show();"
   ]
  },
  {
   "cell_type": "markdown",
   "id": "71fbdb49",
   "metadata": {},
   "source": [
    "## Modelo\n",
    "### Procesamiento"
   ]
  },
  {
   "cell_type": "code",
   "execution_count": 29,
   "id": "1e0d4fab",
   "metadata": {},
   "outputs": [],
   "source": [
    "data_ocupacion['mesAnt']=(periodos_x+periodos_y)-diff_month(fechaMaxima,data_ocupacion['FECHA'])\n",
    "### Ordenar por fecha\n",
    "data_ocupacion=data_ocupacion.sort_values([\"FECHA\",\"COD_NODO\"], ascending = (True, True))"
   ]
  },
  {
   "cell_type": "markdown",
   "id": "98408bfc",
   "metadata": {},
   "source": [
    "### Seleccion Nodos para el Modelo"
   ]
  },
  {
   "cell_type": "code",
   "execution_count": 30,
   "id": "a0528a38",
   "metadata": {},
   "outputs": [],
   "source": [
    "### Solo Nodos con información completa\n",
    "seleccion=data_ocupacion[['COD_NODO',variable_prediccion]].groupby('COD_NODO').count()\n",
    "seleccion[seleccion[variable_prediccion]>=periodos_y+periodos_x+1]\n",
    "seleccion.rename(columns={variable_prediccion:'noRegVarPre'}, inplace=True)\n",
    "data_ocupacion=data_ocupacion.merge(seleccion, on='COD_NODO', how='left')\n",
    "data_ocupacion=data_ocupacion[data_ocupacion['noRegVarPre']>=periodos_y+periodos_x]\n",
    "data_ocupacion.drop(columns='noRegVarPre', inplace=True)\n",
    "### Nodos No Segmentados en el periodo de tiempo considerado\n",
    "data_ocupacion=data_ocupacion[data_ocupacion['SEGMENTADO']!=1]\n",
    "data_ocupacion.drop(columns='SEGMENTADO', inplace=True)\n",
    "### Eliminar datos con nullos\n",
    "data_ocupacion=data_ocupacion.dropna()"
   ]
  },
  {
   "cell_type": "markdown",
   "id": "fcc70b0b",
   "metadata": {},
   "source": [
    "###  Selección Columnas"
   ]
  },
  {
   "cell_type": "code",
   "execution_count": 31,
   "id": "8b573d94",
   "metadata": {},
   "outputs": [],
   "source": [
    "selCols=['COD_NODO','FECHA','OCUPACION_DW','OCUPACION_UP','SERV_INT','mesAnt']\n",
    "data_ocupacionC=data_ocupacion.copy()\n",
    "data_ocupacion=data_ocupacion[selCols]"
   ]
  },
  {
   "cell_type": "markdown",
   "id": "1c9bd790",
   "metadata": {},
   "source": [
    "### Tidy Tables"
   ]
  },
  {
   "cell_type": "markdown",
   "id": "cd299f95",
   "metadata": {},
   "source": [
    "#### Regresión"
   ]
  },
  {
   "cell_type": "code",
   "execution_count": 32,
   "id": "033f9ae7",
   "metadata": {},
   "outputs": [],
   "source": [
    "cols=data_ocupacion.columns\n",
    "cols=cols[2:-1]"
   ]
  },
  {
   "cell_type": "code",
   "execution_count": 33,
   "id": "aa600601",
   "metadata": {},
   "outputs": [],
   "source": [
    "cols_x=[]\n",
    "for i, col in enumerate(cols):\n",
    "    tablaAnalisis = pd.pivot_table(data_ocupacion.reset_index(), index='COD_NODO', columns='mesAnt', values=col)\n",
    "    tablaAnalisis.rename(columns={x: (col+\"-\"+str(x)) for x in tablaAnalisis.columns}, inplace=True)\n",
    "    #Identificacion Columnas X y Y    \n",
    "    cols_x=cols_x+[(col+\"-\"+str(x)) for x in range(0,periodos_x)]    \n",
    "    if i==0:\n",
    "        tablaAnalisisTotal = tablaAnalisis\n",
    "    else:\n",
    "        tablaAnalisisTotal = tablaAnalisisTotal.merge(tablaAnalisis, how='outer', on='COD_NODO')"
   ]
  },
  {
   "cell_type": "code",
   "execution_count": 34,
   "id": "1d8f6c05",
   "metadata": {},
   "outputs": [],
   "source": [
    "cols_x=sorted(list(set(cols_x)& set(tablaAnalisisTotal.columns.tolist())))"
   ]
  },
  {
   "cell_type": "code",
   "execution_count": 35,
   "id": "0c29c7fb",
   "metadata": {},
   "outputs": [],
   "source": [
    "cols_y=[(variable_prediccion+\"-\"+str(x)) for x in range(periodos_x,periodos_x+periodos_y-1)]"
   ]
  },
  {
   "cell_type": "code",
   "execution_count": 36,
   "id": "1e21751b",
   "metadata": {},
   "outputs": [],
   "source": [
    "yColClass=[s + '_sem2' for s in cols_y]"
   ]
  },
  {
   "cell_type": "code",
   "execution_count": 37,
   "id": "7daab7d7",
   "metadata": {},
   "outputs": [],
   "source": [
    "tablaAnalisisTotal=tablaAnalisisTotal.dropna()"
   ]
  },
  {
   "cell_type": "code",
   "execution_count": 38,
   "id": "81d863cd-ba9e-4507-8aac-58063671f7fd",
   "metadata": {},
   "outputs": [
    {
     "data": {
      "text/html": [
       "<div>\n",
       "<style scoped>\n",
       "    .dataframe tbody tr th:only-of-type {\n",
       "        vertical-align: middle;\n",
       "    }\n",
       "\n",
       "    .dataframe tbody tr th {\n",
       "        vertical-align: top;\n",
       "    }\n",
       "\n",
       "    .dataframe thead th {\n",
       "        text-align: right;\n",
       "    }\n",
       "</style>\n",
       "<table border=\"1\" class=\"dataframe\">\n",
       "  <thead>\n",
       "    <tr style=\"text-align: right;\">\n",
       "      <th></th>\n",
       "      <th>COD_NODO</th>\n",
       "      <th>FECHA</th>\n",
       "      <th>OCUPACION_DW</th>\n",
       "      <th>OCUPACION_UP</th>\n",
       "      <th>CANT_USER</th>\n",
       "      <th>PROM_VEL</th>\n",
       "      <th>MEDIANA_VEL</th>\n",
       "      <th>VEL_ME_8</th>\n",
       "      <th>VEL_10_25</th>\n",
       "      <th>VEL_30</th>\n",
       "      <th>...</th>\n",
       "      <th>PROM_RENTA</th>\n",
       "      <th>CONVERGENTE</th>\n",
       "      <th>SERV_INT</th>\n",
       "      <th>SERV_TV</th>\n",
       "      <th>SERV_VOZ</th>\n",
       "      <th>CANT_CALL</th>\n",
       "      <th>Unnamed: 20</th>\n",
       "      <th>Unnamed: 21</th>\n",
       "      <th>Unnamed: 22</th>\n",
       "      <th>mesAnt</th>\n",
       "    </tr>\n",
       "  </thead>\n",
       "  <tbody>\n",
       "    <tr>\n",
       "      <th>0</th>\n",
       "      <td>01J</td>\n",
       "      <td>2020-10-01</td>\n",
       "      <td>0.290939</td>\n",
       "      <td>0.212174</td>\n",
       "      <td>26.0</td>\n",
       "      <td>40.0</td>\n",
       "      <td>30.0</td>\n",
       "      <td>2.0</td>\n",
       "      <td>3.0</td>\n",
       "      <td>9.0</td>\n",
       "      <td>...</td>\n",
       "      <td>103621.0</td>\n",
       "      <td>6.0</td>\n",
       "      <td>26.0</td>\n",
       "      <td>21.0</td>\n",
       "      <td>18.0</td>\n",
       "      <td>1.0</td>\n",
       "      <td>0.0</td>\n",
       "      <td>0.0</td>\n",
       "      <td>0.0</td>\n",
       "      <td>0</td>\n",
       "    </tr>\n",
       "    <tr>\n",
       "      <th>1</th>\n",
       "      <td>01S</td>\n",
       "      <td>2020-10-01</td>\n",
       "      <td>0.358060</td>\n",
       "      <td>0.219646</td>\n",
       "      <td>146.0</td>\n",
       "      <td>34.0</td>\n",
       "      <td>30.0</td>\n",
       "      <td>46.0</td>\n",
       "      <td>6.0</td>\n",
       "      <td>30.0</td>\n",
       "      <td>...</td>\n",
       "      <td>89999.0</td>\n",
       "      <td>77.0</td>\n",
       "      <td>146.0</td>\n",
       "      <td>109.0</td>\n",
       "      <td>120.0</td>\n",
       "      <td>21.0</td>\n",
       "      <td>0.0</td>\n",
       "      <td>0.0</td>\n",
       "      <td>0.0</td>\n",
       "      <td>0</td>\n",
       "    </tr>\n",
       "    <tr>\n",
       "      <th>3</th>\n",
       "      <td>02J</td>\n",
       "      <td>2020-10-01</td>\n",
       "      <td>0.290939</td>\n",
       "      <td>0.212174</td>\n",
       "      <td>9.0</td>\n",
       "      <td>44.0</td>\n",
       "      <td>45.0</td>\n",
       "      <td>0.0</td>\n",
       "      <td>2.0</td>\n",
       "      <td>0.0</td>\n",
       "      <td>...</td>\n",
       "      <td>105699.0</td>\n",
       "      <td>4.0</td>\n",
       "      <td>9.0</td>\n",
       "      <td>6.0</td>\n",
       "      <td>8.0</td>\n",
       "      <td>2.0</td>\n",
       "      <td>0.0</td>\n",
       "      <td>0.0</td>\n",
       "      <td>0.0</td>\n",
       "      <td>0</td>\n",
       "    </tr>\n",
       "    <tr>\n",
       "      <th>4</th>\n",
       "      <td>02S</td>\n",
       "      <td>2020-10-01</td>\n",
       "      <td>0.358060</td>\n",
       "      <td>0.229191</td>\n",
       "      <td>116.0</td>\n",
       "      <td>28.0</td>\n",
       "      <td>30.0</td>\n",
       "      <td>36.0</td>\n",
       "      <td>12.0</td>\n",
       "      <td>29.0</td>\n",
       "      <td>...</td>\n",
       "      <td>87677.0</td>\n",
       "      <td>37.0</td>\n",
       "      <td>116.0</td>\n",
       "      <td>83.0</td>\n",
       "      <td>97.0</td>\n",
       "      <td>11.0</td>\n",
       "      <td>0.0</td>\n",
       "      <td>0.0</td>\n",
       "      <td>0.0</td>\n",
       "      <td>0</td>\n",
       "    </tr>\n",
       "    <tr>\n",
       "      <th>5</th>\n",
       "      <td>03J</td>\n",
       "      <td>2020-10-01</td>\n",
       "      <td>0.290939</td>\n",
       "      <td>0.212174</td>\n",
       "      <td>28.0</td>\n",
       "      <td>35.0</td>\n",
       "      <td>35.0</td>\n",
       "      <td>1.0</td>\n",
       "      <td>6.0</td>\n",
       "      <td>7.0</td>\n",
       "      <td>...</td>\n",
       "      <td>110762.0</td>\n",
       "      <td>12.0</td>\n",
       "      <td>28.0</td>\n",
       "      <td>26.0</td>\n",
       "      <td>24.0</td>\n",
       "      <td>4.0</td>\n",
       "      <td>0.0</td>\n",
       "      <td>0.0</td>\n",
       "      <td>0.0</td>\n",
       "      <td>0</td>\n",
       "    </tr>\n",
       "  </tbody>\n",
       "</table>\n",
       "<p>5 rows × 25 columns</p>\n",
       "</div>"
      ],
      "text/plain": [
       "  COD_NODO      FECHA  OCUPACION_DW  OCUPACION_UP  CANT_USER  PROM_VEL  \\\n",
       "0      01J 2020-10-01      0.290939      0.212174       26.0      40.0   \n",
       "1      01S 2020-10-01      0.358060      0.219646      146.0      34.0   \n",
       "3      02J 2020-10-01      0.290939      0.212174        9.0      44.0   \n",
       "4      02S 2020-10-01      0.358060      0.229191      116.0      28.0   \n",
       "5      03J 2020-10-01      0.290939      0.212174       28.0      35.0   \n",
       "\n",
       "   MEDIANA_VEL  VEL_ME_8  VEL_10_25  VEL_30  ...  PROM_RENTA  CONVERGENTE  \\\n",
       "0         30.0       2.0        3.0     9.0  ...    103621.0          6.0   \n",
       "1         30.0      46.0        6.0    30.0  ...     89999.0         77.0   \n",
       "3         45.0       0.0        2.0     0.0  ...    105699.0          4.0   \n",
       "4         30.0      36.0       12.0    29.0  ...     87677.0         37.0   \n",
       "5         35.0       1.0        6.0     7.0  ...    110762.0         12.0   \n",
       "\n",
       "   SERV_INT  SERV_TV  SERV_VOZ  CANT_CALL  Unnamed: 20  Unnamed: 21  \\\n",
       "0      26.0     21.0      18.0        1.0          0.0          0.0   \n",
       "1     146.0    109.0     120.0       21.0          0.0          0.0   \n",
       "3       9.0      6.0       8.0        2.0          0.0          0.0   \n",
       "4     116.0     83.0      97.0       11.0          0.0          0.0   \n",
       "5      28.0     26.0      24.0        4.0          0.0          0.0   \n",
       "\n",
       "   Unnamed: 22  mesAnt  \n",
       "0          0.0       0  \n",
       "1          0.0       0  \n",
       "3          0.0       0  \n",
       "4          0.0       0  \n",
       "5          0.0       0  \n",
       "\n",
       "[5 rows x 25 columns]"
      ]
     },
     "execution_count": 38,
     "metadata": {},
     "output_type": "execute_result"
    }
   ],
   "source": [
    "data_ocupacionC.head()"
   ]
  },
  {
   "cell_type": "markdown",
   "id": "059f1399",
   "metadata": {},
   "source": [
    "#### Clasificación"
   ]
  },
  {
   "cell_type": "code",
   "execution_count": 39,
   "id": "222382f9-c492-4554-8271-8f98c9579bdb",
   "metadata": {},
   "outputs": [],
   "source": [
    "colsC=data_ocupacionC.columns\n",
    "colsC=colsC[2:-1]"
   ]
  },
  {
   "cell_type": "code",
   "execution_count": 40,
   "id": "81d21430",
   "metadata": {},
   "outputs": [],
   "source": [
    "cols_xC=[]\n",
    "for i, col in enumerate(colsC):\n",
    "    tablaAnalisis = pd.pivot_table(data_ocupacionC.reset_index(), index='COD_NODO', columns='mesAnt', values=col)\n",
    "    tablaAnalisis.rename(columns={x: (col+\"-\"+str(x)) for x in tablaAnalisis.columns}, inplace=True)\n",
    "    #Identificacion Columnas X y Y    \n",
    "    cols_xC=cols_xC+[(col+\"-\"+str(x)) for x in range(0,periodos_x)]    \n",
    "    if i==0:\n",
    "        tablaAnalisisTotalC = tablaAnalisis\n",
    "    else:\n",
    "        tablaAnalisisTotalC = tablaAnalisisTotalC.merge(tablaAnalisis, how='outer', on='COD_NODO')\n",
    "tablaAnalisisTotalC=tablaAnalisisTotalC.dropna()"
   ]
  },
  {
   "cell_type": "code",
   "execution_count": 41,
   "id": "efe6f68e",
   "metadata": {},
   "outputs": [],
   "source": [
    "cols_xC=sorted(list(set(cols_xC)& set(tablaAnalisisTotalC.columns.tolist())))"
   ]
  },
  {
   "cell_type": "markdown",
   "id": "135dc1a3",
   "metadata": {},
   "source": [
    "## Carga de los modelos"
   ]
  },
  {
   "cell_type": "code",
   "execution_count": 42,
   "id": "021ea13d",
   "metadata": {},
   "outputs": [],
   "source": [
    "ruta_objeto = f\"modeloR.pkl\"\n",
    "modeloR = load(ruta_objeto)"
   ]
  },
  {
   "cell_type": "code",
   "execution_count": 43,
   "id": "6b863693",
   "metadata": {},
   "outputs": [],
   "source": [
    "ruta_objeto = f\"modeloC.pkl\"\n",
    "modeloC = load(ruta_objeto)"
   ]
  },
  {
   "cell_type": "markdown",
   "id": "dc53ca74",
   "metadata": {},
   "source": [
    "### Selección datos Base"
   ]
  },
  {
   "cell_type": "code",
   "execution_count": 44,
   "id": "3b2275c9",
   "metadata": {},
   "outputs": [],
   "source": [
    "data_ocupacionNp=data_ocupacion.copy()\n",
    "data_ocupacionNpC=data_ocupacionC.copy()"
   ]
  },
  {
   "cell_type": "code",
   "execution_count": 45,
   "id": "10705b2f",
   "metadata": {},
   "outputs": [],
   "source": [
    "periodos_x=6\n",
    "fechaMaxima=data_ocupacionNp['FECHA'].max()\n",
    "fechaInicialNp=fechaMaxima + relativedelta(months=-1*periodos_x)"
   ]
  },
  {
   "cell_type": "code",
   "execution_count": 46,
   "id": "b6ffcadc",
   "metadata": {},
   "outputs": [
    {
     "data": {
      "text/plain": [
       "Timestamp('2021-12-01 00:00:00')"
      ]
     },
     "execution_count": 46,
     "metadata": {},
     "output_type": "execute_result"
    }
   ],
   "source": [
    "fechaMaxima"
   ]
  },
  {
   "cell_type": "code",
   "execution_count": 47,
   "id": "b99fb8b8",
   "metadata": {},
   "outputs": [],
   "source": [
    "#meses a predecir\n",
    "date_list = [(fechaMaxima + relativedelta(months=+x+1)).strftime('%b-%y') for x in range(6)]"
   ]
  },
  {
   "cell_type": "code",
   "execution_count": 48,
   "id": "e6853351",
   "metadata": {},
   "outputs": [
    {
     "data": {
      "text/plain": [
       "['Jan-22', 'Feb-22', 'Mar-22', 'Apr-22', 'May-22', 'Jun-22']"
      ]
     },
     "execution_count": 48,
     "metadata": {},
     "output_type": "execute_result"
    }
   ],
   "source": [
    "date_list"
   ]
  },
  {
   "cell_type": "code",
   "execution_count": 49,
   "id": "2664f3d9",
   "metadata": {},
   "outputs": [],
   "source": [
    "data_ocupacionNp=data_ocupacionNp[data_ocupacionNp['FECHA']>=fechaInicialNp]\n",
    "data_ocupacionNpC=data_ocupacionNpC[data_ocupacionNpC['FECHA']>=fechaInicialNp]\n",
    "data_ocupacionNp['mesAnt']=(periodos_x)-diff_month(fechaMaxima,data_ocupacionNp['FECHA'])\n",
    "data_ocupacionNpC['mesAnt']=(periodos_x)-diff_month(fechaMaxima,data_ocupacionNpC['FECHA'])"
   ]
  },
  {
   "cell_type": "code",
   "execution_count": 50,
   "id": "143d47ef",
   "metadata": {},
   "outputs": [],
   "source": [
    "colsNp=data_ocupacionNp.columns\n",
    "colsNp=colsNp[2:-1]\n",
    "colsNpC=data_ocupacionNpC.columns\n",
    "colsNpC=colsNpC[2:-1]"
   ]
  },
  {
   "cell_type": "code",
   "execution_count": 51,
   "id": "ba0900c1",
   "metadata": {},
   "outputs": [],
   "source": [
    "#Tabla para regresión\n",
    "cols_xNp=[]\n",
    "for i, col in enumerate(colsNp):\n",
    "    tablaAnalisisNp = pd.pivot_table(data_ocupacionNp.reset_index(), index='COD_NODO', columns='mesAnt', values=col)\n",
    "    tablaAnalisisNp.rename(columns={x: (col+\"-\"+str(x)) for x in tablaAnalisisNp.columns}, inplace=True)    \n",
    "    cols_xNp=cols_xNp+[(col+\"-\"+str(x)) for x in range(0,periodos_x+1)]    \n",
    "    if i==0:\n",
    "        tablaAnalisisTotalNp = tablaAnalisisNp\n",
    "    else:\n",
    "        tablaAnalisisTotalNp = tablaAnalisisTotalNp.merge(tablaAnalisisNp, how='outer', on='COD_NODO')"
   ]
  },
  {
   "cell_type": "code",
   "execution_count": 52,
   "id": "0c5a9585",
   "metadata": {},
   "outputs": [],
   "source": [
    "#Tabla para clasificación\n",
    "cols_xNpC=[]\n",
    "for i, col in enumerate(colsNpC):\n",
    "    tablaAnalisisNpC = pd.pivot_table(data_ocupacionNpC.reset_index(), index='COD_NODO', columns='mesAnt', values=col)\n",
    "    tablaAnalisisNpC.rename(columns={x: (col+\"-\"+str(x)) for x in tablaAnalisisNpC.columns}, inplace=True)    \n",
    "    cols_xNpC=cols_xNpC+[(col+\"-\"+str(x)) for x in range(0,periodos_x+1)]    \n",
    "    if i==0:\n",
    "        tablaAnalisisTotalNpC = tablaAnalisisNpC\n",
    "    else:\n",
    "        tablaAnalisisTotalNpC = tablaAnalisisTotalNpC.merge(tablaAnalisisNpC, how='outer', on='COD_NODO')"
   ]
  },
  {
   "cell_type": "code",
   "execution_count": 53,
   "id": "fa81999c",
   "metadata": {},
   "outputs": [],
   "source": [
    "tablaAnalisisTotalNp=tablaAnalisisTotalNp.dropna()\n",
    "tablaAnalisisTotalNpC=tablaAnalisisTotalNpC.dropna()"
   ]
  },
  {
   "cell_type": "code",
   "execution_count": 54,
   "id": "96e4634b",
   "metadata": {},
   "outputs": [],
   "source": [
    "tablaResultados=tablaAnalisisTotalNp.copy()"
   ]
  },
  {
   "cell_type": "code",
   "execution_count": 55,
   "id": "407f4691",
   "metadata": {
    "scrolled": true
   },
   "outputs": [
    {
     "name": "stdout",
     "output_type": "stream",
     "text": [
      "OCUPACION_DW-7\n",
      "OCUPACION_DW-8\n",
      "OCUPACION_DW-9\n",
      "OCUPACION_DW-10\n",
      "OCUPACION_DW-11\n",
      "OCUPACION_DW-12\n"
     ]
    }
   ],
   "source": [
    "#for predVar in modelos:\n",
    "for predVar in cols_y:\n",
    "    print(predVar)\n",
    "    tablaResultados[predVar+'_pR']=modeloR[predVar].predict(tablaAnalisisTotalNp[cols_x])\n",
    "    tablaResultados[predVar+'_pR_Sem']=tablaResultados[predVar+'_pR'].apply(semaforoVal)  "
   ]
  },
  {
   "cell_type": "code",
   "execution_count": 56,
   "id": "d1b1e31b",
   "metadata": {},
   "outputs": [
    {
     "name": "stdout",
     "output_type": "stream",
     "text": [
      "OCUPACION_DW-7_sem2\n"
     ]
    },
    {
     "ename": "ValueError",
     "evalue": "Number of features of the model must match the input. Model n_features_ is 133 and input n_features is 154 ",
     "output_type": "error",
     "traceback": [
      "\u001b[1;31m---------------------------------------------------------------------------\u001b[0m",
      "\u001b[1;31mValueError\u001b[0m                                Traceback (most recent call last)",
      "\u001b[1;32m<ipython-input-56-525688ab3554>\u001b[0m in \u001b[0;36m<module>\u001b[1;34m\u001b[0m\n\u001b[0;32m      2\u001b[0m \u001b[1;32mfor\u001b[0m \u001b[0mpredVar\u001b[0m \u001b[1;32min\u001b[0m \u001b[0myColClass\u001b[0m\u001b[1;33m:\u001b[0m\u001b[1;33m\u001b[0m\u001b[1;33m\u001b[0m\u001b[0m\n\u001b[0;32m      3\u001b[0m     \u001b[0mprint\u001b[0m\u001b[1;33m(\u001b[0m\u001b[0mpredVar\u001b[0m\u001b[1;33m)\u001b[0m\u001b[1;33m\u001b[0m\u001b[1;33m\u001b[0m\u001b[0m\n\u001b[1;32m----> 4\u001b[1;33m     \u001b[0mtablaResultados\u001b[0m\u001b[1;33m[\u001b[0m\u001b[0mpredVar\u001b[0m\u001b[1;33m+\u001b[0m\u001b[1;34m'_pC'\u001b[0m\u001b[1;33m]\u001b[0m\u001b[1;33m=\u001b[0m\u001b[0mmodeloC\u001b[0m\u001b[1;33m[\u001b[0m\u001b[0mpredVar\u001b[0m\u001b[1;33m]\u001b[0m\u001b[1;33m.\u001b[0m\u001b[0mpredict\u001b[0m\u001b[1;33m(\u001b[0m\u001b[0mtablaAnalisisTotalNpC\u001b[0m\u001b[1;33m[\u001b[0m\u001b[0mcols_xC\u001b[0m\u001b[1;33m]\u001b[0m\u001b[1;33m)\u001b[0m\u001b[1;33m\u001b[0m\u001b[1;33m\u001b[0m\u001b[0m\n\u001b[0m\u001b[0;32m      5\u001b[0m     \u001b[0mtablaResultados\u001b[0m\u001b[1;33m[\u001b[0m\u001b[0mpredVar\u001b[0m\u001b[1;33m+\u001b[0m\u001b[1;34m'_pC_probR'\u001b[0m\u001b[1;33m]\u001b[0m\u001b[1;33m=\u001b[0m\u001b[0mmodeloC\u001b[0m\u001b[1;33m[\u001b[0m\u001b[0mpredVar\u001b[0m\u001b[1;33m]\u001b[0m\u001b[1;33m.\u001b[0m\u001b[0mpredict_proba\u001b[0m\u001b[1;33m(\u001b[0m\u001b[0mtablaAnalisisTotalNpC\u001b[0m\u001b[1;33m[\u001b[0m\u001b[0mcols_xC\u001b[0m\u001b[1;33m]\u001b[0m\u001b[1;33m)\u001b[0m\u001b[1;33m[\u001b[0m\u001b[1;33m:\u001b[0m\u001b[1;33m,\u001b[0m\u001b[1;36m2\u001b[0m\u001b[1;33m]\u001b[0m\u001b[1;33m\u001b[0m\u001b[1;33m\u001b[0m\u001b[0m\n\u001b[0;32m      6\u001b[0m     \u001b[0mtablaResultados\u001b[0m\u001b[1;33m[\u001b[0m\u001b[0mpredVar\u001b[0m\u001b[1;33m+\u001b[0m\u001b[1;34m'_pC_probA'\u001b[0m\u001b[1;33m]\u001b[0m\u001b[1;33m=\u001b[0m\u001b[0mmodeloC\u001b[0m\u001b[1;33m[\u001b[0m\u001b[0mpredVar\u001b[0m\u001b[1;33m]\u001b[0m\u001b[1;33m.\u001b[0m\u001b[0mpredict_proba\u001b[0m\u001b[1;33m(\u001b[0m\u001b[0mtablaAnalisisTotalNpC\u001b[0m\u001b[1;33m[\u001b[0m\u001b[0mcols_xC\u001b[0m\u001b[1;33m]\u001b[0m\u001b[1;33m)\u001b[0m\u001b[1;33m[\u001b[0m\u001b[1;33m:\u001b[0m\u001b[1;33m,\u001b[0m\u001b[1;36m1\u001b[0m\u001b[1;33m]\u001b[0m\u001b[1;33m\u001b[0m\u001b[1;33m\u001b[0m\u001b[0m\n",
      "\u001b[1;32mC:\\ProgramData\\Anaconda3\\envs\\ds_sqdm_claro\\lib\\site-packages\\lightgbm\\sklearn.py\u001b[0m in \u001b[0;36mpredict\u001b[1;34m(self, X, raw_score, start_iteration, num_iteration, pred_leaf, pred_contrib, **kwargs)\u001b[0m\n\u001b[0;32m    905\u001b[0m                 pred_leaf=False, pred_contrib=False, **kwargs):\n\u001b[0;32m    906\u001b[0m         \u001b[1;34m\"\"\"Docstring is inherited from the LGBMModel.\"\"\"\u001b[0m\u001b[1;33m\u001b[0m\u001b[1;33m\u001b[0m\u001b[0m\n\u001b[1;32m--> 907\u001b[1;33m         result = self.predict_proba(X, raw_score, start_iteration, num_iteration,\n\u001b[0m\u001b[0;32m    908\u001b[0m                                     pred_leaf, pred_contrib, **kwargs)\n\u001b[0;32m    909\u001b[0m         \u001b[1;32mif\u001b[0m \u001b[0mcallable\u001b[0m\u001b[1;33m(\u001b[0m\u001b[0mself\u001b[0m\u001b[1;33m.\u001b[0m\u001b[0m_objective\u001b[0m\u001b[1;33m)\u001b[0m \u001b[1;32mor\u001b[0m \u001b[0mraw_score\u001b[0m \u001b[1;32mor\u001b[0m \u001b[0mpred_leaf\u001b[0m \u001b[1;32mor\u001b[0m \u001b[0mpred_contrib\u001b[0m\u001b[1;33m:\u001b[0m\u001b[1;33m\u001b[0m\u001b[1;33m\u001b[0m\u001b[0m\n",
      "\u001b[1;32mC:\\ProgramData\\Anaconda3\\envs\\ds_sqdm_claro\\lib\\site-packages\\lightgbm\\sklearn.py\u001b[0m in \u001b[0;36mpredict_proba\u001b[1;34m(self, X, raw_score, start_iteration, num_iteration, pred_leaf, pred_contrib, **kwargs)\u001b[0m\n\u001b[0;32m    918\u001b[0m                       pred_leaf=False, pred_contrib=False, **kwargs):\n\u001b[0;32m    919\u001b[0m         \u001b[1;34m\"\"\"Docstring is set after definition, using a template.\"\"\"\u001b[0m\u001b[1;33m\u001b[0m\u001b[1;33m\u001b[0m\u001b[0m\n\u001b[1;32m--> 920\u001b[1;33m         \u001b[0mresult\u001b[0m \u001b[1;33m=\u001b[0m \u001b[0msuper\u001b[0m\u001b[1;33m(\u001b[0m\u001b[1;33m)\u001b[0m\u001b[1;33m.\u001b[0m\u001b[0mpredict\u001b[0m\u001b[1;33m(\u001b[0m\u001b[0mX\u001b[0m\u001b[1;33m,\u001b[0m \u001b[0mraw_score\u001b[0m\u001b[1;33m,\u001b[0m \u001b[0mstart_iteration\u001b[0m\u001b[1;33m,\u001b[0m \u001b[0mnum_iteration\u001b[0m\u001b[1;33m,\u001b[0m \u001b[0mpred_leaf\u001b[0m\u001b[1;33m,\u001b[0m \u001b[0mpred_contrib\u001b[0m\u001b[1;33m,\u001b[0m \u001b[1;33m**\u001b[0m\u001b[0mkwargs\u001b[0m\u001b[1;33m)\u001b[0m\u001b[1;33m\u001b[0m\u001b[1;33m\u001b[0m\u001b[0m\n\u001b[0m\u001b[0;32m    921\u001b[0m         \u001b[1;32mif\u001b[0m \u001b[0mcallable\u001b[0m\u001b[1;33m(\u001b[0m\u001b[0mself\u001b[0m\u001b[1;33m.\u001b[0m\u001b[0m_objective\u001b[0m\u001b[1;33m)\u001b[0m \u001b[1;32mand\u001b[0m \u001b[1;32mnot\u001b[0m \u001b[1;33m(\u001b[0m\u001b[0mraw_score\u001b[0m \u001b[1;32mor\u001b[0m \u001b[0mpred_leaf\u001b[0m \u001b[1;32mor\u001b[0m \u001b[0mpred_contrib\u001b[0m\u001b[1;33m)\u001b[0m\u001b[1;33m:\u001b[0m\u001b[1;33m\u001b[0m\u001b[1;33m\u001b[0m\u001b[0m\n\u001b[0;32m    922\u001b[0m             _log_warning(\"Cannot compute class probabilities or labels \"\n",
      "\u001b[1;32mC:\\ProgramData\\Anaconda3\\envs\\ds_sqdm_claro\\lib\\site-packages\\lightgbm\\sklearn.py\u001b[0m in \u001b[0;36mpredict\u001b[1;34m(self, X, raw_score, start_iteration, num_iteration, pred_leaf, pred_contrib, **kwargs)\u001b[0m\n\u001b[0;32m    720\u001b[0m         \u001b[0mn_features\u001b[0m \u001b[1;33m=\u001b[0m \u001b[0mX\u001b[0m\u001b[1;33m.\u001b[0m\u001b[0mshape\u001b[0m\u001b[1;33m[\u001b[0m\u001b[1;36m1\u001b[0m\u001b[1;33m]\u001b[0m\u001b[1;33m\u001b[0m\u001b[1;33m\u001b[0m\u001b[0m\n\u001b[0;32m    721\u001b[0m         \u001b[1;32mif\u001b[0m \u001b[0mself\u001b[0m\u001b[1;33m.\u001b[0m\u001b[0m_n_features\u001b[0m \u001b[1;33m!=\u001b[0m \u001b[0mn_features\u001b[0m\u001b[1;33m:\u001b[0m\u001b[1;33m\u001b[0m\u001b[1;33m\u001b[0m\u001b[0m\n\u001b[1;32m--> 722\u001b[1;33m             raise ValueError(\"Number of features of the model must \"\n\u001b[0m\u001b[0;32m    723\u001b[0m                              \u001b[1;34m\"match the input. Model n_features_ is %s and \"\u001b[0m\u001b[1;33m\u001b[0m\u001b[1;33m\u001b[0m\u001b[0m\n\u001b[0;32m    724\u001b[0m                              \u001b[1;34m\"input n_features is %s \"\u001b[0m\u001b[1;33m\u001b[0m\u001b[1;33m\u001b[0m\u001b[0m\n",
      "\u001b[1;31mValueError\u001b[0m: Number of features of the model must match the input. Model n_features_ is 133 and input n_features is 154 "
     ]
    }
   ],
   "source": [
    "#for predVar in modelosClass:\n",
    "for predVar in yColClass: \n",
    "    print(predVar)\n",
    "    tablaResultados[predVar+'_pC']=modeloC[predVar].predict(tablaAnalisisTotalNpC[cols_xC])\n",
    "    tablaResultados[predVar+'_pC_probR']=modeloC[predVar].predict_proba(tablaAnalisisTotalNpC[cols_xC])[:,2]\n",
    "    tablaResultados[predVar+'_pC_probA']=modeloC[predVar].predict_proba(tablaAnalisisTotalNpC[cols_xC])[:,1]\n",
    "    tablaResultados[predVar+'_pC']=tablaResultados[predVar+'_pC'].apply(semaforoNum2Val)    "
   ]
  },
  {
   "cell_type": "code",
   "execution_count": null,
   "id": "cdfaed15",
   "metadata": {},
   "outputs": [],
   "source": [
    "import pandas as pd\n",
    "pd.set_option('display.max_columns', None)\n",
    "tablaResultados.head(10)"
   ]
  },
  {
   "cell_type": "markdown",
   "id": "b7d97ad0",
   "metadata": {},
   "source": [
    "####  Ranking de Nodos"
   ]
  },
  {
   "cell_type": "code",
   "execution_count": null,
   "id": "d4f6db47",
   "metadata": {},
   "outputs": [],
   "source": [
    "reglasRank = [[0 , 0.2, 0.6],[0.2 , 0.4, 0.8],[0.6, 0.8, 1]]"
   ]
  },
  {
   "cell_type": "code",
   "execution_count": null,
   "id": "274dc0dc",
   "metadata": {},
   "outputs": [],
   "source": [
    "def valRank(predR,predC):    \n",
    "    return reglasRank[predR][predC]"
   ]
  },
  {
   "cell_type": "code",
   "execution_count": null,
   "id": "19081d65",
   "metadata": {},
   "outputs": [],
   "source": [
    "#for predVar in modelos:    \n",
    "for predVar in cols_y:\n",
    "    tablaResultados[predVar+'v1']=tablaResultados[predVar+'_pR_Sem'].apply(semaforoVal2Num)\n",
    "    tablaResultados[predVar+'v2']=tablaResultados[predVar+'_sem2_pC'].apply(semaforoVal2Num)    \n",
    "    tablaResultados[predVar+'_Rank'] = tablaResultados.apply(lambda x: valRank(x[predVar+'v1'],x[predVar+'v2']), axis=1)  "
   ]
  },
  {
   "cell_type": "code",
   "execution_count": null,
   "id": "cf4d297a",
   "metadata": {},
   "outputs": [],
   "source": [
    "## ordernar columnas\n",
    "columnasResultados=[]\n",
    "for predVar in cols_y:\n",
    "    auxCol=[predVar+'_pR',predVar+'_pR_Sem',predVar+'_sem2_pC_probR',predVar+'_sem2_pC_probA',predVar+'_sem2_pC',predVar+'_Rank']\n",
    "    columnasResultados=columnasResultados+auxCol"
   ]
  },
  {
   "cell_type": "code",
   "execution_count": null,
   "id": "11072e5d",
   "metadata": {
    "scrolled": true
   },
   "outputs": [],
   "source": [
    "tablaResultados[columnasResultados].head(3)"
   ]
  },
  {
   "cell_type": "code",
   "execution_count": null,
   "id": "9c481b31",
   "metadata": {},
   "outputs": [],
   "source": [
    "nuevasColumnas=[]\n",
    "for col in columnasResultados:\n",
    "    n_col=col\n",
    "    i=0\n",
    "    for predVar in cols_y:\n",
    "        n_col=n_col.replace(predVar,date_list[i])\n",
    "        i=i+1\n",
    "    nuevasColumnas.append(n_col)"
   ]
  },
  {
   "cell_type": "code",
   "execution_count": null,
   "id": "aa5b39a9",
   "metadata": {},
   "outputs": [],
   "source": [
    "tablaResultados=tablaResultados[columnasResultados]\n",
    "tablaResultados.columns=nuevasColumnas"
   ]
  },
  {
   "cell_type": "code",
   "execution_count": null,
   "id": "519cf368",
   "metadata": {},
   "outputs": [],
   "source": [
    "tablaResultados.head(3)"
   ]
  },
  {
   "cell_type": "code",
   "execution_count": null,
   "id": "d3fed471",
   "metadata": {},
   "outputs": [],
   "source": [
    "tablaResultados.to_csv('Resultados/resultadosVp.csv', index=True,sep=';')"
   ]
  },
  {
   "cell_type": "code",
   "execution_count": null,
   "id": "dd245ae6",
   "metadata": {},
   "outputs": [],
   "source": [
    "end = datetime.now()\n",
    "print(f'Tiempo: {end - start} segundos')"
   ]
  },
  {
   "cell_type": "code",
   "execution_count": null,
   "id": "89d6a07d",
   "metadata": {},
   "outputs": [],
   "source": []
  }
 ],
 "metadata": {
  "kernelspec": {
   "display_name": "Python 3 (ipykernel)",
   "language": "python",
   "name": "python3"
  },
  "language_info": {
   "codemirror_mode": {
    "name": "ipython",
    "version": 3
   },
   "file_extension": ".py",
   "mimetype": "text/x-python",
   "name": "python",
   "nbconvert_exporter": "python",
   "pygments_lexer": "ipython3",
   "version": "3.8.11"
  }
 },
 "nbformat": 4,
 "nbformat_minor": 5
}
