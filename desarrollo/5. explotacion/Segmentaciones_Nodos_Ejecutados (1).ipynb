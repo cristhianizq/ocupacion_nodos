{
  "nbformat": 4,
  "nbformat_minor": 0,
  "metadata": {
    "colab": {
      "name": "Segmentaciones_Nodos_Ejecutados.ipynb",
      "private_outputs": true,
      "provenance": [],
      "collapsed_sections": []
    },
    "kernelspec": {
      "name": "python3",
      "display_name": "Python 3"
    },
    "language_info": {
      "name": "python"
    }
  },
  "cells": [
    {
      "cell_type": "code",
      "metadata": {
        "id": "Tqe4Gr4ZTqt_"
      },
      "source": [
        "# # carga de conjunto de datos\n",
        "# df= pd.read_csv('')\n",
        "# x= df.iloc[:,[2,3]].values\n",
        "# y=df.iloc[:,4].values\n",
        "\n",
        "\n",
        "# from sklearn.model_selection import  train_test_split\n",
        "# x_train, x_test, y_train, y_test = train_test_split(x,y,test_size=0.25, random_state=0)\n",
        "\n",
        "# # estandarizacion de escalas\n",
        "# from sklearn.preprocessing import StandardScaler\n",
        "# sc= StandardScaler()\n",
        "# x_train = sc.fit_transform(x_train)\n",
        "# x_test = sc.transform(x_test)\n",
        "\n",
        "# # regrecion logistica y entrenamiento del modelo\n",
        "# from sklearn.linear_model import LogisticRegression\n",
        "# clasificador= LogisticRegression(random_state=0)\n",
        "# clasificador.fit(x_train,y_train)\n",
        "\n",
        "# #predicion del conjunto de prueva\n",
        "# y_pred = clasificador.predict(x_test)\n",
        "\n",
        "# # para revisar que valores son correectos\n",
        "# #matriz de confucion\n",
        "# form sklearn.metrics import confusion_matrix\n",
        "# cm=conconfusion_matrix(y_test,y_pred)\n",
        "\n",
        "# # calculo de score\n",
        "# score= clasificador.score(x_test,y_test)\n",
        "\n",
        "\n",
        "# # Visualizacion de los resultados de Prueba\n",
        "# from matplotlib.colors import ListedColormap\n",
        "# X_set, y_set = X_test, y_test\n",
        "# X1, X2 = np.meshgrid(np.arange(start = X_set[:, 0].min() - 1, stop = X_set[:, 0].max() + 1, step = 0.01),\n",
        "#                      np.arange(start = X_set[:, 1].min() - 1, stop = X_set[:, 1].max() + 1, step = 0.01))\n",
        "# plt.contourf(X1, X2, classifier.predict(np.array([X1.ravel(), X2.ravel()]).T).reshape(X1.shape),\n",
        "#              alpha = 0.75, cmap = ListedColormap(('red', 'green')))\n",
        "# plt.xlim(X1.min(), X1.max())\n",
        "# plt.ylim(X2.min(), X2.max())\n",
        "# for i, j in enumerate(np.unique(y_set)):\n",
        "#     plt.scatter(X_set[y_set == j, 0], X_set[y_set == j, 1],\n",
        "#                 c = ListedColormap(('red', 'green'))(i), label = j)\n",
        "# plt.title('Regresion Logistica (Conjunto de Prueba)')\n",
        "# plt.xlabel('Edad')\n",
        "# plt.ylabel('Salario Estimado')\n",
        "# plt.legend()\n",
        "# plt.show()"
      ],
      "execution_count": null,
      "outputs": []
    },
    {
      "cell_type": "code",
      "metadata": {
        "id": "3ztODrbXsZIB"
      },
      "source": [
        "import pandas as pd\n",
        "import numpy as np\n",
        "import matplotlib.pyplot as plt\n",
        "import matplotlib\n",
        "import matplotlib.ticker as ticker\n",
        "import seaborn as sns\n",
        "from joblib import parallel, delayed\n",
        "import math as m\n",
        "\n",
        "# Preprocesado y modelado\n",
        "# ==============================================================================\n",
        "from sklearn.model_selection import GridSearchCV\n",
        "from sklearn.model_selection import RepeatedKFold\n",
        "from sklearn.datasets import make_blobs\n",
        "from sklearn.metrics import euclidean_distances\n",
        "from sklearn.neighbors import KNeighborsClassifier\n",
        "from sklearn.ensemble import RandomForestClassifier\n",
        "from sklearn.linear_model import Ridge\n",
        "\n",
        "from sklearn.metrics import accuracy_score\n",
        "from sklearn.cluster import KMeans\n",
        "from sklearn.neighbors import KNeighborsRegressor\n",
        "from sklearn import svm\n",
        "import tensorflow as tf\n",
        "from sklearn.tree import DecisionTreeClassifier\n",
        "from sklearn.tree import DecisionTreeRegressor\n",
        "from sklearn import tree\n",
        "from sklearn.linear_model import LinearRegression\n",
        "from sklearn.linear_model import LogisticRegression # clasificador linear\n",
        "from sklearn.datasets import make_classification\n",
        "from sklearn import datasets\n",
        "\n",
        "# utilidades para preparar datos antes de enviar a entrenamiento \n",
        "from sklearn.preprocessing import StandardScaler # StandardScaler sive para normalizar nuestros datos osea  para que esten en la misma escala\n",
        "from sklearn.model_selection import train_test_split # para poder partir nuestros datos\n",
        "from sklearn.linear_model import (RANSACRegressor, HuberRegressor)\n",
        "\n",
        "# from skopt.space import Real\n",
        "# from skopt.utils import use_named_args\n",
        "# from skopt import gp_minimize\n",
        "# from skopt.plots import plot_convergence\n",
        "import multiprocessing"
      ],
      "execution_count": null,
      "outputs": []
    },
    {
      "cell_type": "code",
      "metadata": {
        "id": "b9K1Fx_efPx9"
      },
      "source": [
        "# from google.colab import drive\n",
        "# drive.mount('/content/drive')"
      ],
      "execution_count": null,
      "outputs": []
    },
    {
      "cell_type": "code",
      "metadata": {
        "id": "qBllyx0ZfK7O"
      },
      "source": [
        "df_segmentados= pd.read_excel('/content/Segmentaciones_Nodos_Ejecutados.xlsx')\n",
        "df_segmentados.head(5)"
      ],
      "execution_count": null,
      "outputs": []
    },
    {
      "cell_type": "code",
      "metadata": {
        "id": "bfk1LQcxCLFs"
      },
      "source": [
        "df_segmentados.shape"
      ],
      "execution_count": null,
      "outputs": []
    },
    {
      "cell_type": "code",
      "metadata": {
        "id": "Q4AGG6-XjTur"
      },
      "source": [
        "# renombramos columnas\n",
        "df_segmentados.rename(columns={'NUEVA ESTRUCTURA':'Region'}, inplace=True)\n",
        "df_segmentados.head(5)"
      ],
      "execution_count": null,
      "outputs": []
    },
    {
      "cell_type": "code",
      "metadata": {
        "id": "16OTZ3sjfaDb"
      },
      "source": [
        "# solicitamos informacion de la estructura del archivo\n",
        "df_segmentados.info()"
      ],
      "execution_count": null,
      "outputs": []
    },
    {
      "cell_type": "code",
      "metadata": {
        "id": "qU98s3E6_GfK"
      },
      "source": [
        "df_segmentados.describe()"
      ],
      "execution_count": null,
      "outputs": []
    },
    {
      "cell_type": "code",
      "metadata": {
        "id": "fhsB_T3ggB4i"
      },
      "source": [
        "# Vemos el Número de datos ausentes por columnas\n",
        "df_segmentados.isnull().sum().sort_values(ascending=False)"
      ],
      "execution_count": null,
      "outputs": []
    },
    {
      "cell_type": "code",
      "metadata": {
        "id": "ZUumATo2hdjC"
      },
      "source": [
        "# vemos el numero de nodos que fueron segmentados mas de una ves\n",
        "Nodos_segmentados=df_segmentados[\"Nodo\"].value_counts(ascending=False)#.tolist()\n",
        "Nodos_segmentados_masdedosveces=Nodos_segmentados[:10]\n",
        "print(Nodos_segmentados_masdedosveces)\n",
        "# plt.figure(figsize=(5,3))\n",
        "# plt.title('Nodos segmentados mas de una vez')\n",
        "# plt.xlabel('Numero de segmentaciones')\n",
        "# plt.ylabel('Nodos')\n",
        "# Nodos_segmentados_masdedosveces.plot.barh() "
      ],
      "execution_count": null,
      "outputs": []
    },
    {
      "cell_type": "code",
      "metadata": {
        "id": "qOEDY1dciuZU"
      },
      "source": [
        "# para selecionar por clase de  Nodo\n",
        "SelecionbyRegion=df_segmentados[df_segmentados[\"Nodo\"]==\"EMA\"]\n",
        "SelecionbyRegion"
      ],
      "execution_count": null,
      "outputs": []
    },
    {
      "cell_type": "code",
      "metadata": {
        "id": "A3qx_4Ivh5LX"
      },
      "source": [
        "# para selecionar por Region\n",
        "Selecionbynodo=df_segmentados[df_segmentados[\"Region\"]==\"REGION CENTRO\"]\n",
        "Selecionbynodo"
      ],
      "execution_count": null,
      "outputs": []
    },
    {
      "cell_type": "code",
      "metadata": {
        "id": "lEfEbfEFSpU2"
      },
      "source": [
        "# cuenata cuantas veces aparece x region \n",
        "df_segmentados['Region'].str.contains('CENTRO').value_counts()[True]"
      ],
      "execution_count": null,
      "outputs": []
    },
    {
      "cell_type": "code",
      "metadata": {
        "id": "fRA0dEr8heUV"
      },
      "source": [
        "# tabla de frecuencia de Nodos por Region\n",
        "Regiones_segmentadas=pd.value_counts(df_segmentados['Region'])#.keys().tolist()\n",
        "print(Regiones_segmentadas)\n",
        "print('Total de nodos por  Region', sum(Regiones_segmentadas) )"
      ],
      "execution_count": null,
      "outputs": []
    },
    {
      "cell_type": "code",
      "metadata": {
        "id": "Y6VSjjiy2NUu"
      },
      "source": [
        "# Gráfico de barras de Regiones\n",
        "plot = df_segmentados['Region'].value_counts().plot(kind='bar',\n",
        "                                            title='Regiones segementadas')"
      ],
      "execution_count": null,
      "outputs": []
    },
    {
      "cell_type": "code",
      "metadata": {
        "id": "4Zpk6Vrcpe1k"
      },
      "source": [
        "# tabla de frecuencia relativa de Regiones\n",
        "100 * df_segmentados['Region'].value_counts() / len(df_segmentados['Region'])"
      ],
      "execution_count": null,
      "outputs": []
    },
    {
      "cell_type": "code",
      "metadata": {
        "id": "zQYpc3EFnT5M"
      },
      "source": [
        "# tabla de frecuencia de Nodos por Mes\n",
        "segbymes=pd.value_counts(df_segmentados['Mes'])\n",
        "print(segbymes)\n",
        "print('Total nodos segmentados por mes', sum(segbymes))"
      ],
      "execution_count": null,
      "outputs": []
    },
    {
      "cell_type": "code",
      "metadata": {
        "id": "tBghXlAL1Z6F"
      },
      "source": [
        "# tabla de frecuencia relativa por Mes\n",
        "100 * df_segmentados['Mes'].value_counts() / len(df_segmentados['Mes'])"
      ],
      "execution_count": null,
      "outputs": []
    },
    {
      "cell_type": "code",
      "metadata": {
        "id": "fjrjXTkm2fxr"
      },
      "source": [
        "# Gráfico de barras de pasajeros del Titanic\n",
        "plot = df_segmentados['Mes'].value_counts().plot(kind='bar',\n",
        "                                            title='Meses segmentados')"
      ],
      "execution_count": null,
      "outputs": []
    },
    {
      "cell_type": "code",
      "metadata": {
        "id": "1omKz1c36G5H"
      },
      "source": [
        "# Tabla de contingencia Region / Mes\n",
        "pd.crosstab(index=df_segmentados['Region'],\n",
        "            columns=df_segmentados['Mes'], margins=True)"
      ],
      "execution_count": null,
      "outputs": []
    },
    {
      "cell_type": "code",
      "metadata": {
        "id": "_6C3Y_Ds7NID"
      },
      "source": [
        "# tabla de contingencia en porcentajes relativos total\n",
        "pd.crosstab(index=df_segmentados['Region'], columns=df_segmentados['Mes'],\n",
        "            margins=True).apply(lambda r: r/len(df_segmentados) *100,\n",
        "                                axis=1)"
      ],
      "execution_count": null,
      "outputs": []
    },
    {
      "cell_type": "markdown",
      "metadata": {
        "id": "yvmk8jl98QEk"
      },
      "source": [
        "Podemos ver que el 51.02% porciento de los nodos fueron segmentados en la region centro y de este porcentaje el 5.8% fueron en abril, 4.2% en enero, 5.2% en febrero, 7.4 en marzo y asi"
      ]
    },
    {
      "cell_type": "code",
      "metadata": {
        "id": "bB3YCyiY9VOh"
      },
      "source": [
        "# Gráfico de barras de meses por region\n",
        "plot = pd.crosstab(index=df_segmentados['Region'],\n",
        "            columns=df_segmentados['Mes']).apply(lambda r: r/r.sum() *100,\n",
        "                                              axis=1).plot(kind='bar')"
      ],
      "execution_count": null,
      "outputs": []
    },
    {
      "cell_type": "code",
      "metadata": {
        "id": "cgzEmrFc9vHW"
      },
      "source": [
        "# Gráfico de barras de region por meses\n",
        "plot = pd.crosstab(index=df_segmentados['Mes'],\n",
        "            columns=df_segmentados['Region']).apply(lambda r: r/r.sum() *100,\n",
        "                                              axis=1).plot(kind='bar')"
      ],
      "execution_count": null,
      "outputs": []
    },
    {
      "cell_type": "code",
      "metadata": {
        "id": "19x203txg2_6"
      },
      "source": [
        "# plot = df_segmentados['Nodo'].plot(figsize=(10, 8))"
      ],
      "execution_count": null,
      "outputs": []
    }
  ]
}